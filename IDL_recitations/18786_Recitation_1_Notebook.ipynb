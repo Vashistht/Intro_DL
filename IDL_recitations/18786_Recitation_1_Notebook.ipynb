{
  "cells": [
    {
      "cell_type": "code",
      "execution_count": null,
      "metadata": {
        "colab": {
          "base_uri": "https://localhost:8080/"
        },
        "id": "KJEth2BkDoeJ",
        "outputId": "514f511d-28a1-4a5a-9450-982df10d1a03"
      },
      "outputs": [
        {
          "output_type": "stream",
          "name": "stdout",
          "text": [
            "Requirement already satisfied: torch in /usr/local/lib/python3.10/dist-packages (2.1.0+cu121)\n",
            "Requirement already satisfied: filelock in /usr/local/lib/python3.10/dist-packages (from torch) (3.13.1)\n",
            "Requirement already satisfied: typing-extensions in /usr/local/lib/python3.10/dist-packages (from torch) (4.5.0)\n",
            "Requirement already satisfied: sympy in /usr/local/lib/python3.10/dist-packages (from torch) (1.12)\n",
            "Requirement already satisfied: networkx in /usr/local/lib/python3.10/dist-packages (from torch) (3.2.1)\n",
            "Requirement already satisfied: jinja2 in /usr/local/lib/python3.10/dist-packages (from torch) (3.1.3)\n",
            "Requirement already satisfied: fsspec in /usr/local/lib/python3.10/dist-packages (from torch) (2023.6.0)\n",
            "Requirement already satisfied: triton==2.1.0 in /usr/local/lib/python3.10/dist-packages (from torch) (2.1.0)\n",
            "Requirement already satisfied: MarkupSafe>=2.0 in /usr/local/lib/python3.10/dist-packages (from jinja2->torch) (2.1.3)\n",
            "Requirement already satisfied: mpmath>=0.19 in /usr/local/lib/python3.10/dist-packages (from sympy->torch) (1.3.0)\n"
          ]
        }
      ],
      "source": [
        "!pip install torch"
      ]
    },
    {
      "cell_type": "code",
      "execution_count": null,
      "metadata": {
        "id": "TFGEMbH34Lxy"
      },
      "outputs": [],
      "source": [
        "import torch"
      ]
    },
    {
      "cell_type": "code",
      "execution_count": null,
      "metadata": {
        "colab": {
          "base_uri": "https://localhost:8080/"
        },
        "id": "Uvcs92AiAac7",
        "outputId": "68934eaf-0bf2-4c2e-b6ac-6c14fda9d75e"
      },
      "outputs": [
        {
          "output_type": "stream",
          "name": "stdout",
          "text": [
            "True\n"
          ]
        }
      ],
      "source": [
        "# Check to see if your system has gpu\n",
        "device = torch.cuda.is_available()\n",
        "print(device) # prints True if gpu is available, else False"
      ]
    },
    {
      "cell_type": "markdown",
      "metadata": {
        "id": "2Z6Qy7hH2iEr"
      },
      "source": [
        "### Tensor Creation"
      ]
    },
    {
      "cell_type": "code",
      "execution_count": null,
      "metadata": {
        "colab": {
          "base_uri": "https://localhost:8080/"
        },
        "id": "Yqgicxmu2Z5X",
        "outputId": "a1504cf3-18e0-466d-c079-ff22ce274940"
      },
      "outputs": [
        {
          "output_type": "stream",
          "name": "stdout",
          "text": [
            "tensor([[1., 1., 1.],\n",
            "        [1., 1., 1.]]) \n",
            "\n",
            "tensor([[0., 0., 0.],\n",
            "        [0., 0., 0.]]) \n",
            "\n",
            "tensor([[1., 0., 0.],\n",
            "        [0., 1., 0.],\n",
            "        [0., 0., 1.]]) \n",
            "\n",
            "tensor([[0.5267, 0.9558, 0.6494, 0.3169],\n",
            "        [0.7270, 0.3174, 0.6088, 0.6846],\n",
            "        [0.3158, 0.6706, 0.6030, 0.1666]]) \n",
            "\n",
            "tensor([0, 1, 2, 3, 4, 5, 6])\n"
          ]
        }
      ],
      "source": [
        "t1 = torch.ones(size=(2,3))       # Tensors of ones of dimension 5x3\n",
        "t2 = torch.zeros(size=(2,3))      # Tensors of zeros of dimension 5x3\n",
        "t3 = torch.eye(3)                 # Identity matrix tensor of size 3\n",
        "t4 = torch.rand(size=(3,4))       # Tensor of Uniformly distrubuted random numbers [0, 1) of size 3x4\n",
        "t5 = torch.arange(7)              # A 1D tensor of integers [0, n-1]\n",
        "\n",
        "print(t1,\"\\n\")\n",
        "print(t2,\"\\n\")\n",
        "print(t3,\"\\n\")\n",
        "print(t4,\"\\n\")\n",
        "print(t5)"
      ]
    },
    {
      "cell_type": "markdown",
      "metadata": {
        "id": "rKnEOX1jnyH8"
      },
      "source": [
        "#### Pushing the Data to Device\n",
        "\n",
        "Before we deal with the data in any way, if it is pushed on to the device, which, in most cases, is going to be the GPU, helps in the execution speed significantly as it saves the time needed to fetch the data from the server to the GPU repetitively."
      ]
    },
    {
      "cell_type": "code",
      "execution_count": null,
      "metadata": {
        "colab": {
          "base_uri": "https://localhost:8080/"
        },
        "id": "r93AOp_-nuhO",
        "outputId": "91225084-710b-4a5d-bc06-64404039657d"
      },
      "outputs": [
        {
          "output_type": "stream",
          "name": "stdout",
          "text": [
            "cuda\n"
          ]
        }
      ],
      "source": [
        "device = torch.device(\"cuda\" if torch.cuda.is_available() else \"cpu\")\n",
        "print(device)\n",
        "\n",
        "# Pushing the data to device\n",
        "tensor = torch.ones(size=(2,3))\n",
        "tensor = tensor.to(device)\n",
        "\n",
        "# in case we have the data pushed on to the cuda, use tensor.cuda.DoubleTensor for the tensor conversion/casting"
      ]
    },
    {
      "cell_type": "markdown",
      "metadata": {
        "id": "Vgo3dkKT6lky"
      },
      "source": [
        "## Accessing and Modifying Tensors\n",
        "**NOTE:** Tensor values can easily be modified by using the accessing method, similar to numpy to select the desired section of the tensor to be modified\n",
        "\n",
        "### Tensor indexing"
      ]
    },
    {
      "cell_type": "code",
      "execution_count": null,
      "metadata": {
        "colab": {
          "base_uri": "https://localhost:8080/"
        },
        "id": "7vlpFvSH6sSQ",
        "outputId": "a19bdcd8-74de-4039-ed1b-d131dcbaf661"
      },
      "outputs": [
        {
          "output_type": "stream",
          "name": "stdout",
          "text": [
            "Original Tensor t: \n",
            " tensor([[[0.5790, 0.8357, 0.6766, 0.7671],\n",
            "         [0.6737, 0.4272, 0.1614, 0.2119],\n",
            "         [0.7833, 0.7023, 0.3235, 0.6283]],\n",
            "\n",
            "        [[0.5599, 0.6473, 0.6313, 0.8300],\n",
            "         [0.8150, 0.7023, 0.2754, 0.7235],\n",
            "         [0.0547, 0.4414, 0.2659, 0.3734]]]) \n",
            "\n",
            "t[0][0][0]\n",
            " tensor(0.5790) \n",
            "\n",
            "t[1,2,3]\n",
            " tensor(0.3734) \n",
            "\n",
            "t[-1,-1][-1]\n",
            " tensor(0.3734) \n",
            "\n"
          ]
        }
      ],
      "source": [
        "# Basic\n",
        "t = torch.rand(size=(2,3,4)) # 3D tensor\n",
        "\n",
        "print('Original Tensor t: \\n', t, \"\\n\")\n",
        "\n",
        "# Some valid ways of accessing individual elements in the tensor\n",
        "print('t[0][0][0]\\n', t[0][0][0],\"\\n\")\n",
        "print('t[1,2,3]\\n', t[1,2,3],\"\\n\")\n",
        "print('t[-1,-1][-1]\\n', t[-1,-1][-1],\"\\n\")"
      ]
    },
    {
      "cell_type": "markdown",
      "metadata": {
        "id": "MvLweli_qZ5t"
      },
      "source": [
        "### Tensor slicing"
      ]
    },
    {
      "cell_type": "code",
      "execution_count": null,
      "metadata": {
        "colab": {
          "base_uri": "https://localhost:8080/"
        },
        "id": "5sEn-VeyqZ5t",
        "outputId": "f7ed581e-eec9-46d3-f43e-4dd6640e3763"
      },
      "outputs": [
        {
          "output_type": "stream",
          "name": "stdout",
          "text": [
            "Original Tensor t:\n",
            "tensor([[[0.5790, 0.8357, 0.6766, 0.7671],\n",
            "         [0.6737, 0.4272, 0.1614, 0.2119],\n",
            "         [0.7833, 0.7023, 0.3235, 0.6283]],\n",
            "\n",
            "        [[0.5599, 0.6473, 0.6313, 0.8300],\n",
            "         [0.8150, 0.7023, 0.2754, 0.7235],\n",
            "         [0.0547, 0.4414, 0.2659, 0.3734]]])\n",
            "\n",
            "\n",
            "t[0]\n",
            " tensor([[0.5790, 0.8357, 0.6766, 0.7671],\n",
            "        [0.6737, 0.4272, 0.1614, 0.2119],\n",
            "        [0.7833, 0.7023, 0.3235, 0.6283]])\n",
            "t[:1]\n",
            " tensor([[[0.5790, 0.8357, 0.6766, 0.7671],\n",
            "         [0.6737, 0.4272, 0.1614, 0.2119],\n",
            "         [0.7833, 0.7023, 0.3235, 0.6283]]])\n",
            "t[:,1]\n",
            " tensor([[0.6737, 0.4272, 0.1614, 0.2119],\n",
            "        [0.8150, 0.7023, 0.2754, 0.7235]])\n",
            "t[:,:,3]\n",
            " tensor([[0.7671, 0.2119, 0.6283],\n",
            "        [0.8300, 0.7235, 0.3734]])\n",
            "t[:,:,-2:]\n",
            " tensor([[[0.6766, 0.7671],\n",
            "         [0.1614, 0.2119],\n",
            "         [0.3235, 0.6283]],\n",
            "\n",
            "        [[0.6313, 0.8300],\n",
            "         [0.2754, 0.7235],\n",
            "         [0.2659, 0.3734]]])\n"
          ]
        }
      ],
      "source": [
        "print('Original Tensor t:')\n",
        "print(t)\n",
        "print('\\n')\n",
        "\n",
        "print('t[0]\\n', t[0])\n",
        "print('t[:1]\\n', t[:1])\n",
        "print('t[:,1]\\n', t[:,1])\n",
        "print('t[:,:,3]\\n', t[:,:,3])\n",
        "print('t[:,:,-2:]\\n', t[:,:,-2:])"
      ]
    },
    {
      "cell_type": "markdown",
      "metadata": {
        "id": "8aiKETU39GAP"
      },
      "source": [
        "## Pivoting and Reshaping tensors\n",
        "In the following section we cover common methods used to pivot and reshape tensors, namely:\n",
        "1. Flatten\n",
        "1. Squeeze\n",
        "1. Reshape\n",
        "1. View\n",
        "1. Transpose\n",
        "1. Permute"
      ]
    },
    {
      "cell_type": "markdown",
      "metadata": {
        "id": "HSN_4hUCvoT7"
      },
      "source": [
        "### Flatten: Changing a multi-dimensional tensors to a single dimension"
      ]
    },
    {
      "cell_type": "code",
      "execution_count": null,
      "metadata": {
        "colab": {
          "base_uri": "https://localhost:8080/"
        },
        "id": "UJhvVufa9wxu",
        "outputId": "4f4fd0de-bff1-4263-b9ec-c24a314f28f7"
      },
      "outputs": [
        {
          "output_type": "stream",
          "name": "stdout",
          "text": [
            "tensor([[[0.3944, 0.8222, 0.2239, 0.0351, 0.8898],\n",
            "         [0.9432, 0.8162, 0.7160, 0.1421, 0.3417],\n",
            "         [0.5630, 0.3616, 0.0347, 0.8525, 0.4625],\n",
            "         [0.0159, 0.2123, 0.7260, 0.4774, 0.7681]],\n",
            "\n",
            "        [[0.1501, 0.8351, 0.9170, 0.1552, 0.2803],\n",
            "         [0.9281, 0.2844, 0.4222, 0.7128, 0.2335],\n",
            "         [0.4224, 0.1079, 0.3076, 0.3214, 0.2633],\n",
            "         [0.6970, 0.8646, 0.4980, 0.2850, 0.8689]],\n",
            "\n",
            "        [[0.0924, 0.5944, 0.3891, 0.4880, 0.8456],\n",
            "         [0.9254, 0.9646, 0.3120, 0.7952, 0.6050],\n",
            "         [0.0385, 0.3049, 0.1060, 0.4799, 0.8741],\n",
            "         [0.5854, 0.6285, 0.3492, 0.9502, 0.1278]]])\n",
            "torch.Size([3, 4, 5])\n",
            "tensor([0.3944, 0.8222, 0.2239, 0.0351, 0.8898, 0.9432, 0.8162, 0.7160, 0.1421,\n",
            "        0.3417, 0.5630, 0.3616, 0.0347, 0.8525, 0.4625, 0.0159, 0.2123, 0.7260,\n",
            "        0.4774, 0.7681, 0.1501, 0.8351, 0.9170, 0.1552, 0.2803, 0.9281, 0.2844,\n",
            "        0.4222, 0.7128, 0.2335, 0.4224, 0.1079, 0.3076, 0.3214, 0.2633, 0.6970,\n",
            "        0.8646, 0.4980, 0.2850, 0.8689, 0.0924, 0.5944, 0.3891, 0.4880, 0.8456,\n",
            "        0.9254, 0.9646, 0.3120, 0.7952, 0.6050, 0.0385, 0.3049, 0.1060, 0.4799,\n",
            "        0.8741, 0.5854, 0.6285, 0.3492, 0.9502, 0.1278])\n",
            "torch.Size([60])\n"
          ]
        }
      ],
      "source": [
        "t = torch.rand(size=(3,4,5)) # 3D tensor\n",
        "print(t)\n",
        "print(t.shape)               # 3x4x5\n",
        "print(t.flatten())\n",
        "print(t.flatten().shape)     # 60"
      ]
    },
    {
      "cell_type": "markdown",
      "metadata": {
        "id": "foyzFJ0vYo7l"
      },
      "source": [
        "#### Unsqueeze\n",
        "With unsqueeze, you can add an extra dimension to a tensor. It will be helpful when you need an extra dimension as the 'batch size' in deep neural networks"
      ]
    },
    {
      "cell_type": "code",
      "execution_count": null,
      "metadata": {
        "colab": {
          "base_uri": "https://localhost:8080/"
        },
        "id": "7lFEAkF1Ah8U",
        "outputId": "15b9e11e-6751-45c4-b9ff-20f0ec4e52fa"
      },
      "outputs": [
        {
          "output_type": "stream",
          "name": "stdout",
          "text": [
            "tensor([[[[0.3225, 0.7255, 0.9254, 0.3215, 0.9387],\n",
            "          [0.4475, 0.8461, 0.3826, 0.9327, 0.7372],\n",
            "          [0.7489, 0.4121, 0.6856, 0.9030, 0.2835],\n",
            "          [0.4789, 0.6807, 0.5737, 0.6033, 0.7014]],\n",
            "\n",
            "         [[0.4841, 0.2558, 0.0480, 0.3342, 0.9883],\n",
            "          [0.3018, 0.4091, 0.0266, 0.6619, 0.8940],\n",
            "          [0.6933, 0.9932, 0.2695, 0.8372, 0.7449],\n",
            "          [0.4759, 0.5227, 0.0032, 0.6577, 0.8936]],\n",
            "\n",
            "         [[0.8290, 0.3613, 0.3132, 0.3181, 0.2365],\n",
            "          [0.6944, 0.6509, 0.7072, 0.1913, 0.7504],\n",
            "          [0.3070, 0.4127, 0.9654, 0.5993, 0.6281],\n",
            "          [0.8023, 0.4698, 0.5616, 0.4668, 0.6333]]]])\n",
            "Original tensor shape torch.Size([3, 4, 5])\n",
            "Unsequeeze along axis 0 torch.Size([1, 3, 4, 5])\n",
            "\n",
            "\n",
            "tensor([[[[[0.3225, 0.7255, 0.9254, 0.3215, 0.9387],\n",
            "           [0.4475, 0.8461, 0.3826, 0.9327, 0.7372],\n",
            "           [0.7489, 0.4121, 0.6856, 0.9030, 0.2835],\n",
            "           [0.4789, 0.6807, 0.5737, 0.6033, 0.7014]],\n",
            "\n",
            "          [[0.4841, 0.2558, 0.0480, 0.3342, 0.9883],\n",
            "           [0.3018, 0.4091, 0.0266, 0.6619, 0.8940],\n",
            "           [0.6933, 0.9932, 0.2695, 0.8372, 0.7449],\n",
            "           [0.4759, 0.5227, 0.0032, 0.6577, 0.8936]],\n",
            "\n",
            "          [[0.8290, 0.3613, 0.3132, 0.3181, 0.2365],\n",
            "           [0.6944, 0.6509, 0.7072, 0.1913, 0.7504],\n",
            "           [0.3070, 0.4127, 0.9654, 0.5993, 0.6281],\n",
            "           [0.8023, 0.4698, 0.5616, 0.4668, 0.6333]]]]])\n",
            "ts.unsqueeze(0).shape: torch.Size([1, 1, 3, 4, 5])\n",
            "\n",
            "\n",
            "tensor([[[[0.3225, 0.7255, 0.9254, 0.3215, 0.9387],\n",
            "          [0.4475, 0.8461, 0.3826, 0.9327, 0.7372],\n",
            "          [0.7489, 0.4121, 0.6856, 0.9030, 0.2835],\n",
            "          [0.4789, 0.6807, 0.5737, 0.6033, 0.7014]]],\n",
            "\n",
            "\n",
            "        [[[0.4841, 0.2558, 0.0480, 0.3342, 0.9883],\n",
            "          [0.3018, 0.4091, 0.0266, 0.6619, 0.8940],\n",
            "          [0.6933, 0.9932, 0.2695, 0.8372, 0.7449],\n",
            "          [0.4759, 0.5227, 0.0032, 0.6577, 0.8936]]],\n",
            "\n",
            "\n",
            "        [[[0.8290, 0.3613, 0.3132, 0.3181, 0.2365],\n",
            "          [0.6944, 0.6509, 0.7072, 0.1913, 0.7504],\n",
            "          [0.3070, 0.4127, 0.9654, 0.5993, 0.6281],\n",
            "          [0.8023, 0.4698, 0.5616, 0.4668, 0.6333]]]])\n",
            "Unsequeeze along axis 1 torch.Size([3, 1, 4, 5])\n",
            "\n",
            "\n"
          ]
        }
      ],
      "source": [
        "t = torch.rand(size=(3,4,5))\n",
        "ts = t.unsqueeze(dim=0)   # unsequeeze along axis 0\n",
        "ts2 = t.unsqueeze(1)  # unsequeeze along axis 1\n",
        "\n",
        "print(ts) # A new dimension is added while all the following dimension are incremented by 1 ( positionally)\n",
        "print('Original tensor shape',t.shape)\n",
        "print('Unsequeeze along axis 0',ts.shape)\n",
        "print('\\n')\n",
        "\n",
        "print(ts.unsqueeze(0)) # Can apply this operation as many times as required\n",
        "print('ts.unsqueeze(0).shape:',ts.unsqueeze(0).shape)\n",
        "print('\\n')\n",
        "\n",
        "print(ts2) # Unsqueeze can also be applied to other intermediate dimensions\n",
        "print('Unsequeeze along axis 1',ts2.shape)\n",
        "print('\\n')"
      ]
    },
    {
      "cell_type": "markdown",
      "metadata": {
        "id": "xkdoihF4YlnP"
      },
      "source": [
        "#### Squeeze\n",
        "\n",
        "Remove empty dimension(s) from tensor"
      ]
    },
    {
      "cell_type": "code",
      "execution_count": null,
      "metadata": {
        "colab": {
          "base_uri": "https://localhost:8080/"
        },
        "id": "Zh1OxOIOYg--",
        "outputId": "b54eca3d-e975-401e-8582-807c0ac91db0"
      },
      "outputs": [
        {
          "output_type": "stream",
          "name": "stdout",
          "text": [
            "tensor([[[0.3225, 0.7255, 0.9254, 0.3215, 0.9387],\n",
            "         [0.4475, 0.8461, 0.3826, 0.9327, 0.7372],\n",
            "         [0.7489, 0.4121, 0.6856, 0.9030, 0.2835],\n",
            "         [0.4789, 0.6807, 0.5737, 0.6033, 0.7014]],\n",
            "\n",
            "        [[0.4841, 0.2558, 0.0480, 0.3342, 0.9883],\n",
            "         [0.3018, 0.4091, 0.0266, 0.6619, 0.8940],\n",
            "         [0.6933, 0.9932, 0.2695, 0.8372, 0.7449],\n",
            "         [0.4759, 0.5227, 0.0032, 0.6577, 0.8936]],\n",
            "\n",
            "        [[0.8290, 0.3613, 0.3132, 0.3181, 0.2365],\n",
            "         [0.6944, 0.6509, 0.7072, 0.1913, 0.7504],\n",
            "         [0.3070, 0.4127, 0.9654, 0.5993, 0.6281],\n",
            "         [0.8023, 0.4698, 0.5616, 0.4668, 0.6333]]])\n",
            "ts.squeeze(0).shape: torch.Size([3, 4, 5])\n",
            "\n",
            "\n",
            "torch.Size([1, 3, 4, 5])\n",
            "ts2.squeeze(1).shape: torch.Size([3, 4, 5])\n",
            "\n",
            "\n"
          ]
        }
      ],
      "source": [
        "print(ts.squeeze(0))\n",
        "print('ts.squeeze(0).shape:',ts.squeeze(0).shape)\n",
        "print('\\n')\n",
        "\n",
        "print(ts.shape)\n",
        "\n",
        "# print(ts2.squeeze(1))\n",
        "print('ts2.squeeze(1).shape:',ts.squeeze(0).shape)\n",
        "print('\\n')\n",
        "\n",
        "# print(t.squeeze(0)) squeezing dimensions that have multiple elements have no impacts on the tensor\n",
        "# print(ts.squeeze(1)) squeezing dimensions that have multiple elements have no impacts on the tensor"
      ]
    },
    {
      "cell_type": "markdown",
      "metadata": {
        "id": "6OHGcIBww4i3"
      },
      "source": [
        "### Reshape\n",
        "Change the shape of a tensor"
      ]
    },
    {
      "cell_type": "code",
      "execution_count": null,
      "metadata": {
        "colab": {
          "base_uri": "https://localhost:8080/"
        },
        "id": "BFBm16dy_oml",
        "outputId": "d669fa84-b23a-4c3c-8989-9cb1358273a6"
      },
      "outputs": [
        {
          "output_type": "stream",
          "name": "stdout",
          "text": [
            "Orginal tensor shape:  torch.Size([3, 4, 5])\n",
            "torch.Size([10, 6]) torch.Size([12, 5])\n",
            "tensor([[0.3225, 0.7255, 0.9254, 0.3215, 0.9387],\n",
            "        [0.4475, 0.8461, 0.3826, 0.9327, 0.7372],\n",
            "        [0.7489, 0.4121, 0.6856, 0.9030, 0.2835],\n",
            "        [0.4789, 0.6807, 0.5737, 0.6033, 0.7014],\n",
            "        [0.4841, 0.2558, 0.0480, 0.3342, 0.9883],\n",
            "        [0.3018, 0.4091, 0.0266, 0.6619, 0.8940],\n",
            "        [0.6933, 0.9932, 0.2695, 0.8372, 0.7449],\n",
            "        [0.4759, 0.5227, 0.0032, 0.6577, 0.8936],\n",
            "        [0.8290, 0.3613, 0.3132, 0.3181, 0.2365],\n",
            "        [0.6944, 0.6509, 0.7072, 0.1913, 0.7504],\n",
            "        [0.3070, 0.4127, 0.9654, 0.5993, 0.6281],\n",
            "        [0.8023, 0.4698, 0.5616, 0.4668, 0.6333]]) torch.Size([12, 5])\n",
            "tensor([[[0.3225, 0.7255, 0.9254],\n",
            "         [0.3215, 0.9387, 0.4475],\n",
            "         [0.8461, 0.3826, 0.9327],\n",
            "         [0.7372, 0.7489, 0.4121]],\n",
            "\n",
            "        [[0.6856, 0.9030, 0.2835],\n",
            "         [0.4789, 0.6807, 0.5737],\n",
            "         [0.6033, 0.7014, 0.4841],\n",
            "         [0.2558, 0.0480, 0.3342]],\n",
            "\n",
            "        [[0.9883, 0.3018, 0.4091],\n",
            "         [0.0266, 0.6619, 0.8940],\n",
            "         [0.6933, 0.9932, 0.2695],\n",
            "         [0.8372, 0.7449, 0.4759]],\n",
            "\n",
            "        [[0.5227, 0.0032, 0.6577],\n",
            "         [0.8936, 0.8290, 0.3613],\n",
            "         [0.3132, 0.3181, 0.2365],\n",
            "         [0.6944, 0.6509, 0.7072]],\n",
            "\n",
            "        [[0.1913, 0.7504, 0.3070],\n",
            "         [0.4127, 0.9654, 0.5993],\n",
            "         [0.6281, 0.8023, 0.4698],\n",
            "         [0.5616, 0.4668, 0.6333]]]) torch.Size([5, 4, 3])\n",
            "tensor([0.3225, 0.7255, 0.9254, 0.3215, 0.9387, 0.4475, 0.8461, 0.3826, 0.9327,\n",
            "        0.7372, 0.7489, 0.4121, 0.6856, 0.9030, 0.2835, 0.4789, 0.6807, 0.5737,\n",
            "        0.6033, 0.7014, 0.4841, 0.2558, 0.0480, 0.3342, 0.9883, 0.3018, 0.4091,\n",
            "        0.0266, 0.6619, 0.8940, 0.6933, 0.9932, 0.2695, 0.8372, 0.7449, 0.4759,\n",
            "        0.5227, 0.0032, 0.6577, 0.8936, 0.8290, 0.3613, 0.3132, 0.3181, 0.2365,\n",
            "        0.6944, 0.6509, 0.7072, 0.1913, 0.7504, 0.3070, 0.4127, 0.9654, 0.5993,\n",
            "        0.6281, 0.8023, 0.4698, 0.5616, 0.4668, 0.6333]) torch.Size([60])\n"
          ]
        }
      ],
      "source": [
        "print('Orginal tensor shape: ', t.shape)\n",
        "print(t.reshape((-1,6)).shape, t.reshape((12,5)).shape)\n",
        "print(t.reshape(12,-1), t.reshape(12,-1).shape) # Can use -1 to specify one of the dimensions which is automatically inferred based on the elements in other dimensions\n",
        "print(t.reshape(5,4,3), t.reshape(5,4,3).shape)\n",
        "print(t.reshape(-1), t.reshape(-1).shape)\n",
        "\n",
        "# # Note:\n",
        "# print(t.reshape(12,6)) This command won't work as the number of elements need to be consistent with the source tensor"
      ]
    },
    {
      "cell_type": "markdown",
      "metadata": {
        "id": "l0C5YLGUxi7i"
      },
      "source": [
        "### Transpose\n",
        "This operation is primarily a generalization of the regular matrix transpose"
      ]
    },
    {
      "cell_type": "code",
      "execution_count": null,
      "metadata": {
        "colab": {
          "base_uri": "https://localhost:8080/"
        },
        "id": "3tdRTafzAfvD",
        "outputId": "aef4bb9b-0b19-4d70-8a04-b22bdbf45fba"
      },
      "outputs": [
        {
          "output_type": "stream",
          "name": "stdout",
          "text": [
            "torch.Size([2, 3, 4])\n",
            "tensor([[[  1,   2,   3,   4],\n",
            "         [  5,   6,   7,   8],\n",
            "         [  9,  10,  11,  12]],\n",
            "\n",
            "        [[ -1,  -2,  -3,  -4],\n",
            "         [ -5,  -6,  -7,  -8],\n",
            "         [ -9, -10, -11, -12]]])\n",
            "\n",
            "\n",
            "torch.Size([3, 2, 4])\n",
            "tensor([[[  1,   2,   3,   4],\n",
            "         [ -1,  -2,  -3,  -4]],\n",
            "\n",
            "        [[  5,   6,   7,   8],\n",
            "         [ -5,  -6,  -7,  -8]],\n",
            "\n",
            "        [[  9,  10,  11,  12],\n",
            "         [ -9, -10, -11, -12]]])\n",
            "\n",
            "\n",
            "torch.Size([4, 3, 2])\n",
            "tensor([[[  1,  -1],\n",
            "         [  5,  -5],\n",
            "         [  9,  -9]],\n",
            "\n",
            "        [[  2,  -2],\n",
            "         [  6,  -6],\n",
            "         [ 10, -10]],\n",
            "\n",
            "        [[  3,  -3],\n",
            "         [  7,  -7],\n",
            "         [ 11, -11]],\n",
            "\n",
            "        [[  4,  -4],\n",
            "         [  8,  -8],\n",
            "         [ 12, -12]]])\n",
            "\n",
            "\n"
          ]
        }
      ],
      "source": [
        "t = torch.tensor([[[1,2,3,4], [5,6,7,8], [9,10,11,12]],\n",
        "                  [[-1,-2,-3,-4], [-5,-6,-7,-8], [-9,-10,-11,-12]]])\n",
        "\n",
        "print(t.shape)\n",
        "print(t)\n",
        "print('\\n')\n",
        "\n",
        "print(t.transpose(0,1).shape)\n",
        "print(t.transpose(0,1))\n",
        "print('\\n')\n",
        "\n",
        "print(t.transpose(0,2).shape)\n",
        "print(t.transpose(0,2))\n",
        "print('\\n')"
      ]
    },
    {
      "cell_type": "markdown",
      "metadata": {
        "id": "vLQwsolqxofG"
      },
      "source": [
        "### Permute Tensor\n",
        "This operation allows the user to simultaneously reorder multiple dimensions unlike transpose which interchanges two dimensions only\n"
      ]
    },
    {
      "cell_type": "code",
      "execution_count": null,
      "metadata": {
        "colab": {
          "base_uri": "https://localhost:8080/"
        },
        "id": "b-xquTpxtr8A",
        "outputId": "3bd52c74-9788-46e0-d7db-0168262d770e"
      },
      "outputs": [
        {
          "output_type": "stream",
          "name": "stdout",
          "text": [
            "torch.Size([2, 3, 4])\n",
            "tensor([[[  1,   2,   3,   4],\n",
            "         [  5,   6,   7,   8],\n",
            "         [  9,  10,  11,  12]],\n",
            "\n",
            "        [[ -1,  -2,  -3,  -4],\n",
            "         [ -5,  -6,  -7,  -8],\n",
            "         [ -9, -10, -11, -12]]])\n",
            "\n",
            "\n",
            "torch.Size([3, 2, 4])\n",
            "tensor([[[  1,   2,   3,   4],\n",
            "         [ -1,  -2,  -3,  -4]],\n",
            "\n",
            "        [[  5,   6,   7,   8],\n",
            "         [ -5,  -6,  -7,  -8]],\n",
            "\n",
            "        [[  9,  10,  11,  12],\n",
            "         [ -9, -10, -11, -12]]])\n",
            "\n",
            "\n",
            "torch.Size([4, 2, 3])\n",
            "\n",
            "\n"
          ]
        }
      ],
      "source": [
        "t = torch.tensor([[[1,2,3,4], [5,6,7,8], [9,10,11,12]],\n",
        "                  [[-1,-2,-3,-4], [-5,-6,-7,-8], [-9,-10,-11,-12]]])\n",
        "\n",
        "print(t.shape)\n",
        "print(t)\n",
        "print('\\n')\n",
        "\n",
        "print(t.permute(1,0,2).shape)\n",
        "print(t.permute(1,0,2))\n",
        "print('\\n')\n",
        "\n",
        "print(t.permute(2,0,1).shape)\n",
        "# print(t.permute(1,2,0))\n",
        "print('\\n')"
      ]
    },
    {
      "cell_type": "markdown",
      "metadata": {
        "id": "o2SjC78OXA6V"
      },
      "source": [
        "## Combining Tensors\n",
        "1. Concatenate\n",
        "2. Stack\n",
        "3. Padding"
      ]
    },
    {
      "cell_type": "markdown",
      "metadata": {
        "id": "OQ040S1mx4Bq"
      },
      "source": [
        "### Concatenate"
      ]
    },
    {
      "cell_type": "markdown",
      "metadata": {
        "id": "u4LeWGnn-7VT"
      },
      "source": [
        "All the other dimensions except the dim we are concatenating over must must identical. ex: T1 -> 2,3,4. T2 -> 2,4,5 . We can concatenate over dim 1 but not other dim"
      ]
    },
    {
      "cell_type": "code",
      "execution_count": null,
      "metadata": {
        "colab": {
          "base_uri": "https://localhost:8080/"
        },
        "id": "wUnPorUTkTH2",
        "outputId": "a9ecc532-91b0-4fd7-c5b9-8a05078ab087"
      },
      "outputs": [
        {
          "output_type": "stream",
          "name": "stdout",
          "text": [
            "t1:\n",
            " tensor([[[0.3261, 0.6037, 0.6948, 0.7468],\n",
            "         [0.6198, 0.2580, 0.0562, 0.7886],\n",
            "         [0.8314, 0.6537, 0.0693, 0.9874]],\n",
            "\n",
            "        [[0.8043, 0.1971, 0.3704, 0.3924],\n",
            "         [0.6165, 0.7792, 0.4615, 0.7593],\n",
            "         [0.7506, 0.5382, 0.9393, 0.1836]]]) \n",
            "\n",
            "t2:\n",
            " tensor([[[0.4427, 0.8091, 0.7164, 0.9262],\n",
            "         [0.6127, 0.5886, 0.8655, 0.4438],\n",
            "         [0.9267, 0.3905, 0.5919, 0.7644]],\n",
            "\n",
            "        [[0.6218, 0.6886, 0.2830, 0.3222],\n",
            "         [0.4749, 0.7328, 0.1297, 0.8170],\n",
            "         [0.1371, 0.2127, 0.7259, 0.6870]]]) \n",
            "\n",
            "CONCATENATING TENSORS\n",
            "\n",
            "Concatenating two tensors along axis 1\n",
            "tensor([[[0.3261, 0.6037, 0.6948, 0.7468],\n",
            "         [0.6198, 0.2580, 0.0562, 0.7886],\n",
            "         [0.8314, 0.6537, 0.0693, 0.9874],\n",
            "         [0.4427, 0.8091, 0.7164, 0.9262],\n",
            "         [0.6127, 0.5886, 0.8655, 0.4438],\n",
            "         [0.9267, 0.3905, 0.5919, 0.7644]],\n",
            "\n",
            "        [[0.8043, 0.1971, 0.3704, 0.3924],\n",
            "         [0.6165, 0.7792, 0.4615, 0.7593],\n",
            "         [0.7506, 0.5382, 0.9393, 0.1836],\n",
            "         [0.6218, 0.6886, 0.2830, 0.3222],\n",
            "         [0.4749, 0.7328, 0.1297, 0.8170],\n",
            "         [0.1371, 0.2127, 0.7259, 0.6870]]])\n",
            "New Shape:  torch.Size([2, 6, 4])\n"
          ]
        }
      ],
      "source": [
        "t1 = torch.rand(size=(2,3,4))\n",
        "t2 = torch.rand(size=(2,3,4))\n",
        "\n",
        "print('t1:\\n', t1, \"\\n\")\n",
        "print('t2:\\n', t2, \"\\n\")\n",
        "\n",
        "print('CONCATENATING TENSORS\\n')\n",
        "\n",
        "print('Concatenating two tensors along axis 1')\n",
        "print(torch.cat([t1,t2],dim=1))\n",
        "print('New Shape: ', torch.cat([t1,t2],dim=1).shape)"
      ]
    },
    {
      "cell_type": "markdown",
      "metadata": {
        "id": "eSdHu7Mex9W6"
      },
      "source": [
        "### Tensor Stack\n",
        "This operation can be imagined as a combination of unsqueeze and cat."
      ]
    },
    {
      "cell_type": "code",
      "execution_count": null,
      "metadata": {
        "colab": {
          "base_uri": "https://localhost:8080/"
        },
        "id": "oruTiMZ8XQmJ",
        "outputId": "e0342b63-4dc2-4de4-dd97-1e9fc1399bdb"
      },
      "outputs": [
        {
          "output_type": "stream",
          "name": "stdout",
          "text": [
            "torch.Size([3, 4])\n",
            "tensor([[0.0041, 0.4110, 0.3762, 0.9214],\n",
            "        [0.2499, 0.6945, 0.9784, 0.9018],\n",
            "        [0.5090, 0.2300, 0.1448, 0.1233]])\n",
            "\n",
            "\n",
            "torch.Size([3, 4])\n",
            "tensor([[0.2752, 0.6179, 0.6308, 0.2440],\n",
            "        [0.8541, 0.3988, 0.3777, 0.6726],\n",
            "        [0.6730, 0.0730, 0.9488, 0.9730]])\n",
            "\n",
            "\n",
            "tensor([[[0.0041, 0.4110, 0.3762, 0.9214],\n",
            "         [0.2499, 0.6945, 0.9784, 0.9018],\n",
            "         [0.5090, 0.2300, 0.1448, 0.1233]],\n",
            "\n",
            "        [[0.2752, 0.6179, 0.6308, 0.2440],\n",
            "         [0.8541, 0.3988, 0.3777, 0.6726],\n",
            "         [0.6730, 0.0730, 0.9488, 0.9730]]])\n",
            "New Shape: torch.Size([2, 3, 4]) \n",
            "\n",
            "tensor([[[0.0041, 0.4110, 0.3762, 0.9214],\n",
            "         [0.2752, 0.6179, 0.6308, 0.2440]],\n",
            "\n",
            "        [[0.2499, 0.6945, 0.9784, 0.9018],\n",
            "         [0.8541, 0.3988, 0.3777, 0.6726]],\n",
            "\n",
            "        [[0.5090, 0.2300, 0.1448, 0.1233],\n",
            "         [0.6730, 0.0730, 0.9488, 0.9730]]])\n",
            "New Shape: torch.Size([3, 2, 4]) \n",
            "\n",
            "tensor([[[0.0041, 0.2752],\n",
            "         [0.4110, 0.6179],\n",
            "         [0.3762, 0.6308],\n",
            "         [0.9214, 0.2440]],\n",
            "\n",
            "        [[0.2499, 0.8541],\n",
            "         [0.6945, 0.3988],\n",
            "         [0.9784, 0.3777],\n",
            "         [0.9018, 0.6726]],\n",
            "\n",
            "        [[0.5090, 0.6730],\n",
            "         [0.2300, 0.0730],\n",
            "         [0.1448, 0.9488],\n",
            "         [0.1233, 0.9730]]])\n",
            "New Shape: torch.Size([3, 4, 2]) \n",
            "\n"
          ]
        }
      ],
      "source": [
        "t1 = torch.rand(size=(3,4))\n",
        "t2 = torch.rand(size=(3,4))\n",
        "\n",
        "print(t1.shape)\n",
        "print(t1)\n",
        "print('\\n')\n",
        "\n",
        "print(t2.shape)\n",
        "print(t2)\n",
        "print('\\n')\n",
        "\n",
        "\n",
        "print(torch.stack([t1,t2],dim=0)) #(3, 4) --> (1, 3, 4) --> (N, 3, 4)\n",
        "print(\"New Shape:\", torch.stack([t1,t2],dim=0).shape, '\\n')\n",
        "\n",
        "print(torch.stack([t1,t2],dim=1)) #(3, 4) --> (3, 1, 4) --> (3, N, 4)\n",
        "print(\"New Shape:\", torch.stack([t1,t2],dim=1).shape, '\\n')\n",
        "\n",
        "print(torch.stack([t1,t2],dim=2)) #(3, 4) --> (3, 4, 1) --> (3, 4, N)\n",
        "print(\"New Shape:\", torch.stack([t1,t2],dim=2).shape, '\\n')"
      ]
    },
    {
      "cell_type": "markdown",
      "metadata": {
        "id": "Z-Y-SWH1ykw6"
      },
      "source": [
        "### Tensor Padding"
      ]
    },
    {
      "cell_type": "code",
      "execution_count": null,
      "metadata": {
        "colab": {
          "base_uri": "https://localhost:8080/"
        },
        "id": "qbkTIf3Dnz1x",
        "outputId": "1bae3cbd-a5ec-4478-f7f5-50e5d513c9f8"
      },
      "outputs": [
        {
          "output_type": "stream",
          "name": "stdout",
          "text": [
            "tensor([[0, 0, 0, 0, 0, 0, 0, 0],\n",
            "        [0, 0, 1, 2, 3, 4, 0, 0],\n",
            "        [0, 0, 1, 2, 3, 4, 0, 0],\n",
            "        [0, 0, 1, 2, 3, 4, 0, 0],\n",
            "        [0, 0, 1, 2, 3, 4, 0, 0],\n",
            "        [0, 0, 0, 0, 0, 0, 0, 0],\n",
            "        [0, 0, 0, 0, 0, 0, 0, 0]])\n"
          ]
        }
      ],
      "source": [
        "from torch.nn import functional as F\n",
        "\n",
        "x = torch.tensor([[1,2,3,4],\n",
        "                 [1,2,3,4],\n",
        "                 [1,2,3,4],\n",
        "                 [1,2,3,4]])\n",
        "\n",
        "pad_left   = 2\n",
        "pad_right  = 2\n",
        "pad_top    = 1\n",
        "pad_bottom = 2\n",
        "\n",
        "x_pad = F.pad(x, (pad_left,pad_right,pad_top,pad_bottom), mode = 'constant', value=0)\n",
        "\n",
        "print(x_pad)"
      ]
    },
    {
      "cell_type": "markdown",
      "metadata": {
        "id": "LU1a6CgxiHwt"
      },
      "source": [
        "## Mathematical Operations\n",
        "1. Point-wise/Element-wise operations\n",
        "1. Redution operations\n",
        "1. Comparison operations\n",
        "1. Vector/Matrix operations"
      ]
    },
    {
      "cell_type": "markdown",
      "metadata": {
        "id": "l49umlqay-Zd"
      },
      "source": [
        "### Point-wise/Element-wise operations\n",
        "Similar to numpy arrays, torch offers all the basic mathematical operations, we list some of the most commonly used operations here"
      ]
    },
    {
      "cell_type": "markdown",
      "metadata": {
        "id": "WB1r8ZB8Mbcx"
      },
      "source": [
        "Initialize tensors"
      ]
    },
    {
      "cell_type": "code",
      "execution_count": null,
      "metadata": {
        "colab": {
          "base_uri": "https://localhost:8080/"
        },
        "id": "HHks6PQ6MZxn",
        "outputId": "df99b49d-513e-4179-e596-3e61646ea0c3"
      },
      "outputs": [
        {
          "output_type": "stream",
          "name": "stdout",
          "text": [
            "original t1:\n",
            "torch.Size([3])\n",
            "\n",
            "original t2:\n",
            "torch.Size([3])\n",
            "\n",
            "original t3:\n",
            "torch.Size([3, 4])\n",
            "\n",
            "original t4:\n",
            "torch.Size([3, 4])\n",
            "\n",
            "original t5:\n",
            "torch.Size([3, 1])\n"
          ]
        }
      ],
      "source": [
        "t1 = torch.ones(3)\n",
        "t2 = torch.ones(3)\n",
        "t3 = torch.ones(size=(3,4))\n",
        "t4 = torch.ones(size=(3,4))\n",
        "t5 = torch.ones(size=(3,1))\n",
        "\n",
        "print('original t1:')\n",
        "print(t1.shape)\n",
        "\n",
        "print('\\noriginal t2:')\n",
        "print(t2.shape)\n",
        "\n",
        "print('\\noriginal t3:')\n",
        "print(t3.shape)\n",
        "\n",
        "print('\\noriginal t4:')\n",
        "print(t4.shape)\n",
        "\n",
        "print('\\noriginal t5:')\n",
        "print(t5.shape)"
      ]
    },
    {
      "cell_type": "markdown",
      "metadata": {
        "id": "ZpkNeT0jMrIs"
      },
      "source": [
        "Addition with scalar"
      ]
    },
    {
      "cell_type": "code",
      "execution_count": null,
      "metadata": {
        "colab": {
          "base_uri": "https://localhost:8080/"
        },
        "id": "FvPDrbatMrfp",
        "outputId": "46b03a68-439b-42af-aa99-158c546e2be7"
      },
      "outputs": [
        {
          "output_type": "stream",
          "name": "stdout",
          "text": [
            "t1+10\n",
            "tensor([11., 11., 11.])\n"
          ]
        }
      ],
      "source": [
        "print('t1+10')\n",
        "print(t1+10)"
      ]
    },
    {
      "cell_type": "markdown",
      "metadata": {
        "id": "Avk4X5kEMr9G"
      },
      "source": [
        "Addition with tensor"
      ]
    },
    {
      "cell_type": "code",
      "execution_count": null,
      "metadata": {
        "colab": {
          "base_uri": "https://localhost:8080/"
        },
        "id": "UgdWl3FcMsSI",
        "outputId": "775e9453-d423-4874-9d85-bef14d1f3391"
      },
      "outputs": [
        {
          "output_type": "stream",
          "name": "stdout",
          "text": [
            "t1+t2\n",
            "tensor([2., 2., 2.])\n"
          ]
        }
      ],
      "source": [
        "print('t1+t2')\n",
        "print(t1+t2)"
      ]
    },
    {
      "cell_type": "markdown",
      "metadata": {
        "id": "jRQ4KsEnMsjJ"
      },
      "source": [
        "Multiplication with scalar"
      ]
    },
    {
      "cell_type": "code",
      "execution_count": null,
      "metadata": {
        "colab": {
          "base_uri": "https://localhost:8080/"
        },
        "id": "yaRtTmkhMs3P",
        "outputId": "eee9f625-11f7-403c-bd02-160adf7bb6e5"
      },
      "outputs": [
        {
          "output_type": "stream",
          "name": "stdout",
          "text": [
            "t1*3\n",
            "tensor([3., 3., 3.])\n"
          ]
        }
      ],
      "source": [
        "print('t1*3')\n",
        "print(t1*3)"
      ]
    },
    {
      "cell_type": "markdown",
      "metadata": {
        "id": "2tDFeHxi1bmG"
      },
      "source": [
        "Multiplication with tensor"
      ]
    },
    {
      "cell_type": "code",
      "execution_count": null,
      "metadata": {
        "colab": {
          "base_uri": "https://localhost:8080/"
        },
        "id": "kq8kKFbD1b0P",
        "outputId": "1d388a42-ad8a-423a-8fd7-adf2770ef9f4"
      },
      "outputs": [
        {
          "output_type": "stream",
          "name": "stdout",
          "text": [
            "t1*t2\n",
            "tensor([1., 1., 1.])\n"
          ]
        }
      ],
      "source": [
        "print('t1*t2')\n",
        "print(t1*t2)"
      ]
    },
    {
      "cell_type": "markdown",
      "metadata": {
        "id": "cSGyaCdWM6Ms"
      },
      "source": [
        "Similar operations extend to multi-dimensional tensors"
      ]
    },
    {
      "cell_type": "code",
      "execution_count": null,
      "metadata": {
        "colab": {
          "base_uri": "https://localhost:8080/"
        },
        "id": "INootkx1M6kg",
        "outputId": "3fa9edf6-e3d2-485f-842c-3c628839a2a5"
      },
      "outputs": [
        {
          "output_type": "stream",
          "name": "stdout",
          "text": [
            "t3+t4\n",
            "tensor([[2., 2., 2., 2.],\n",
            "        [2., 2., 2., 2.],\n",
            "        [2., 2., 2., 2.]])\n"
          ]
        }
      ],
      "source": [
        "print('t3+t4')\n",
        "print(t3+t4)"
      ]
    },
    {
      "cell_type": "markdown",
      "metadata": {
        "id": "sA8o2XTkM62d"
      },
      "source": [
        "Broadcasting tensors of different dimensions\n",
        "\n",
        "When broadcasting two multi-dimensional tensors, Pytorch will automatically match their corresponding dimensions and repeat the unmatched dimention to enable the operation."
      ]
    },
    {
      "cell_type": "code",
      "execution_count": null,
      "metadata": {
        "colab": {
          "base_uri": "https://localhost:8080/"
        },
        "id": "J8ESMj9BM7L6",
        "outputId": "8c2cbc83-b23e-4799-c683-80a9d1b1807a"
      },
      "outputs": [
        {
          "output_type": "stream",
          "name": "stdout",
          "text": [
            "torch.Size([3, 4]) torch.Size([3, 1])\n",
            "tensor([[1., 1., 1., 1.],\n",
            "        [1., 1., 1., 1.],\n",
            "        [1., 1., 1., 1.]])\n",
            "tensor([[1.],\n",
            "        [1.],\n",
            "        [1.]])\n",
            "tensor([[2., 2., 2., 2.],\n",
            "        [2., 2., 2., 2.],\n",
            "        [2., 2., 2., 2.]])\n"
          ]
        }
      ],
      "source": [
        "print(t3.shape, t5.shape)\n",
        "print(t3)\n",
        "print(t5)\n",
        "print(t3+t5)"
      ]
    },
    {
      "cell_type": "markdown",
      "metadata": {
        "id": "y_bKeCpjzLNQ"
      },
      "source": [
        "### Reduction Operations\n",
        "Torch supports all commonly used mathematical reduction operations such as sum(), mean(), std(), max(), argmax(), prod(), unique() etc. <br>\n",
        "These can either be applied on the entire tensor or along specific dimensions."
      ]
    },
    {
      "cell_type": "code",
      "execution_count": null,
      "metadata": {
        "colab": {
          "base_uri": "https://localhost:8080/"
        },
        "id": "XD0cbGhInpsl",
        "outputId": "797c4b12-9310-45eb-fc20-1bab5878e492"
      },
      "outputs": [
        {
          "output_type": "stream",
          "name": "stdout",
          "text": [
            "\n",
            "original t1:\n",
            "tensor([1., 1., 1.])\n",
            "\n",
            "original t2:\n",
            "tensor([[1., 1., 1., 1.],\n",
            "        [1., 1., 1., 1.],\n",
            "        [1., 1., 1., 1.]])\n",
            "\n",
            "t1.sum()\n",
            "tensor(3.)\n",
            "tensor(3.)\n",
            "\n",
            "t2.sum()\n",
            "tensor(12.)\n",
            "tensor(12.)\n",
            "\n",
            "t2.sum(axis=0)\n",
            "tensor([3., 3., 3., 3.])\n",
            "tensor([3., 3., 3., 3.])\n",
            "\n",
            "t2.sum(axis=1)\n",
            "tensor([4., 4., 4.])\n",
            "tensor([4., 4., 4.])\n"
          ]
        }
      ],
      "source": [
        "t1 = torch.ones(3)\n",
        "t2 = torch.ones(size=(3,4))\n",
        "\n",
        "print('\\noriginal t1:')\n",
        "print(t1)\n",
        "\n",
        "print('\\noriginal t2:')\n",
        "print(t2)\n",
        "\n",
        "print('\\nt1.sum()')\n",
        "print(t1.sum())\n",
        "print(torch.sum(t1))\n",
        "\n",
        "print('\\nt2.sum()')\n",
        "print(t2.sum())\n",
        "print(torch.sum(t2))\n",
        "\n",
        "print('\\nt2.sum(axis=0)')\n",
        "print(t2.sum(axis=0))\n",
        "print(torch.sum(t2, axis=0))\n",
        "\n",
        "print('\\nt2.sum(axis=1)')\n",
        "print(t2.sum(axis=1))\n",
        "print(torch.sum(t2, axis=1))"
      ]
    },
    {
      "cell_type": "markdown",
      "metadata": {
        "id": "xbGyUPa6zUnq"
      },
      "source": [
        "### Comparison Operations"
      ]
    },
    {
      "cell_type": "code",
      "execution_count": null,
      "metadata": {
        "colab": {
          "base_uri": "https://localhost:8080/"
        },
        "id": "8fnfU-VEozZM",
        "outputId": "b3f074ff-6cb3-475d-88a2-5fada97f5832"
      },
      "outputs": [
        {
          "output_type": "stream",
          "name": "stdout",
          "text": [
            "original t1:\n",
            "tensor([[0.5677, 0.9232, 0.5008, 0.6983],\n",
            "        [0.1115, 0.7905, 0.2378, 0.6900],\n",
            "        [0.0913, 0.4656, 0.2822, 0.5729]])\n",
            "original t2:\n",
            "tensor([[0.3087, 0.7130, 0.0622, 0.4899],\n",
            "        [0.4264, 0.3975, 0.2108, 0.4215],\n",
            "        [0.6761, 0.8960, 0.2045, 0.2309]])\n",
            "original t3:\n",
            "tensor([[0.1661, 0.4105, 0.0384, 0.5277],\n",
            "        [0.5078, 0.4221, 0.9035, 0.4630],\n",
            "        [0.7092, 0.2448, 0.3571, 0.7840]])\n",
            "t1>t2\n",
            "tensor([[ True,  True,  True,  True],\n",
            "        [False,  True,  True,  True],\n",
            "        [False, False,  True,  True]])\n",
            "t2!=t3\n",
            "tensor([[True, True, True, True],\n",
            "        [True, True, True, True],\n",
            "        [True, True, True, True]])\n",
            "tensor(True)\n",
            "tensor(False)\n",
            "tensor([True, True, True, True])\n",
            "tensor([True, True, True])\n",
            "tensor(True)\n",
            "tensor(True)\n",
            "tensor(True)\n",
            "tensor(True)\n"
          ]
        }
      ],
      "source": [
        "t1 = torch.rand(size=(3,4))\n",
        "t2 = torch.rand(size=(3,4))\n",
        "t3 = torch.rand(size=(3,4))\n",
        "\n",
        "print('original t1:')\n",
        "print(t1)\n",
        "\n",
        "print('original t2:')\n",
        "print(t2)\n",
        "\n",
        "print('original t3:')\n",
        "print(t3)\n",
        "\n",
        "# Basic comparison operations\n",
        "print('t1>t2')\n",
        "print(t1>t2)\n",
        "\n",
        "print('t2!=t3')\n",
        "print(t2!=t3)\n",
        "\n",
        "# Combining reduction operations with boolean tensors\n",
        "print((t1>t2).any())\n",
        "print((t1>t2).all())\n",
        "print((t1>t2).any(axis=0))\n",
        "print((t1>t2).any(axis=1))\n",
        "\n",
        "print((t2!=t3).any())\n",
        "print((t2!=t3).all())\n",
        "print(torch.any(t2!=t3))\n",
        "print(torch.all(t2!=t3))"
      ]
    },
    {
      "cell_type": "markdown",
      "metadata": {
        "id": "6RO9jTnBzeh5"
      },
      "source": [
        "### Vector/Matrix operations"
      ]
    },
    {
      "cell_type": "markdown",
      "metadata": {
        "id": "2U1kjDffHVEs"
      },
      "source": [
        "vector - vector"
      ]
    },
    {
      "cell_type": "code",
      "execution_count": null,
      "metadata": {
        "colab": {
          "base_uri": "https://localhost:8080/"
        },
        "id": "xbAdLitqHVOG",
        "outputId": "8d7cda47-1b6a-4b40-dd7f-bcc5958428b6"
      },
      "outputs": [
        {
          "output_type": "stream",
          "name": "stdout",
          "text": [
            "tensor1 tensor([ 1.6212,  2.4210, -0.6053])\n",
            "torch.Size([3])\n",
            "tensor2 tensor([-1.4084,  0.9791,  1.5379])\n",
            "torch.Size([3])\n",
            "torch.matmul(tensor1, tensor2)\n",
            "tensor(-0.8439) torch.Size([])\n",
            "tensor(-0.8439) torch.Size([])\n"
          ]
        }
      ],
      "source": [
        "tensor1 = torch.randn(3)\n",
        "tensor2 = torch.randn(3)\n",
        "\n",
        "print('tensor1',tensor1)\n",
        "print(tensor1.size())\n",
        "print('tensor2',tensor2)\n",
        "print(tensor2.size())\n",
        "\n",
        "print('torch.matmul(tensor1, tensor2)')\n",
        "print((tensor1 @ tensor2),(tensor1 @ tensor2).size())\n",
        "print(torch.matmul(tensor1, tensor2),torch.matmul(tensor1, tensor2).size())"
      ]
    },
    {
      "cell_type": "markdown",
      "metadata": {
        "id": "8xuK3iKaHVWY"
      },
      "source": [
        "matrix - vector"
      ]
    },
    {
      "cell_type": "code",
      "execution_count": null,
      "metadata": {
        "colab": {
          "base_uri": "https://localhost:8080/"
        },
        "id": "L1fGODGTHVdm",
        "outputId": "ce66dabe-c17d-44d6-8cdb-37b7af79f253"
      },
      "outputs": [
        {
          "output_type": "stream",
          "name": "stdout",
          "text": [
            "\n",
            "tensor1\n",
            "torch.Size([3, 4])\n",
            "tensor2\n",
            "torch.Size([4])\n",
            "torch.matmul(tensor1, tensor2)\n",
            "tensor([ 0.2525, -0.5445,  0.5629]) torch.Size([3])\n",
            "tensor([ 0.2525, -0.5445,  0.5629]) torch.Size([3])\n"
          ]
        }
      ],
      "source": [
        "tensor1 = torch.randn(3, 4)\n",
        "tensor2 = torch.randn(4)\n",
        "\n",
        "print('\\ntensor1')\n",
        "print(tensor1.size())\n",
        "print('tensor2')\n",
        "print(tensor2.size())\n",
        "\n",
        "print('torch.matmul(tensor1, tensor2)')\n",
        "print(torch.matmul(tensor1, tensor2),torch.matmul(tensor1, tensor2).size())\n",
        "print((tensor1 @ tensor2),(tensor1 @ tensor2).size())"
      ]
    },
    {
      "cell_type": "markdown",
      "metadata": {
        "id": "EcGk9TKaHVkk"
      },
      "source": [
        "batched matrix - broadcasted vector"
      ]
    },
    {
      "cell_type": "code",
      "execution_count": null,
      "metadata": {
        "colab": {
          "base_uri": "https://localhost:8080/"
        },
        "id": "pj1fWL6sHVrY",
        "outputId": "9521ad95-b8d1-456c-ed09-a2e884eb0a3e"
      },
      "outputs": [
        {
          "output_type": "stream",
          "name": "stdout",
          "text": [
            "\n",
            "tensor1\n",
            "torch.Size([10, 3, 4])\n",
            "tensor2\n",
            "torch.Size([4])\n",
            "torch.matmul(tensor1, tensor2)\n",
            "torch.Size([10, 3])\n",
            "torch.Size([10, 3])\n"
          ]
        }
      ],
      "source": [
        "tensor1 = torch.randn(10, 3, 4)\n",
        "tensor2 = torch.randn(4)\n",
        "\n",
        "print('\\ntensor1')\n",
        "print(tensor1.size())\n",
        "print('tensor2')\n",
        "print(tensor2.size())\n",
        "\n",
        "print('torch.matmul(tensor1, tensor2)')\n",
        "# when doing various operations between n-dimensional matrix and\n",
        "print(torch.matmul(tensor1, tensor2).size())\n",
        "print((tensor1 @ tensor2).size())"
      ]
    },
    {
      "cell_type": "markdown",
      "metadata": {
        "id": "XBJys_CZHVxV"
      },
      "source": [
        "batched matrix - batched matrix"
      ]
    },
    {
      "cell_type": "code",
      "execution_count": null,
      "metadata": {
        "colab": {
          "base_uri": "https://localhost:8080/"
        },
        "id": "xTqo82cOHV3s",
        "outputId": "aee25612-c833-482d-b4e2-1618b3de86a0"
      },
      "outputs": [
        {
          "output_type": "stream",
          "name": "stdout",
          "text": [
            "\n",
            "tensor1\n",
            "torch.Size([10, 3, 4])\n",
            "tensor2\n",
            "torch.Size([10, 4, 5])\n",
            "torch.matmul(tensor1, tensor2)\n",
            "torch.Size([10, 3, 5])\n",
            "torch.Size([10, 3, 5])\n"
          ]
        }
      ],
      "source": [
        "tensor1 = torch.randn(10, 3, 4)\n",
        "tensor2 = torch.randn(10, 4, 5)\n",
        "\n",
        "print('\\ntensor1')\n",
        "print(tensor1.size())\n",
        "print('tensor2')\n",
        "print(tensor2.size())\n",
        "\n",
        "print('torch.matmul(tensor1, tensor2)')\n",
        "print(torch.matmul(tensor1, tensor2).size())\n",
        "print((tensor1 @ tensor2).size())"
      ]
    },
    {
      "cell_type": "markdown",
      "metadata": {
        "id": "p0SNe3nHHtz9"
      },
      "source": [
        "batched matrix - broadcasted matrix"
      ]
    },
    {
      "cell_type": "code",
      "execution_count": null,
      "metadata": {
        "colab": {
          "base_uri": "https://localhost:8080/"
        },
        "id": "3wQRCEUzqMGm",
        "outputId": "da236255-8b30-448a-b0cd-b8df1433b3bc"
      },
      "outputs": [
        {
          "output_type": "stream",
          "name": "stdout",
          "text": [
            "\n",
            "tensor1\n",
            "torch.Size([10, 3, 4])\n",
            "tensor2\n",
            "torch.Size([4, 5])\n",
            "torch.matmul(tensor1, tensor2)\n",
            "torch.Size([10, 3, 5])\n",
            "torch.Size([10, 3, 5])\n"
          ]
        }
      ],
      "source": [
        "tensor1 = torch.randn(10, 3, 4)\n",
        "tensor2 = torch.randn(4, 5)\n",
        "\n",
        "print('\\ntensor1')\n",
        "print(tensor1.size())\n",
        "print('tensor2')\n",
        "print(tensor2.size())\n",
        "\n",
        "print('torch.matmul(tensor1, tensor2)')\n",
        "print(torch.matmul(tensor1, tensor2).size())\n",
        "print((tensor1 @ tensor2).size())"
      ]
    },
    {
      "cell_type": "markdown",
      "source": [
        "## Autograd"
      ],
      "metadata": {
        "id": "_W6u8L45zk6y"
      }
    },
    {
      "cell_type": "markdown",
      "source": [
        "$$d = (3a + 2b)^2$$\n",
        "$$Loss = MSE(d, e)$$"
      ],
      "metadata": {
        "id": "d_4qdKOwzxtV"
      }
    },
    {
      "cell_type": "code",
      "source": [
        "a = torch.tensor([2., 3.], requires_grad=True)\n",
        "b = torch.tensor([6., 4.], requires_grad=True)\n",
        "c = 3*a + 2*b\n",
        "d = c**2\n",
        "\n",
        "print(\"a: \", a)\n",
        "print(\"b: \", b)\n",
        "print(\"c: \", c)\n",
        "print(\"d: \", d)"
      ],
      "metadata": {
        "colab": {
          "base_uri": "https://localhost:8080/"
        },
        "id": "Nj_TBgmyze89",
        "outputId": "a7d7d7d1-ad7e-42e6-a2c9-8c89e2c54f9f"
      },
      "execution_count": null,
      "outputs": [
        {
          "output_type": "stream",
          "name": "stdout",
          "text": [
            "a:  tensor([2., 3.], requires_grad=True)\n",
            "b:  tensor([6., 4.], requires_grad=True)\n",
            "c:  tensor([18., 17.], grad_fn=<AddBackward0>)\n",
            "d:  tensor([324., 289.], grad_fn=<PowBackward0>)\n"
          ]
        }
      ]
    },
    {
      "cell_type": "code",
      "source": [
        "# our target\n",
        "e = torch.tensor([300., 280.])\n",
        "\n",
        "# calculate the loss and do the bp\n",
        "loss = torch.nn.MSELoss()(d, e)\n",
        "loss.backward()"
      ],
      "metadata": {
        "id": "06jLKJV3zuUR"
      },
      "execution_count": null,
      "outputs": []
    },
    {
      "cell_type": "code",
      "source": [
        "# We could check the gradient function and gradient for each variable\n",
        "print(\"Gradient func for Loss: {} | Loss: {}\".format(loss.grad_fn, loss.item()))\n",
        "print(\"Gradient func for c: {} | Gradient for c: {}\".format(c.grad_fn, c.grad))\n",
        "print(\"Gradient func for d: {} | Gradient for d: {}\".format(d.grad_fn, d.grad))"
      ],
      "metadata": {
        "colab": {
          "base_uri": "https://localhost:8080/"
        },
        "id": "IshN_fWbz8WQ",
        "outputId": "b5d276f8-d812-442d-b54f-8fd1b3154684"
      },
      "execution_count": null,
      "outputs": [
        {
          "output_type": "stream",
          "name": "stdout",
          "text": [
            "Gradient func for Loss: <MseLossBackward0 object at 0x7aa95fc77a30> | Loss: 328.5\n",
            "Gradient func for c: <AddBackward0 object at 0x7aa95fc76a70> | Gradient for c: None\n",
            "Gradient func for d: <PowBackward0 object at 0x7aaa1b246c80> | Gradient for d: None\n"
          ]
        },
        {
          "output_type": "stream",
          "name": "stderr",
          "text": [
            "<ipython-input-39-cb2c38dd43f5>:3: UserWarning: The .grad attribute of a Tensor that is not a leaf Tensor is being accessed. Its .grad attribute won't be populated during autograd.backward(). If you indeed want the .grad field to be populated for a non-leaf Tensor, use .retain_grad() on the non-leaf Tensor. If you access the non-leaf Tensor by mistake, make sure you access the leaf Tensor instead. See github.com/pytorch/pytorch/pull/30531 for more informations. (Triggered internally at aten/src/ATen/core/TensorBody.h:489.)\n",
            "  print(\"Gradient func for c: {} | Gradient for c: {}\".format(c.grad_fn, c.grad))\n",
            "<ipython-input-39-cb2c38dd43f5>:4: UserWarning: The .grad attribute of a Tensor that is not a leaf Tensor is being accessed. Its .grad attribute won't be populated during autograd.backward(). If you indeed want the .grad field to be populated for a non-leaf Tensor, use .retain_grad() on the non-leaf Tensor. If you access the non-leaf Tensor by mistake, make sure you access the leaf Tensor instead. See github.com/pytorch/pytorch/pull/30531 for more informations. (Triggered internally at aten/src/ATen/core/TensorBody.h:489.)\n",
            "  print(\"Gradient func for d: {} | Gradient for d: {}\".format(d.grad_fn, d.grad))\n"
          ]
        }
      ]
    },
    {
      "cell_type": "code",
      "source": [
        "print(\"Gradient func for a: {} | Gradient for a: {}\".format(a.grad_fn, a.grad))\n",
        "print(\"Gradient func for b: {} | Gradient for b: {}\".format(a.grad_fn, b.grad))"
      ],
      "metadata": {
        "colab": {
          "base_uri": "https://localhost:8080/"
        },
        "id": "thIq39W10I9W",
        "outputId": "a6993b83-4647-45f5-9071-9e21e0a2195f"
      },
      "execution_count": null,
      "outputs": [
        {
          "output_type": "stream",
          "name": "stdout",
          "text": [
            "Gradient func for a: None | Gradient for a: tensor([2592.,  918.])\n",
            "Gradient func for b: None | Gradient for b: tensor([1728.,  612.])\n"
          ]
        }
      ]
    },
    {
      "cell_type": "markdown",
      "source": [
        "It might be surprising that we could only externally see the gradient of $a$ and $b$. This is expected, as PyTorch only preserve the gradient for leaf nodes such as $a$ and $b$ to save memory after the backpropagation.\n",
        "\n"
      ],
      "metadata": {
        "id": "2w59laRC0d0X"
      }
    },
    {
      "cell_type": "markdown",
      "metadata": {
        "id": "vs_S7Fg1IvVh"
      },
      "source": [
        "## Creating your own NN\n",
        "\n",
        "\n",
        "1.   Dataset and Dataloaders\n",
        "2.   Model\n",
        "3.   Train, Test\n",
        "\n",
        "\n",
        "In this example, we will use the Iris Dataset to do a regression task with our own NN."
      ]
    },
    {
      "cell_type": "code",
      "execution_count": null,
      "metadata": {
        "id": "o1ZUqxFjRJPT",
        "colab": {
          "base_uri": "https://localhost:8080/"
        },
        "outputId": "8f8f3c7a-6030-4db9-bc04-34adde58a556"
      },
      "outputs": [
        {
          "output_type": "stream",
          "name": "stdout",
          "text": [
            "Collecting torchsummaryX\n",
            "  Downloading torchsummaryX-1.3.0-py3-none-any.whl (3.6 kB)\n",
            "Requirement already satisfied: torch in /usr/local/lib/python3.10/dist-packages (from torchsummaryX) (2.1.0+cu121)\n",
            "Requirement already satisfied: numpy in /usr/local/lib/python3.10/dist-packages (from torchsummaryX) (1.23.5)\n",
            "Requirement already satisfied: pandas in /usr/local/lib/python3.10/dist-packages (from torchsummaryX) (1.5.3)\n",
            "Requirement already satisfied: python-dateutil>=2.8.1 in /usr/local/lib/python3.10/dist-packages (from pandas->torchsummaryX) (2.8.2)\n",
            "Requirement already satisfied: pytz>=2020.1 in /usr/local/lib/python3.10/dist-packages (from pandas->torchsummaryX) (2023.3.post1)\n",
            "Requirement already satisfied: filelock in /usr/local/lib/python3.10/dist-packages (from torch->torchsummaryX) (3.13.1)\n",
            "Requirement already satisfied: typing-extensions in /usr/local/lib/python3.10/dist-packages (from torch->torchsummaryX) (4.5.0)\n",
            "Requirement already satisfied: sympy in /usr/local/lib/python3.10/dist-packages (from torch->torchsummaryX) (1.12)\n",
            "Requirement already satisfied: networkx in /usr/local/lib/python3.10/dist-packages (from torch->torchsummaryX) (3.2.1)\n",
            "Requirement already satisfied: jinja2 in /usr/local/lib/python3.10/dist-packages (from torch->torchsummaryX) (3.1.3)\n",
            "Requirement already satisfied: fsspec in /usr/local/lib/python3.10/dist-packages (from torch->torchsummaryX) (2023.6.0)\n",
            "Requirement already satisfied: triton==2.1.0 in /usr/local/lib/python3.10/dist-packages (from torch->torchsummaryX) (2.1.0)\n",
            "Requirement already satisfied: six>=1.5 in /usr/local/lib/python3.10/dist-packages (from python-dateutil>=2.8.1->pandas->torchsummaryX) (1.16.0)\n",
            "Requirement already satisfied: MarkupSafe>=2.0 in /usr/local/lib/python3.10/dist-packages (from jinja2->torch->torchsummaryX) (2.1.3)\n",
            "Requirement already satisfied: mpmath>=0.19 in /usr/local/lib/python3.10/dist-packages (from sympy->torch->torchsummaryX) (1.3.0)\n",
            "Installing collected packages: torchsummaryX\n",
            "Successfully installed torchsummaryX-1.3.0\n"
          ]
        }
      ],
      "source": [
        "!pip install torchsummaryX"
      ]
    },
    {
      "cell_type": "code",
      "execution_count": null,
      "metadata": {
        "id": "MUCzpCucDFRR"
      },
      "outputs": [],
      "source": [
        "import torch\n",
        "import torch.nn as nn\n",
        "from torch.autograd import Variable\n",
        "import torch.functional as F\n",
        "from torch import optim\n",
        "from torch.utils.data import Dataset, DataLoader\n",
        "\n",
        "import numpy as np\n",
        "from sklearn.datasets import load_iris\n",
        "from sklearn.model_selection import train_test_split\n",
        "from sklearn.metrics import accuracy_score, f1_score\n",
        "\n",
        "from torchsummaryX import summary"
      ]
    },
    {
      "cell_type": "code",
      "source": [
        "# Check if GPU is available\n",
        "device = torch.device(\"cuda\" if torch.cuda.is_available() else \"cpu\")\n",
        "print(f\"Using device: {device}\")"
      ],
      "metadata": {
        "colab": {
          "base_uri": "https://localhost:8080/"
        },
        "id": "gUtXi52Bk9wj",
        "outputId": "8a179853-e103-4705-e344-a7c4b8e0e191"
      },
      "execution_count": null,
      "outputs": [
        {
          "output_type": "stream",
          "name": "stdout",
          "text": [
            "Using device: cuda\n"
          ]
        }
      ]
    },
    {
      "cell_type": "code",
      "source": [
        "# Load Iris dataset\n",
        "iris = load_iris()\n",
        "\n",
        "# Split the dataset into training and testing sets\n",
        "X_train, X_test, y_train, y_test = train_test_split(iris.data, iris.target, test_size=0.2, random_state=42)"
      ],
      "metadata": {
        "id": "epF_051WgKex"
      },
      "execution_count": null,
      "outputs": []
    },
    {
      "cell_type": "code",
      "source": [
        "# Count the number of samples for each class in the training set\n",
        "train_class_counts = {class_label: (y_train == class_label).sum() for class_label in set(y_train)}\n",
        "print(\"Training Set - Number of Samples for Each Class:\")\n",
        "for class_label, count in train_class_counts.items():\n",
        "    print(f\"Class {class_label}: {count} samples\")\n",
        "\n",
        "# Count the number of samples for each class in the test set\n",
        "test_class_counts = {class_label: (y_test == class_label).sum() for class_label in set(y_test)}\n",
        "print(\"\\nTest Set - Number of Samples for Each Class:\")\n",
        "for class_label, count in test_class_counts.items():\n",
        "    print(f\"Class {class_label}: {count} samples\")"
      ],
      "metadata": {
        "colab": {
          "base_uri": "https://localhost:8080/"
        },
        "id": "dDfVOiV2jlrK",
        "outputId": "da8d269c-e9a2-4fa3-e87e-2c66b784d293"
      },
      "execution_count": null,
      "outputs": [
        {
          "output_type": "stream",
          "name": "stdout",
          "text": [
            "Training Set - Number of Samples for Each Class:\n",
            "Class 0: 40 samples\n",
            "Class 1: 41 samples\n",
            "Class 2: 39 samples\n",
            "\n",
            "Test Set - Number of Samples for Each Class:\n",
            "Class 0: 10 samples\n",
            "Class 1: 9 samples\n",
            "Class 2: 11 samples\n"
          ]
        }
      ]
    },
    {
      "cell_type": "code",
      "source": [
        "# Define a PyTorch dataset\n",
        "class IrisDataset(Dataset):\n",
        "    def __init__(self, data, targets):\n",
        "        self.data = torch.tensor(data, dtype=torch.float32)\n",
        "        self.targets = torch.tensor(targets, dtype=torch.long)\n",
        "\n",
        "    def __len__(self):\n",
        "        return len(self.data)\n",
        "\n",
        "    def __getitem__(self, idx):\n",
        "        return self.data[idx], self.targets[idx]\n",
        "\n",
        "# Create PyTorch datasets for training and testing\n",
        "train_dataset = IrisDataset(X_train, y_train)\n",
        "test_dataset = IrisDataset(X_test, y_test)\n",
        "\n",
        "# Create PyTorch dataloaders\n",
        "train_dataloader = DataLoader(train_dataset, batch_size=32, shuffle=True)\n",
        "test_dataloader = DataLoader(test_dataset, batch_size=32, shuffle=False)"
      ],
      "metadata": {
        "id": "-hAy0w07i9YK"
      },
      "execution_count": null,
      "outputs": []
    },
    {
      "cell_type": "code",
      "execution_count": null,
      "metadata": {
        "id": "xRMA32IROsx5"
      },
      "outputs": [],
      "source": [
        "class Network(nn.Module):\n",
        "    def __init__(self, input_size, hidden_size, output_size):\n",
        "        super(Network, self).__init__()\n",
        "        self.fc1 = nn.Linear(input_size, hidden_size)\n",
        "        self.relu = nn.ReLU()\n",
        "        self.fc2 = nn.Linear(hidden_size, output_size)\n",
        "\n",
        "    def forward(self, x):\n",
        "        x = self.fc1(x)\n",
        "        x = self.relu(x)\n",
        "        x = self.fc2(x)\n",
        "        return x"
      ]
    },
    {
      "cell_type": "code",
      "execution_count": null,
      "metadata": {
        "colab": {
          "base_uri": "https://localhost:8080/",
          "height": 455
        },
        "id": "XtH63Sa7Qliq",
        "outputId": "246ec6c8-198b-4abd-d9d3-55d19aac2de7"
      },
      "outputs": [
        {
          "output_type": "stream",
          "name": "stdout",
          "text": [
            "===================================================\n",
            "       Kernel Shape Output Shape Params Mult-Adds\n",
            "Layer                                            \n",
            "0_fc1       [4, 64]     [32, 64]  320.0     256.0\n",
            "1_relu            -     [32, 64]      -         -\n",
            "2_fc2       [64, 3]      [32, 3]  195.0     192.0\n",
            "---------------------------------------------------\n",
            "                      Totals\n",
            "Total params           515.0\n",
            "Trainable params       515.0\n",
            "Non-trainable params     0.0\n",
            "Mult-Adds              448.0\n",
            "===================================================\n"
          ]
        },
        {
          "output_type": "stream",
          "name": "stderr",
          "text": [
            "/usr/local/lib/python3.10/dist-packages/torchsummaryX/torchsummaryX.py:101: FutureWarning: The default value of numeric_only in DataFrame.sum is deprecated. In a future version, it will default to False. In addition, specifying 'numeric_only=None' is deprecated. Select only valid columns or specify the value of numeric_only to silence this warning.\n",
            "  df_sum = df.sum()\n"
          ]
        },
        {
          "output_type": "execute_result",
          "data": {
            "text/plain": [
              "       Kernel Shape Output Shape  Params  Mult-Adds\n",
              "Layer                                              \n",
              "0_fc1       [4, 64]     [32, 64]   320.0      256.0\n",
              "1_relu            -     [32, 64]     NaN        NaN\n",
              "2_fc2       [64, 3]      [32, 3]   195.0      192.0"
            ],
            "text/html": [
              "\n",
              "  <div id=\"df-9a00b21c-ecc3-4f40-9d7f-3a6649a5a146\" class=\"colab-df-container\">\n",
              "    <div>\n",
              "<style scoped>\n",
              "    .dataframe tbody tr th:only-of-type {\n",
              "        vertical-align: middle;\n",
              "    }\n",
              "\n",
              "    .dataframe tbody tr th {\n",
              "        vertical-align: top;\n",
              "    }\n",
              "\n",
              "    .dataframe thead th {\n",
              "        text-align: right;\n",
              "    }\n",
              "</style>\n",
              "<table border=\"1\" class=\"dataframe\">\n",
              "  <thead>\n",
              "    <tr style=\"text-align: right;\">\n",
              "      <th></th>\n",
              "      <th>Kernel Shape</th>\n",
              "      <th>Output Shape</th>\n",
              "      <th>Params</th>\n",
              "      <th>Mult-Adds</th>\n",
              "    </tr>\n",
              "    <tr>\n",
              "      <th>Layer</th>\n",
              "      <th></th>\n",
              "      <th></th>\n",
              "      <th></th>\n",
              "      <th></th>\n",
              "    </tr>\n",
              "  </thead>\n",
              "  <tbody>\n",
              "    <tr>\n",
              "      <th>0_fc1</th>\n",
              "      <td>[4, 64]</td>\n",
              "      <td>[32, 64]</td>\n",
              "      <td>320.0</td>\n",
              "      <td>256.0</td>\n",
              "    </tr>\n",
              "    <tr>\n",
              "      <th>1_relu</th>\n",
              "      <td>-</td>\n",
              "      <td>[32, 64]</td>\n",
              "      <td>NaN</td>\n",
              "      <td>NaN</td>\n",
              "    </tr>\n",
              "    <tr>\n",
              "      <th>2_fc2</th>\n",
              "      <td>[64, 3]</td>\n",
              "      <td>[32, 3]</td>\n",
              "      <td>195.0</td>\n",
              "      <td>192.0</td>\n",
              "    </tr>\n",
              "  </tbody>\n",
              "</table>\n",
              "</div>\n",
              "    <div class=\"colab-df-buttons\">\n",
              "\n",
              "  <div class=\"colab-df-container\">\n",
              "    <button class=\"colab-df-convert\" onclick=\"convertToInteractive('df-9a00b21c-ecc3-4f40-9d7f-3a6649a5a146')\"\n",
              "            title=\"Convert this dataframe to an interactive table.\"\n",
              "            style=\"display:none;\">\n",
              "\n",
              "  <svg xmlns=\"http://www.w3.org/2000/svg\" height=\"24px\" viewBox=\"0 -960 960 960\">\n",
              "    <path d=\"M120-120v-720h720v720H120Zm60-500h600v-160H180v160Zm220 220h160v-160H400v160Zm0 220h160v-160H400v160ZM180-400h160v-160H180v160Zm440 0h160v-160H620v160ZM180-180h160v-160H180v160Zm440 0h160v-160H620v160Z\"/>\n",
              "  </svg>\n",
              "    </button>\n",
              "\n",
              "  <style>\n",
              "    .colab-df-container {\n",
              "      display:flex;\n",
              "      gap: 12px;\n",
              "    }\n",
              "\n",
              "    .colab-df-convert {\n",
              "      background-color: #E8F0FE;\n",
              "      border: none;\n",
              "      border-radius: 50%;\n",
              "      cursor: pointer;\n",
              "      display: none;\n",
              "      fill: #1967D2;\n",
              "      height: 32px;\n",
              "      padding: 0 0 0 0;\n",
              "      width: 32px;\n",
              "    }\n",
              "\n",
              "    .colab-df-convert:hover {\n",
              "      background-color: #E2EBFA;\n",
              "      box-shadow: 0px 1px 2px rgba(60, 64, 67, 0.3), 0px 1px 3px 1px rgba(60, 64, 67, 0.15);\n",
              "      fill: #174EA6;\n",
              "    }\n",
              "\n",
              "    .colab-df-buttons div {\n",
              "      margin-bottom: 4px;\n",
              "    }\n",
              "\n",
              "    [theme=dark] .colab-df-convert {\n",
              "      background-color: #3B4455;\n",
              "      fill: #D2E3FC;\n",
              "    }\n",
              "\n",
              "    [theme=dark] .colab-df-convert:hover {\n",
              "      background-color: #434B5C;\n",
              "      box-shadow: 0px 1px 3px 1px rgba(0, 0, 0, 0.15);\n",
              "      filter: drop-shadow(0px 1px 2px rgba(0, 0, 0, 0.3));\n",
              "      fill: #FFFFFF;\n",
              "    }\n",
              "  </style>\n",
              "\n",
              "    <script>\n",
              "      const buttonEl =\n",
              "        document.querySelector('#df-9a00b21c-ecc3-4f40-9d7f-3a6649a5a146 button.colab-df-convert');\n",
              "      buttonEl.style.display =\n",
              "        google.colab.kernel.accessAllowed ? 'block' : 'none';\n",
              "\n",
              "      async function convertToInteractive(key) {\n",
              "        const element = document.querySelector('#df-9a00b21c-ecc3-4f40-9d7f-3a6649a5a146');\n",
              "        const dataTable =\n",
              "          await google.colab.kernel.invokeFunction('convertToInteractive',\n",
              "                                                    [key], {});\n",
              "        if (!dataTable) return;\n",
              "\n",
              "        const docLinkHtml = 'Like what you see? Visit the ' +\n",
              "          '<a target=\"_blank\" href=https://colab.research.google.com/notebooks/data_table.ipynb>data table notebook</a>'\n",
              "          + ' to learn more about interactive tables.';\n",
              "        element.innerHTML = '';\n",
              "        dataTable['output_type'] = 'display_data';\n",
              "        await google.colab.output.renderOutput(dataTable, element);\n",
              "        const docLink = document.createElement('div');\n",
              "        docLink.innerHTML = docLinkHtml;\n",
              "        element.appendChild(docLink);\n",
              "      }\n",
              "    </script>\n",
              "  </div>\n",
              "\n",
              "\n",
              "<div id=\"df-7f2dd49c-7e9a-4413-b093-320a957542c7\">\n",
              "  <button class=\"colab-df-quickchart\" onclick=\"quickchart('df-7f2dd49c-7e9a-4413-b093-320a957542c7')\"\n",
              "            title=\"Suggest charts\"\n",
              "            style=\"display:none;\">\n",
              "\n",
              "<svg xmlns=\"http://www.w3.org/2000/svg\" height=\"24px\"viewBox=\"0 0 24 24\"\n",
              "     width=\"24px\">\n",
              "    <g>\n",
              "        <path d=\"M19 3H5c-1.1 0-2 .9-2 2v14c0 1.1.9 2 2 2h14c1.1 0 2-.9 2-2V5c0-1.1-.9-2-2-2zM9 17H7v-7h2v7zm4 0h-2V7h2v10zm4 0h-2v-4h2v4z\"/>\n",
              "    </g>\n",
              "</svg>\n",
              "  </button>\n",
              "\n",
              "<style>\n",
              "  .colab-df-quickchart {\n",
              "      --bg-color: #E8F0FE;\n",
              "      --fill-color: #1967D2;\n",
              "      --hover-bg-color: #E2EBFA;\n",
              "      --hover-fill-color: #174EA6;\n",
              "      --disabled-fill-color: #AAA;\n",
              "      --disabled-bg-color: #DDD;\n",
              "  }\n",
              "\n",
              "  [theme=dark] .colab-df-quickchart {\n",
              "      --bg-color: #3B4455;\n",
              "      --fill-color: #D2E3FC;\n",
              "      --hover-bg-color: #434B5C;\n",
              "      --hover-fill-color: #FFFFFF;\n",
              "      --disabled-bg-color: #3B4455;\n",
              "      --disabled-fill-color: #666;\n",
              "  }\n",
              "\n",
              "  .colab-df-quickchart {\n",
              "    background-color: var(--bg-color);\n",
              "    border: none;\n",
              "    border-radius: 50%;\n",
              "    cursor: pointer;\n",
              "    display: none;\n",
              "    fill: var(--fill-color);\n",
              "    height: 32px;\n",
              "    padding: 0;\n",
              "    width: 32px;\n",
              "  }\n",
              "\n",
              "  .colab-df-quickchart:hover {\n",
              "    background-color: var(--hover-bg-color);\n",
              "    box-shadow: 0 1px 2px rgba(60, 64, 67, 0.3), 0 1px 3px 1px rgba(60, 64, 67, 0.15);\n",
              "    fill: var(--button-hover-fill-color);\n",
              "  }\n",
              "\n",
              "  .colab-df-quickchart-complete:disabled,\n",
              "  .colab-df-quickchart-complete:disabled:hover {\n",
              "    background-color: var(--disabled-bg-color);\n",
              "    fill: var(--disabled-fill-color);\n",
              "    box-shadow: none;\n",
              "  }\n",
              "\n",
              "  .colab-df-spinner {\n",
              "    border: 2px solid var(--fill-color);\n",
              "    border-color: transparent;\n",
              "    border-bottom-color: var(--fill-color);\n",
              "    animation:\n",
              "      spin 1s steps(1) infinite;\n",
              "  }\n",
              "\n",
              "  @keyframes spin {\n",
              "    0% {\n",
              "      border-color: transparent;\n",
              "      border-bottom-color: var(--fill-color);\n",
              "      border-left-color: var(--fill-color);\n",
              "    }\n",
              "    20% {\n",
              "      border-color: transparent;\n",
              "      border-left-color: var(--fill-color);\n",
              "      border-top-color: var(--fill-color);\n",
              "    }\n",
              "    30% {\n",
              "      border-color: transparent;\n",
              "      border-left-color: var(--fill-color);\n",
              "      border-top-color: var(--fill-color);\n",
              "      border-right-color: var(--fill-color);\n",
              "    }\n",
              "    40% {\n",
              "      border-color: transparent;\n",
              "      border-right-color: var(--fill-color);\n",
              "      border-top-color: var(--fill-color);\n",
              "    }\n",
              "    60% {\n",
              "      border-color: transparent;\n",
              "      border-right-color: var(--fill-color);\n",
              "    }\n",
              "    80% {\n",
              "      border-color: transparent;\n",
              "      border-right-color: var(--fill-color);\n",
              "      border-bottom-color: var(--fill-color);\n",
              "    }\n",
              "    90% {\n",
              "      border-color: transparent;\n",
              "      border-bottom-color: var(--fill-color);\n",
              "    }\n",
              "  }\n",
              "</style>\n",
              "\n",
              "  <script>\n",
              "    async function quickchart(key) {\n",
              "      const quickchartButtonEl =\n",
              "        document.querySelector('#' + key + ' button');\n",
              "      quickchartButtonEl.disabled = true;  // To prevent multiple clicks.\n",
              "      quickchartButtonEl.classList.add('colab-df-spinner');\n",
              "      try {\n",
              "        const charts = await google.colab.kernel.invokeFunction(\n",
              "            'suggestCharts', [key], {});\n",
              "      } catch (error) {\n",
              "        console.error('Error during call to suggestCharts:', error);\n",
              "      }\n",
              "      quickchartButtonEl.classList.remove('colab-df-spinner');\n",
              "      quickchartButtonEl.classList.add('colab-df-quickchart-complete');\n",
              "    }\n",
              "    (() => {\n",
              "      let quickchartButtonEl =\n",
              "        document.querySelector('#df-7f2dd49c-7e9a-4413-b093-320a957542c7 button');\n",
              "      quickchartButtonEl.style.display =\n",
              "        google.colab.kernel.accessAllowed ? 'block' : 'none';\n",
              "    })();\n",
              "  </script>\n",
              "</div>\n",
              "    </div>\n",
              "  </div>\n"
            ]
          },
          "metadata": {},
          "execution_count": 48
        }
      ],
      "source": [
        "input_size = X_train.shape[1]\n",
        "hidden_size = 64\n",
        "output_size = len(set(y_train))\n",
        "model = Network(input_size, hidden_size, output_size)\n",
        "feat,pred = next(iter(train_dataloader))\n",
        "# Check number of parameters of your network\n",
        "summary(model, feat)"
      ]
    },
    {
      "cell_type": "code",
      "source": [
        "# Pushing model to device\n",
        "model=model.to(device)"
      ],
      "metadata": {
        "id": "RYg7ukcplLP9"
      },
      "execution_count": null,
      "outputs": []
    },
    {
      "cell_type": "code",
      "execution_count": null,
      "metadata": {
        "id": "9OnFrmhIQSAm"
      },
      "outputs": [],
      "source": [
        "criterion = nn.CrossEntropyLoss()\n",
        "optimizer = optim.Adam(model.parameters(), lr=0.001)"
      ]
    },
    {
      "cell_type": "code",
      "execution_count": null,
      "metadata": {
        "colab": {
          "base_uri": "https://localhost:8080/"
        },
        "id": "6d2ztaEJUroe",
        "outputId": "a76ff6a0-7c78-4346-ed77-1e33169a33e9"
      },
      "outputs": [
        {
          "output_type": "stream",
          "name": "stdout",
          "text": [
            "Epoch 1/50, Loss: 0.9728, Test Accuracy: 70.00%, F1 Score: 0.5935\n",
            "Epoch 5/50, Loss: 0.7778, Test Accuracy: 90.00%, F1 Score: 0.8992\n",
            "Epoch 10/50, Loss: 0.6119, Test Accuracy: 70.00%, F1 Score: 0.5935\n",
            "Epoch 15/50, Loss: 0.5228, Test Accuracy: 90.00%, F1 Score: 0.8960\n",
            "Epoch 20/50, Loss: 0.5090, Test Accuracy: 90.00%, F1 Score: 0.8960\n",
            "Epoch 25/50, Loss: 0.4029, Test Accuracy: 100.00%, F1 Score: 1.0000\n",
            "Epoch 30/50, Loss: 0.3835, Test Accuracy: 100.00%, F1 Score: 1.0000\n",
            "Epoch 35/50, Loss: 0.3545, Test Accuracy: 100.00%, F1 Score: 1.0000\n",
            "Epoch 40/50, Loss: 0.2805, Test Accuracy: 100.00%, F1 Score: 1.0000\n",
            "Epoch 45/50, Loss: 0.3358, Test Accuracy: 100.00%, F1 Score: 1.0000\n",
            "Epoch 50/50, Loss: 0.2952, Test Accuracy: 100.00%, F1 Score: 1.0000\n"
          ]
        }
      ],
      "source": [
        "# Training loop\n",
        "epochs = 50\n",
        "print_every = 5\n",
        "\n",
        "for epoch in range(1, epochs + 1):\n",
        "    model.train()\n",
        "    for inputs, targets in train_dataloader:\n",
        "        inputs, targets = inputs.to(device), targets.to(device)\n",
        "        optimizer.zero_grad()\n",
        "        outputs = model(inputs)\n",
        "        loss = criterion(outputs, targets)\n",
        "        loss.backward()\n",
        "        optimizer.step()\n",
        "\n",
        "    if epoch % print_every == 0 or epoch == 1:\n",
        "        # Evaluate on the test set\n",
        "        model.eval()\n",
        "        with torch.no_grad():\n",
        "            all_preds = []\n",
        "            for inputs, targets in test_dataloader:\n",
        "                inputs, targets = inputs.to(device), targets.to(device)\n",
        "                outputs = model(inputs)\n",
        "                preds = torch.argmax(outputs, dim=1)\n",
        "                all_preds.extend(preds.cpu().tolist())\n",
        "\n",
        "        # Calculate metrics\n",
        "        test_accuracy = accuracy_score(y_test, all_preds)\n",
        "        f1 = f1_score(y_test, all_preds, average='weighted')\n",
        "\n",
        "        print(f'Epoch {epoch}/{epochs}, Loss: {loss.item():.4f}, Test Accuracy: {test_accuracy * 100:.2f}%, F1 Score: {f1:.4f}')"
      ]
    }
  ],
  "metadata": {
    "colab": {
      "provenance": [],
      "gpuType": "T4"
    },
    "kernelspec": {
      "display_name": "Python 3",
      "name": "python3"
    },
    "language_info": {
      "name": "python"
    },
    "accelerator": "GPU"
  },
  "nbformat": 4,
  "nbformat_minor": 0
}