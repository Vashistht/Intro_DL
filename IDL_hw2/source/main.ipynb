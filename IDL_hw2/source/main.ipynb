{
 "cells": [
  {
   "cell_type": "code",
   "execution_count": 1,
   "metadata": {},
   "outputs": [],
   "source": [
    "import numpy as np\n",
    "import matplotlib.pyplot as plt\n",
    "\n",
    "from mytorch.nn.activation import ReLU, Softmax, Tanh, LinearActivation\n",
    "from mytorch.nn.initialization import Xavier, He\n",
    "from mytorch.nn.linear import Linear\n",
    "from mytorch.nn.loss import CrossEntropyLoss, L2Loss\n",
    "from mytorch.optim.optimizer import SGD, Adam\n",
    "from models.mlp import MLP\n",
    "import numpyNN"
   ]
  },
  {
   "cell_type": "code",
   "execution_count": 2,
   "metadata": {},
   "outputs": [],
   "source": [
    "# based on dataset.py from IML HW 6 \n",
    "def one_hot_encoding(y, num_classes=2):\n",
    "    one_hot = np.eye(num_classes)[y.astype(int).flatten()]\n",
    "    return one_hot"
   ]
  },
  {
   "cell_type": "code",
   "execution_count": 3,
   "metadata": {},
   "outputs": [],
   "source": [
    "def train_mlp(mlp, x_train, y_train, opt_loss, opt_optim, num_epoch = 20):\n",
    "    \n",
    "    print(x_train.shape, y_train.shape)\n",
    "    assert(x_train.shape[0]== y_train.shape[0]) # \"x_train and y_train must have same length\"\n",
    "    \n",
    "    \n",
    "    index = np.arange(len(x_train))\n",
    "    train_loss = []\n",
    "    train_accuracy = [ ]\n",
    "    opt_optim.initialize(mlp.get_parameters() )\n",
    "\n",
    "    y_train = one_hot_encoding(y_train)\n",
    "\n",
    "\n",
    "    for epoch in range(num_epoch):\n",
    "        np.random.shuffle(index)\n",
    "        train_data = x_train[index]\n",
    "        train_label = y_train[index]\n",
    "        \n",
    "        y_pred = mlp.forward(train_data)\n",
    "        \n",
    "        loss = opt_loss.forward(y_pred, train_label)\n",
    "        loss = np.mean(loss)\n",
    "        train_loss.append(loss)\n",
    "\n",
    "        predicted_labels = np.argmax(y_pred, axis=1)\n",
    "        true_labels = np.argmax(train_label, axis=1)\n",
    "        \n",
    "        accuracy = np.sum(predicted_labels == true_labels) / len(train_data)\n",
    "        train_accuracy.append(accuracy)\n",
    "        print(accuracy)\n",
    "        \n",
    "        dLdZ = opt_loss.backward(y_pred, train_label)\n",
    "        mlp.backward(dLdZ)\n",
    "        opt_optim.step()\n",
    "        opt_optim.zero_grad()\n",
    "        \n",
    "        print(f\"Epoch: {epoch}, Loss: {loss}, Accuracy: {accuracy}\")\n",
    "    \n",
    "    train_logs = {\"train_loss\": train_loss, \"train_accuracy\": train_accuracy}\n",
    "    return train_logs"
   ]
  },
  {
   "cell_type": "code",
   "execution_count": 4,
   "metadata": {},
   "outputs": [],
   "source": [
    "def test_mlp(mlp, x_test, y_test, opt_loss, num_epoch = 20):\n",
    "    \"\"\"\n",
    "    Parameters\n",
    "    ----------\n",
    "    Returns\n",
    "    -------\n",
    "        [0] Mean test loss.\n",
    "        [1] Test accuracy.\n",
    "    \"\"\"\n",
    "    assert(x_test.shape[0] == y_test.shape[0]) # \"x_test and y_test must have same length\"\n",
    "    \n",
    "    test_loss = []\n",
    "    test_accuracy = [ ]\n",
    "    y_test = one_hot_encoding(y_test)\n",
    "\n",
    "    for epoch in range(num_epoch):\n",
    "        y_pred = mlp.forward(x_test)\n",
    "        loss = opt_loss.forward(y_pred, y_test) \n",
    "        loss = np.mean(loss)\n",
    "        test_loss.append(loss)\n",
    "        \n",
    "        predicted_labels = np.argmax(y_pred, axis=1)\n",
    "        true_labels = np.argmax(y_test, axis=1) \n",
    "        \n",
    "        accuracy = np.sum(predicted_labels == true_labels) / len(x_test)\n",
    "        test_accuracy.append(accuracy)  \n",
    "        print(f\"Epoch: {epoch}, Loss: {loss}, Accuracy: {accuracy}\")\n",
    "    \n",
    "    test_logs = {\"test_loss\": test_loss, \"test_accuracy\": test_accuracy }\n",
    "    return test_logs"
   ]
  },
  {
   "cell_type": "code",
   "execution_count": 5,
   "metadata": {},
   "outputs": [],
   "source": [
    "x_train, y_train, x_test, y_test = numpyNN.sample_data(data_name = 'linear-separable',nTrain=100, nTest=40)"
   ]
  },
  {
   "cell_type": "code",
   "execution_count": 6,
   "metadata": {},
   "outputs": [],
   "source": [
    "dim_in, dim_out = x_train.shape[1], 2\n",
    "hidden_neuron_list = [4,8,16]\n",
    "activation_list = ['ReLU', 'ReLU', 'ReLU', 'Softmax']\n",
    "opt_init = None\n",
    "opt_loss = L2Loss()\n",
    "mlp = MLP(dim_in, dim_out, hidden_neuron_list, activation_list, opt_init)\n",
    "opt_optim = SGD(lr_decay=1, decay_iter=30)\n",
    "opt_optim.initialize(mlp.get_parameters() )"
   ]
  },
  {
   "cell_type": "code",
   "execution_count": 7,
   "metadata": {},
   "outputs": [
    {
     "name": "stdout",
     "output_type": "stream",
     "text": [
      "(100, 2) (100, 1)\n",
      "0.54\n",
      "0 Initialized v\n",
      "Epoch: 0, Loss: 0.0066816213985553975, Accuracy: 0.54\n",
      "0.54\n",
      "Epoch: 1, Loss: 0.006681621398555397, Accuracy: 0.54\n",
      "0.54\n",
      "Epoch: 2, Loss: 0.0066816213985553975, Accuracy: 0.54\n",
      "0.54\n",
      "Epoch: 3, Loss: 0.006681621398555397, Accuracy: 0.54\n",
      "0.54\n",
      "Epoch: 4, Loss: 0.006681621398555397, Accuracy: 0.54\n",
      "0.54\n",
      "Epoch: 5, Loss: 0.006681621398555397, Accuracy: 0.54\n",
      "0.54\n",
      "Epoch: 6, Loss: 0.006681621398555397, Accuracy: 0.54\n",
      "0.54\n",
      "Epoch: 7, Loss: 0.006681621398555397, Accuracy: 0.54\n",
      "0.54\n",
      "Epoch: 8, Loss: 0.006681621398555397, Accuracy: 0.54\n",
      "0.54\n",
      "Epoch: 9, Loss: 0.0066816213985553975, Accuracy: 0.54\n",
      "0.54\n",
      "Epoch: 10, Loss: 0.006681621398555395, Accuracy: 0.54\n",
      "0.54\n",
      "Epoch: 11, Loss: 0.006681621398555397, Accuracy: 0.54\n",
      "0.54\n",
      "Epoch: 12, Loss: 0.006681621398555397, Accuracy: 0.54\n",
      "0.54\n",
      "Epoch: 13, Loss: 0.0066816213985553975, Accuracy: 0.54\n",
      "0.54\n",
      "Epoch: 14, Loss: 0.006681621398555397, Accuracy: 0.54\n",
      "0.54\n",
      "Epoch: 15, Loss: 0.006681621398555397, Accuracy: 0.54\n",
      "0.54\n",
      "Epoch: 16, Loss: 0.0066816213985553975, Accuracy: 0.54\n",
      "0.54\n",
      "Epoch: 17, Loss: 0.006681621398555397, Accuracy: 0.54\n",
      "0.54\n",
      "Epoch: 18, Loss: 0.0066816213985553975, Accuracy: 0.54\n",
      "0.54\n",
      "Epoch: 19, Loss: 0.006681621398555397, Accuracy: 0.54\n"
     ]
    }
   ],
   "source": [
    "train_logs = train_mlp(mlp, x_train, y_train, opt_loss, opt_optim, num_epoch = 20)"
   ]
  },
  {
   "cell_type": "code",
   "execution_count": 8,
   "metadata": {},
   "outputs": [
    {
     "data": {
      "text/plain": [
       "{'train_loss': [0.0066816213985553975,\n",
       "  0.006681621398555397,\n",
       "  0.0066816213985553975,\n",
       "  0.006681621398555397,\n",
       "  0.006681621398555397,\n",
       "  0.006681621398555397,\n",
       "  0.006681621398555397,\n",
       "  0.006681621398555397,\n",
       "  0.006681621398555397,\n",
       "  0.0066816213985553975,\n",
       "  0.006681621398555395,\n",
       "  0.006681621398555397,\n",
       "  0.006681621398555397,\n",
       "  0.0066816213985553975,\n",
       "  0.006681621398555397,\n",
       "  0.006681621398555397,\n",
       "  0.0066816213985553975,\n",
       "  0.006681621398555397,\n",
       "  0.0066816213985553975,\n",
       "  0.006681621398555397],\n",
       " 'train_accuracy': [0.54,\n",
       "  0.54,\n",
       "  0.54,\n",
       "  0.54,\n",
       "  0.54,\n",
       "  0.54,\n",
       "  0.54,\n",
       "  0.54,\n",
       "  0.54,\n",
       "  0.54,\n",
       "  0.54,\n",
       "  0.54,\n",
       "  0.54,\n",
       "  0.54,\n",
       "  0.54,\n",
       "  0.54,\n",
       "  0.54,\n",
       "  0.54,\n",
       "  0.54,\n",
       "  0.54]}"
      ]
     },
     "execution_count": 8,
     "metadata": {},
     "output_type": "execute_result"
    }
   ],
   "source": [
    "train_logs"
   ]
  },
  {
   "cell_type": "code",
   "execution_count": 9,
   "metadata": {},
   "outputs": [
    {
     "name": "stdout",
     "output_type": "stream",
     "text": [
      "Epoch: 0, Loss: 0.01977506399951261, Accuracy: 0.475\n",
      "Epoch: 1, Loss: 0.01977506399951261, Accuracy: 0.475\n",
      "Epoch: 2, Loss: 0.01977506399951261, Accuracy: 0.475\n",
      "Epoch: 3, Loss: 0.01977506399951261, Accuracy: 0.475\n",
      "Epoch: 4, Loss: 0.01977506399951261, Accuracy: 0.475\n",
      "Epoch: 5, Loss: 0.01977506399951261, Accuracy: 0.475\n",
      "Epoch: 6, Loss: 0.01977506399951261, Accuracy: 0.475\n",
      "Epoch: 7, Loss: 0.01977506399951261, Accuracy: 0.475\n",
      "Epoch: 8, Loss: 0.01977506399951261, Accuracy: 0.475\n",
      "Epoch: 9, Loss: 0.01977506399951261, Accuracy: 0.475\n",
      "Epoch: 10, Loss: 0.01977506399951261, Accuracy: 0.475\n",
      "Epoch: 11, Loss: 0.01977506399951261, Accuracy: 0.475\n",
      "Epoch: 12, Loss: 0.01977506399951261, Accuracy: 0.475\n",
      "Epoch: 13, Loss: 0.01977506399951261, Accuracy: 0.475\n",
      "Epoch: 14, Loss: 0.01977506399951261, Accuracy: 0.475\n",
      "Epoch: 15, Loss: 0.01977506399951261, Accuracy: 0.475\n",
      "Epoch: 16, Loss: 0.01977506399951261, Accuracy: 0.475\n",
      "Epoch: 17, Loss: 0.01977506399951261, Accuracy: 0.475\n",
      "Epoch: 18, Loss: 0.01977506399951261, Accuracy: 0.475\n",
      "Epoch: 19, Loss: 0.01977506399951261, Accuracy: 0.475\n"
     ]
    }
   ],
   "source": [
    "mlp_test = mlp\n",
    "test_logs = test_mlp(mlp_test, x_test, y_test, opt_loss, num_epoch = 20)"
   ]
  },
  {
   "cell_type": "code",
   "execution_count": 10,
   "metadata": {},
   "outputs": [
    {
     "data": {
      "text/plain": [
       "array([[1.],\n",
       "       [0.],\n",
       "       [1.],\n",
       "       [1.],\n",
       "       [0.],\n",
       "       [1.],\n",
       "       [1.],\n",
       "       [0.],\n",
       "       [1.],\n",
       "       [1.],\n",
       "       [1.],\n",
       "       [1.],\n",
       "       [0.],\n",
       "       [0.],\n",
       "       [1.],\n",
       "       [1.],\n",
       "       [1.],\n",
       "       [0.],\n",
       "       [1.],\n",
       "       [1.],\n",
       "       [0.],\n",
       "       [1.],\n",
       "       [0.],\n",
       "       [0.],\n",
       "       [1.],\n",
       "       [0.],\n",
       "       [1.],\n",
       "       [1.],\n",
       "       [1.],\n",
       "       [1.],\n",
       "       [1.],\n",
       "       [1.],\n",
       "       [0.],\n",
       "       [0.],\n",
       "       [0.],\n",
       "       [0.],\n",
       "       [0.],\n",
       "       [0.],\n",
       "       [0.],\n",
       "       [0.]])"
      ]
     },
     "execution_count": 10,
     "metadata": {},
     "output_type": "execute_result"
    }
   ],
   "source": [
    "y_test"
   ]
  },
  {
   "cell_type": "code",
   "execution_count": 11,
   "metadata": {},
   "outputs": [
    {
     "data": {
      "text/plain": [
       "{'test_loss': [0.01977506399951261,\n",
       "  0.01977506399951261,\n",
       "  0.01977506399951261,\n",
       "  0.01977506399951261,\n",
       "  0.01977506399951261,\n",
       "  0.01977506399951261,\n",
       "  0.01977506399951261,\n",
       "  0.01977506399951261,\n",
       "  0.01977506399951261,\n",
       "  0.01977506399951261,\n",
       "  0.01977506399951261,\n",
       "  0.01977506399951261,\n",
       "  0.01977506399951261,\n",
       "  0.01977506399951261,\n",
       "  0.01977506399951261,\n",
       "  0.01977506399951261,\n",
       "  0.01977506399951261,\n",
       "  0.01977506399951261,\n",
       "  0.01977506399951261,\n",
       "  0.01977506399951261],\n",
       " 'test_accuracy': [0.475,\n",
       "  0.475,\n",
       "  0.475,\n",
       "  0.475,\n",
       "  0.475,\n",
       "  0.475,\n",
       "  0.475,\n",
       "  0.475,\n",
       "  0.475,\n",
       "  0.475,\n",
       "  0.475,\n",
       "  0.475,\n",
       "  0.475,\n",
       "  0.475,\n",
       "  0.475,\n",
       "  0.475,\n",
       "  0.475,\n",
       "  0.475,\n",
       "  0.475,\n",
       "  0.475]}"
      ]
     },
     "execution_count": 11,
     "metadata": {},
     "output_type": "execute_result"
    }
   ],
   "source": [
    "test_logs"
   ]
  },
  {
   "cell_type": "code",
   "execution_count": 12,
   "metadata": {},
   "outputs": [
    {
     "data": {
      "text/plain": [
       "{'train_loss': [0.0066816213985553975,\n",
       "  0.006681621398555397,\n",
       "  0.0066816213985553975,\n",
       "  0.006681621398555397,\n",
       "  0.006681621398555397,\n",
       "  0.006681621398555397,\n",
       "  0.006681621398555397,\n",
       "  0.006681621398555397,\n",
       "  0.006681621398555397,\n",
       "  0.0066816213985553975,\n",
       "  0.006681621398555395,\n",
       "  0.006681621398555397,\n",
       "  0.006681621398555397,\n",
       "  0.0066816213985553975,\n",
       "  0.006681621398555397,\n",
       "  0.006681621398555397,\n",
       "  0.0066816213985553975,\n",
       "  0.006681621398555397,\n",
       "  0.0066816213985553975,\n",
       "  0.006681621398555397],\n",
       " 'train_accuracy': [0.54,\n",
       "  0.54,\n",
       "  0.54,\n",
       "  0.54,\n",
       "  0.54,\n",
       "  0.54,\n",
       "  0.54,\n",
       "  0.54,\n",
       "  0.54,\n",
       "  0.54,\n",
       "  0.54,\n",
       "  0.54,\n",
       "  0.54,\n",
       "  0.54,\n",
       "  0.54,\n",
       "  0.54,\n",
       "  0.54,\n",
       "  0.54,\n",
       "  0.54,\n",
       "  0.54],\n",
       " 'test_loss': [0.01977506399951261,\n",
       "  0.01977506399951261,\n",
       "  0.01977506399951261,\n",
       "  0.01977506399951261,\n",
       "  0.01977506399951261,\n",
       "  0.01977506399951261,\n",
       "  0.01977506399951261,\n",
       "  0.01977506399951261,\n",
       "  0.01977506399951261,\n",
       "  0.01977506399951261,\n",
       "  0.01977506399951261,\n",
       "  0.01977506399951261,\n",
       "  0.01977506399951261,\n",
       "  0.01977506399951261,\n",
       "  0.01977506399951261,\n",
       "  0.01977506399951261,\n",
       "  0.01977506399951261,\n",
       "  0.01977506399951261,\n",
       "  0.01977506399951261,\n",
       "  0.01977506399951261],\n",
       " 'test_accuracy': [0.475,\n",
       "  0.475,\n",
       "  0.475,\n",
       "  0.475,\n",
       "  0.475,\n",
       "  0.475,\n",
       "  0.475,\n",
       "  0.475,\n",
       "  0.475,\n",
       "  0.475,\n",
       "  0.475,\n",
       "  0.475,\n",
       "  0.475,\n",
       "  0.475,\n",
       "  0.475,\n",
       "  0.475,\n",
       "  0.475,\n",
       "  0.475,\n",
       "  0.475,\n",
       "  0.475]}"
      ]
     },
     "execution_count": 12,
     "metadata": {},
     "output_type": "execute_result"
    }
   ],
   "source": [
    "logs = {**train_logs, **test_logs}\n",
    "logs"
   ]
  },
  {
   "cell_type": "code",
   "execution_count": 13,
   "metadata": {},
   "outputs": [
    {
     "name": "stdout",
     "output_type": "stream",
     "text": [
      "{'train_loss': [0.0066816213985553975, 0.006681621398555397, 0.0066816213985553975, 0.006681621398555397, 0.006681621398555397, 0.006681621398555397, 0.006681621398555397, 0.006681621398555397, 0.006681621398555397, 0.0066816213985553975, 0.006681621398555395, 0.006681621398555397, 0.006681621398555397, 0.0066816213985553975, 0.006681621398555397, 0.006681621398555397, 0.0066816213985553975, 0.006681621398555397, 0.0066816213985553975, 0.006681621398555397], 'train_accuracy': [0.54, 0.54, 0.54, 0.54, 0.54, 0.54, 0.54, 0.54, 0.54, 0.54, 0.54, 0.54, 0.54, 0.54, 0.54, 0.54, 0.54, 0.54, 0.54, 0.54], 'test_loss': [0.01977506399951261, 0.01977506399951261, 0.01977506399951261, 0.01977506399951261, 0.01977506399951261, 0.01977506399951261, 0.01977506399951261, 0.01977506399951261, 0.01977506399951261, 0.01977506399951261, 0.01977506399951261, 0.01977506399951261, 0.01977506399951261, 0.01977506399951261, 0.01977506399951261, 0.01977506399951261, 0.01977506399951261, 0.01977506399951261, 0.01977506399951261, 0.01977506399951261], 'test_accuracy': [0.475, 0.475, 0.475, 0.475, 0.475, 0.475, 0.475, 0.475, 0.475, 0.475, 0.475, 0.475, 0.475, 0.475, 0.475, 0.475, 0.475, 0.475, 0.475, 0.475]}\n"
     ]
    }
   ],
   "source": [
    "print(logs)"
   ]
  },
  {
   "cell_type": "code",
   "execution_count": 14,
   "metadata": {},
   "outputs": [
    {
     "data": {
      "image/png": "[encoded data removed]",
      "text/plain": [
       "<Figure size 2000x800 with 1 Axes>"
      ]
     },
     "metadata": {},
     "output_type": "display_data"
    }
   ],
   "source": [
    "numpyNN.plot_loss(logs)"
   ]
  },
  {
   "cell_type": "code",
   "execution_count": 15,
   "metadata": {},
   "outputs": [
    {
     "data": {
      "image/png": "[encoded data removed]",
      "text/plain": [
       "<Figure size 2000x800 with 1 Axes>"
      ]
     },
     "metadata": {},
     "output_type": "display_data"
    }
   ],
   "source": [
    "numpyNN.plot_accuracy(logs)"
   ]
  },
  {
   "cell_type": "code",
   "execution_count": 16,
   "metadata": {},
   "outputs": [
    {
     "name": "stdout",
     "output_type": "stream",
     "text": [
      "Model Summary\n",
      "-------------\n",
      "Layer 1: Linear - Input Dim: 2, Output Dim: 4, Parameters: 12\n",
      "Layer 2: ReLU\n",
      "Layer 3: Linear - Input Dim: 4, Output Dim: 8, Parameters: 40\n",
      "Layer 4: ReLU\n",
      "Layer 5: Linear - Input Dim: 8, Output Dim: 16, Parameters: 144\n",
      "Layer 6: ReLU\n",
      "Layer 7: Linear - Input Dim: 16, Output Dim: 2, Parameters: 34\n",
      "Layer 8: Softmax\n",
      "Total Parameters: 230\n",
      "None\n"
     ]
    }
   ],
   "source": [
    "\n",
    "print(mlp.summary())"
   ]
  },
  {
   "cell_type": "code",
   "execution_count": 17,
   "metadata": {},
   "outputs": [
    {
     "name": "stdout",
     "output_type": "stream",
     "text": [
      "[{'params': array([[-0.05293378,  0.33300574, -0.64898176, -1.54305643],\n",
      "       [ 1.65946033, -0.97009222,  1.29233496, -0.93876191]]), 'grad': array([[25.1874204 ,  2.64170358,  0.        ,  0.        ],\n",
      "       [ 7.52712957, -0.35091345,  0.        ,  0.        ]])}, {'params': array([[0., 0., 0., 0.]]), 'grad': array([[ 53, 100,   0,   0]])}, {'params': array([[-1.2125329 ,  1.67364748,  1.97539178, -1.17701205,  1.28612871,\n",
      "         0.87177349, -0.98595996,  0.09345946],\n",
      "       [-1.61964135, -1.62542609, -0.5144455 ,  0.31278707,  1.5645126 ,\n",
      "         0.8184355 ,  0.40214982,  0.11805556],\n",
      "       [ 0.03544277, -0.4779011 ,  0.62369317, -2.46952308, -1.14912376,\n",
      "        -0.50097079,  0.01475948, -0.39105058],\n",
      "       [-0.38841958,  1.05014196, -0.03206939, -0.04773387, -0.27734295,\n",
      "        -0.47213627, -0.18532964,  0.19542023]]), 'grad': array([[ 0.        ,  0.        ,  0.        , 12.92249045,  0.10503757,\n",
      "        41.76161291, 12.92249045,  0.        ],\n",
      "       [ 0.        ,  0.        ,  0.        , 11.38294581, 14.32903239,\n",
      "        25.71939203, 11.38294581,  0.        ],\n",
      "       [ 0.        ,  0.        ,  0.        , 17.53394494,  0.        ,\n",
      "        32.93284732, 17.53394494,  0.        ],\n",
      "       [ 0.        ,  0.        ,  0.        , 42.42248803,  0.78524772,\n",
      "        43.20773575, 42.42248803,  0.        ]])}, {'params': array([[0., 0., 0., 0., 0., 0., 0., 0.]]), 'grad': array([[  0,   0,   0,  47,  23, 100,  47,   0]])}, {'params': array([[ 1.48838294,  0.32484357, -1.18814232, -0.14941428, -0.30332892,\n",
      "        -1.35969704, -2.13801735,  0.4009371 ,  0.70684239,  0.79260778,\n",
      "        -0.23342308,  0.85974531,  0.36628054,  0.72642316,  0.01793846,\n",
      "        -2.28547991],\n",
      "       [-1.47884513, -1.35319994, -0.02894553, -1.71743247, -1.15290926,\n",
      "         0.94103081, -1.02852693,  0.06553581,  0.41047029, -1.16893036,\n",
      "        -1.91440763,  0.07323557,  0.74968813,  0.0861383 , -1.73723493,\n",
      "         0.15493378],\n",
      "       [-0.30609984,  0.90194082,  0.83237877, -0.42170588, -2.25102829,\n",
      "        -1.68572411,  0.79570616, -0.34258453,  0.36846691, -0.09743004,\n",
      "         0.6388735 ,  1.06138668, -0.77358677, -0.69601544, -0.41235644,\n",
      "        -1.81030697],\n",
      "       [ 1.5308268 , -0.03325109, -0.07198204,  0.06865298,  1.1655696 ,\n",
      "        -0.24849596, -0.47948293, -0.84145667, -0.13434625, -0.75724967,\n",
      "         0.1633898 , -0.93980543,  0.55634416, -1.46217032, -0.16425444,\n",
      "         0.65663668],\n",
      "       [-0.80120104, -0.82758534, -0.57482904, -0.02075158, -1.14888952,\n",
      "         1.75039066,  1.18641832, -0.47014724,  0.75982372, -0.28299435,\n",
      "        -0.65599418,  1.2421285 , -1.46855646,  0.84506705, -0.58419047,\n",
      "        -0.53000237],\n",
      "       [ 1.48760981, -0.58825482, -1.40026191,  3.05732433,  0.32554003,\n",
      "         0.38512974,  0.34404156, -1.10931502,  0.34205751, -0.57688712,\n",
      "         1.13274122,  0.4991662 ,  0.86016198, -0.04274332, -0.07517715,\n",
      "        -0.16357697],\n",
      "       [-0.62697991,  1.6465058 , -0.11327544,  1.33844805,  0.34579096,\n",
      "         0.56663693, -1.75982722, -1.25596928,  0.99932797,  0.0401682 ,\n",
      "         0.50847399,  0.23533367, -0.85450487,  0.55677613, -1.14480657,\n",
      "        -0.05245871],\n",
      "       [ 0.55464726, -0.17891749, -0.20351036,  0.3966926 ,  1.045083  ,\n",
      "        -1.67242863,  0.56846621, -0.36991607,  0.94962022, -0.01929837,\n",
      "         0.13989925, -1.3467313 , -1.19974717, -1.13613554, -2.08212975,\n",
      "        -1.65279195]]), 'grad': array([[ 0.        ,  0.        ,  0.        ,  0.        ,  0.        ,\n",
      "         0.        ,  0.        ,  0.        ,  0.        ,  0.        ,\n",
      "         0.        ,  0.        ,  0.        ,  0.        ,  0.        ,\n",
      "         0.        ],\n",
      "       [42.21906303, 40.71952579, 42.21906303, 42.21906303, 42.21906303,\n",
      "        40.71952579, 40.71952579, 40.71952579, 42.21906303, 42.21906303,\n",
      "        40.71952579, 42.21906303, 40.71952579, 40.71952579, 40.71952579,\n",
      "        42.21906303],\n",
      "       [36.05649434, 66.36145147, 36.05649434, 36.05649434, 36.05649434,\n",
      "        66.47621142, 66.47621142, 66.47621142, 36.05649434, 36.05649434,\n",
      "        66.47621142, 36.05649434, 66.47621142, 66.47621142, 66.47621142,\n",
      "        36.05649434],\n",
      "       [ 2.23264081,  0.        ,  2.23264081,  2.23264081,  2.23264081,\n",
      "         4.38807234,  4.38807234,  4.38807234,  2.23264081,  2.23264081,\n",
      "         4.38807234,  2.23264081,  4.38807234,  4.38807234,  4.38807234,\n",
      "         2.23264081],\n",
      "       [10.80712119, 19.27208608, 10.80712119, 10.80712119, 10.80712119,\n",
      "        41.60734678, 41.60734678, 41.60734678, 10.80712119, 10.80712119,\n",
      "        41.60734678, 10.80712119, 41.60734678, 41.60734678, 41.60734678,\n",
      "        10.80712119],\n",
      "       [ 3.70303577, 17.341281  ,  3.70303577,  3.70303577,  3.70303577,\n",
      "        28.78949488, 28.78949488, 28.78949488,  3.70303577,  3.70303577,\n",
      "        28.78949488,  3.70303577, 28.78949488, 28.78949488, 28.78949488,\n",
      "         3.70303577],\n",
      "       [ 1.13713063,  0.        ,  1.13713063,  1.13713063,  1.13713063,\n",
      "         5.54439931,  5.54439931,  5.54439931,  1.13713063,  1.13713063,\n",
      "         5.54439931,  1.13713063,  5.54439931,  5.54439931,  5.54439931,\n",
      "         1.13713063],\n",
      "       [ 7.270823  ,  0.22214005,  7.270823  ,  7.270823  ,  7.270823  ,\n",
      "         2.07703201,  2.07703201,  2.07703201,  7.270823  ,  7.270823  ,\n",
      "         2.07703201,  7.270823  ,  2.07703201,  2.07703201,  2.07703201,\n",
      "         7.270823  ]])}, {'params': array([[0., 0., 0., 0., 0., 0., 0., 0., 0., 0., 0., 0., 0., 0., 0., 0.]]), 'grad': array([[47, 30, 47, 47, 47, 53, 53, 53, 47, 47, 53, 47, 53, 53, 53, 47]])}, {'params': array([[ 0.68338404, -0.23492465],\n",
      "       [ 0.92040271,  0.9373799 ],\n",
      "       [ 0.62174085, -1.68086937],\n",
      "       [ 0.66121775,  0.62450748],\n",
      "       [ 1.18991667, -0.68296199],\n",
      "       [-0.65312651,  0.42976665],\n",
      "       [-0.17327197,  1.08060125],\n",
      "       [-2.8927943 , -0.76140133],\n",
      "       [ 1.97513784,  1.10593412],\n",
      "       [ 1.11319836, -0.00552499],\n",
      "       [-1.29947161,  1.68392246],\n",
      "       [ 1.28237242, -0.34369022],\n",
      "       [-1.15738312, -0.60891701],\n",
      "       [-1.00218322, -0.51100852],\n",
      "       [-1.97161176,  0.99274477],\n",
      "       [ 1.21169846, -0.74226929]]), 'grad': array([[-0.04144074,  0.04040602],\n",
      "       [ 0.04765001, -0.04958731],\n",
      "       [ 0.50844686, -0.52902562],\n",
      "       [-0.47262816,  0.45877902],\n",
      "       [ 0.        ,  0.        ],\n",
      "       [-0.33673765,  0.32075627],\n",
      "       [-0.05592707,  0.04355488],\n",
      "       [ 0.        ,  0.        ],\n",
      "       [ 0.32243634, -0.35363736],\n",
      "       [ 0.        ,  0.        ],\n",
      "       [-0.027996  ,  0.02731534],\n",
      "       [ 0.48874455, -0.53078884],\n",
      "       [ 0.05954481, -0.06095636],\n",
      "       [-0.14093806,  0.13677911],\n",
      "       [ 0.        ,  0.        ],\n",
      "       [ 0.        ,  0.        ]])}, {'params': array([[0., 0.]]), 'grad': array([[ 0.33004982, -0.3567763 ]])}]\n"
     ]
    }
   ],
   "source": [
    "print(mlp.get_parameters())\n"
   ]
  },
  {
   "cell_type": "code",
   "execution_count": 18,
   "metadata": {},
   "outputs": [],
   "source": [
    "\n",
    "y_pred = mlp.forward(x_train)\n",
    "y_train = one_hot_encoding(y_train)\n",
    "loss = opt_loss.forward(y_pred, y_train)"
   ]
  },
  {
   "cell_type": "code",
   "execution_count": 19,
   "metadata": {},
   "outputs": [
    {
     "data": {
      "text/plain": [
       "(array([[0.49039975, 0.50960025],\n",
       "        [0.41718584, 0.58281416],\n",
       "        [0.99802557, 0.00197443]]),\n",
       " array([[0., 1.],\n",
       "        [1., 0.],\n",
       "        [1., 0.]]),\n",
       " array([4.80983838e-03, 6.79344684e-03, 7.79672265e-08]))"
      ]
     },
     "execution_count": 19,
     "metadata": {},
     "output_type": "execute_result"
    }
   ],
   "source": [
    "y_pred[1:4], y_train[1:4], loss[1:4]"
   ]
  },
  {
   "cell_type": "code",
   "execution_count": 20,
   "metadata": {},
   "outputs": [
    {
     "name": "stdout",
     "output_type": "stream",
     "text": [
      "0.54\n"
     ]
    }
   ],
   "source": [
    "predicted_labels = np.argmax(y_pred, axis=1)\n",
    "true_labels = np.argmax(y_train, axis=1)  # Adjust this line if train_y is not one-hot encoded\n",
    "accuracy = np.sum(predicted_labels == true_labels) / len(x_train)\n",
    "print(accuracy)"
   ]
  },
  {
   "cell_type": "code",
   "execution_count": 21,
   "metadata": {},
   "outputs": [
    {
     "name": "stdout",
     "output_type": "stream",
     "text": [
      "Before backward: -0.10862813388920195\n"
     ]
    }
   ],
   "source": [
    "print(\"Before backward:\", mlp.layers[0].parameters[0]['params'].mean())"
   ]
  },
  {
   "cell_type": "code",
   "execution_count": 22,
   "metadata": {},
   "outputs": [
    {
     "data": {
      "text/plain": [
       "array([[ 9.80799509e-03, -9.80799509e-03],\n",
       "       [-1.16562832e-02,  1.16562832e-02],\n",
       "       [-3.94885367e-05,  3.94885367e-05],\n",
       "       [-2.87380117e-06,  2.87380117e-06],\n",
       "       [ 1.99985947e-02, -1.99985947e-02],\n",
       "       [ 1.88711909e-02, -1.88711909e-02],\n",
       "       [-1.45053405e-05,  1.45053405e-05],\n",
       "       [-1.19211140e-02,  1.19211140e-02],\n",
       "       [ 1.99440597e-02, -1.99440597e-02]])"
      ]
     },
     "execution_count": 22,
     "metadata": {},
     "output_type": "execute_result"
    }
   ],
   "source": [
    "dLdZ = opt_loss.backward(y_pred, y_train)\n",
    "dLdZ[1:10]"
   ]
  },
  {
   "cell_type": "code",
   "execution_count": 23,
   "metadata": {},
   "outputs": [
    {
     "data": {
      "text/plain": [
       "(100, 2)"
      ]
     },
     "execution_count": 23,
     "metadata": {},
     "output_type": "execute_result"
    }
   ],
   "source": [
    "dLdZ.shape"
   ]
  },
  {
   "cell_type": "code",
   "execution_count": 24,
   "metadata": {},
   "outputs": [
    {
     "data": {
      "text/plain": [
       "[{'params': array([[-0.05293378,  0.33300574, -0.64898176, -1.54305643],\n",
       "         [ 1.65946033, -0.97009222,  1.29233496, -0.93876191]]),\n",
       "  'grad': array([[25.1874204 ,  2.64170358,  0.        ,  0.        ],\n",
       "         [ 7.52712957, -0.35091345,  0.        ,  0.        ]])},\n",
       " {'params': array([[0., 0., 0., 0.]]), 'grad': array([[ 53, 100,   0,   0]])},\n",
       " {'params': array([[-1.2125329 ,  1.67364748,  1.97539178, -1.17701205,  1.28612871,\n",
       "           0.87177349, -0.98595996,  0.09345946],\n",
       "         [-1.61964135, -1.62542609, -0.5144455 ,  0.31278707,  1.5645126 ,\n",
       "           0.8184355 ,  0.40214982,  0.11805556],\n",
       "         [ 0.03544277, -0.4779011 ,  0.62369317, -2.46952308, -1.14912376,\n",
       "          -0.50097079,  0.01475948, -0.39105058],\n",
       "         [-0.38841958,  1.05014196, -0.03206939, -0.04773387, -0.27734295,\n",
       "          -0.47213627, -0.18532964,  0.19542023]]),\n",
       "  'grad': array([[ 0.        ,  0.        ,  0.        , 12.92249045,  0.10503757,\n",
       "          41.76161291, 12.92249045,  0.        ],\n",
       "         [ 0.        ,  0.        ,  0.        , 11.38294581, 14.32903239,\n",
       "          25.71939203, 11.38294581,  0.        ],\n",
       "         [ 0.        ,  0.        ,  0.        , 17.53394494,  0.        ,\n",
       "          32.93284732, 17.53394494,  0.        ],\n",
       "         [ 0.        ,  0.        ,  0.        , 42.42248803,  0.78524772,\n",
       "          43.20773575, 42.42248803,  0.        ]])},\n",
       " {'params': array([[0., 0., 0., 0., 0., 0., 0., 0.]]),\n",
       "  'grad': array([[  0,   0,   0,  47,  23, 100,  47,   0]])},\n",
       " {'params': array([[ 1.48838294,  0.32484357, -1.18814232, -0.14941428, -0.30332892,\n",
       "          -1.35969704, -2.13801735,  0.4009371 ,  0.70684239,  0.79260778,\n",
       "          -0.23342308,  0.85974531,  0.36628054,  0.72642316,  0.01793846,\n",
       "          -2.28547991],\n",
       "         [-1.47884513, -1.35319994, -0.02894553, -1.71743247, -1.15290926,\n",
       "           0.94103081, -1.02852693,  0.06553581,  0.41047029, -1.16893036,\n",
       "          -1.91440763,  0.07323557,  0.74968813,  0.0861383 , -1.73723493,\n",
       "           0.15493378],\n",
       "         [-0.30609984,  0.90194082,  0.83237877, -0.42170588, -2.25102829,\n",
       "          -1.68572411,  0.79570616, -0.34258453,  0.36846691, -0.09743004,\n",
       "           0.6388735 ,  1.06138668, -0.77358677, -0.69601544, -0.41235644,\n",
       "          -1.81030697],\n",
       "         [ 1.5308268 , -0.03325109, -0.07198204,  0.06865298,  1.1655696 ,\n",
       "          -0.24849596, -0.47948293, -0.84145667, -0.13434625, -0.75724967,\n",
       "           0.1633898 , -0.93980543,  0.55634416, -1.46217032, -0.16425444,\n",
       "           0.65663668],\n",
       "         [-0.80120104, -0.82758534, -0.57482904, -0.02075158, -1.14888952,\n",
       "           1.75039066,  1.18641832, -0.47014724,  0.75982372, -0.28299435,\n",
       "          -0.65599418,  1.2421285 , -1.46855646,  0.84506705, -0.58419047,\n",
       "          -0.53000237],\n",
       "         [ 1.48760981, -0.58825482, -1.40026191,  3.05732433,  0.32554003,\n",
       "           0.38512974,  0.34404156, -1.10931502,  0.34205751, -0.57688712,\n",
       "           1.13274122,  0.4991662 ,  0.86016198, -0.04274332, -0.07517715,\n",
       "          -0.16357697],\n",
       "         [-0.62697991,  1.6465058 , -0.11327544,  1.33844805,  0.34579096,\n",
       "           0.56663693, -1.75982722, -1.25596928,  0.99932797,  0.0401682 ,\n",
       "           0.50847399,  0.23533367, -0.85450487,  0.55677613, -1.14480657,\n",
       "          -0.05245871],\n",
       "         [ 0.55464726, -0.17891749, -0.20351036,  0.3966926 ,  1.045083  ,\n",
       "          -1.67242863,  0.56846621, -0.36991607,  0.94962022, -0.01929837,\n",
       "           0.13989925, -1.3467313 , -1.19974717, -1.13613554, -2.08212975,\n",
       "          -1.65279195]]),\n",
       "  'grad': array([[ 0.        ,  0.        ,  0.        ,  0.        ,  0.        ,\n",
       "           0.        ,  0.        ,  0.        ,  0.        ,  0.        ,\n",
       "           0.        ,  0.        ,  0.        ,  0.        ,  0.        ,\n",
       "           0.        ],\n",
       "         [42.21906303, 40.71952579, 42.21906303, 42.21906303, 42.21906303,\n",
       "          40.71952579, 40.71952579, 40.71952579, 42.21906303, 42.21906303,\n",
       "          40.71952579, 42.21906303, 40.71952579, 40.71952579, 40.71952579,\n",
       "          42.21906303],\n",
       "         [36.05649434, 66.36145147, 36.05649434, 36.05649434, 36.05649434,\n",
       "          66.47621142, 66.47621142, 66.47621142, 36.05649434, 36.05649434,\n",
       "          66.47621142, 36.05649434, 66.47621142, 66.47621142, 66.47621142,\n",
       "          36.05649434],\n",
       "         [ 2.23264081,  0.        ,  2.23264081,  2.23264081,  2.23264081,\n",
       "           4.38807234,  4.38807234,  4.38807234,  2.23264081,  2.23264081,\n",
       "           4.38807234,  2.23264081,  4.38807234,  4.38807234,  4.38807234,\n",
       "           2.23264081],\n",
       "         [10.80712119, 19.27208608, 10.80712119, 10.80712119, 10.80712119,\n",
       "          41.60734678, 41.60734678, 41.60734678, 10.80712119, 10.80712119,\n",
       "          41.60734678, 10.80712119, 41.60734678, 41.60734678, 41.60734678,\n",
       "          10.80712119],\n",
       "         [ 3.70303577, 17.341281  ,  3.70303577,  3.70303577,  3.70303577,\n",
       "          28.78949488, 28.78949488, 28.78949488,  3.70303577,  3.70303577,\n",
       "          28.78949488,  3.70303577, 28.78949488, 28.78949488, 28.78949488,\n",
       "           3.70303577],\n",
       "         [ 1.13713063,  0.        ,  1.13713063,  1.13713063,  1.13713063,\n",
       "           5.54439931,  5.54439931,  5.54439931,  1.13713063,  1.13713063,\n",
       "           5.54439931,  1.13713063,  5.54439931,  5.54439931,  5.54439931,\n",
       "           1.13713063],\n",
       "         [ 7.270823  ,  0.22214005,  7.270823  ,  7.270823  ,  7.270823  ,\n",
       "           2.07703201,  2.07703201,  2.07703201,  7.270823  ,  7.270823  ,\n",
       "           2.07703201,  7.270823  ,  2.07703201,  2.07703201,  2.07703201,\n",
       "           7.270823  ]])},\n",
       " {'params': array([[0., 0., 0., 0., 0., 0., 0., 0., 0., 0., 0., 0., 0., 0., 0., 0.]]),\n",
       "  'grad': array([[47, 30, 47, 47, 47, 53, 53, 53, 47, 47, 53, 47, 53, 53, 53, 47]])},\n",
       " {'params': array([[ 0.68338404, -0.23492465],\n",
       "         [ 0.92040271,  0.9373799 ],\n",
       "         [ 0.62174085, -1.68086937],\n",
       "         [ 0.66121775,  0.62450748],\n",
       "         [ 1.18991667, -0.68296199],\n",
       "         [-0.65312651,  0.42976665],\n",
       "         [-0.17327197,  1.08060125],\n",
       "         [-2.8927943 , -0.76140133],\n",
       "         [ 1.97513784,  1.10593412],\n",
       "         [ 1.11319836, -0.00552499],\n",
       "         [-1.29947161,  1.68392246],\n",
       "         [ 1.28237242, -0.34369022],\n",
       "         [-1.15738312, -0.60891701],\n",
       "         [-1.00218322, -0.51100852],\n",
       "         [-1.97161176,  0.99274477],\n",
       "         [ 1.21169846, -0.74226929]]),\n",
       "  'grad': array([[-0.04144074,  0.04040602],\n",
       "         [ 0.04765001, -0.04958731],\n",
       "         [ 0.50844686, -0.52902562],\n",
       "         [-0.47262816,  0.45877902],\n",
       "         [ 0.        ,  0.        ],\n",
       "         [-0.33673765,  0.32075627],\n",
       "         [-0.05592707,  0.04355488],\n",
       "         [ 0.        ,  0.        ],\n",
       "         [ 0.32243634, -0.35363736],\n",
       "         [ 0.        ,  0.        ],\n",
       "         [-0.027996  ,  0.02731534],\n",
       "         [ 0.48874455, -0.53078884],\n",
       "         [ 0.05954481, -0.06095636],\n",
       "         [-0.14093806,  0.13677911],\n",
       "         [ 0.        ,  0.        ],\n",
       "         [ 0.        ,  0.        ]])},\n",
       " {'params': array([[0., 0.]]), 'grad': array([[ 0.33004982, -0.3567763 ]])}]"
      ]
     },
     "execution_count": 24,
     "metadata": {},
     "output_type": "execute_result"
    }
   ],
   "source": [
    "mlp.get_parameters()"
   ]
  },
  {
   "cell_type": "code",
   "execution_count": 25,
   "metadata": {},
   "outputs": [
    {
     "data": {
      "text/plain": [
       "array([[ 0.33300574, -0.97009222],\n",
       "       [ 0.33300574, -0.97009222],\n",
       "       [ 0.28007196,  0.68936811],\n",
       "       [ 0.28007196,  0.68936811],\n",
       "       [ 0.28007196,  0.68936811],\n",
       "       [ 0.33300574, -0.97009222],\n",
       "       [ 0.33300574, -0.97009222],\n",
       "       [ 0.28007196,  0.68936811],\n",
       "       [ 0.28007196,  0.68936811],\n",
       "       [ 0.33300574, -0.97009222],\n",
       "       [ 0.33300574, -0.97009222],\n",
       "       [ 0.33300574, -0.97009222],\n",
       "       [ 0.28007196,  0.68936811],\n",
       "       [ 0.33300574, -0.97009222],\n",
       "       [ 0.33300574, -0.97009222],\n",
       "       [ 0.28007196,  0.68936811],\n",
       "       [ 0.33300574, -0.97009222],\n",
       "       [ 0.33300574, -0.97009222],\n",
       "       [ 0.33300574, -0.97009222],\n",
       "       [ 0.28007196,  0.68936811],\n",
       "       [ 0.33300574, -0.97009222],\n",
       "       [ 0.28007196,  0.68936811],\n",
       "       [ 0.28007196,  0.68936811],\n",
       "       [ 0.28007196,  0.68936811],\n",
       "       [ 0.28007196,  0.68936811],\n",
       "       [ 0.33300574, -0.97009222],\n",
       "       [ 0.28007196,  0.68936811],\n",
       "       [ 0.28007196,  0.68936811],\n",
       "       [ 0.28007196,  0.68936811],\n",
       "       [ 0.33300574, -0.97009222],\n",
       "       [ 0.33300574, -0.97009222],\n",
       "       [ 0.28007196,  0.68936811],\n",
       "       [ 0.28007196,  0.68936811],\n",
       "       [ 0.33300574, -0.97009222],\n",
       "       [ 0.33300574, -0.97009222],\n",
       "       [ 0.33300574, -0.97009222],\n",
       "       [ 0.28007196,  0.68936811],\n",
       "       [ 0.33300574, -0.97009222],\n",
       "       [ 0.33300574, -0.97009222],\n",
       "       [ 0.33300574, -0.97009222],\n",
       "       [ 0.28007196,  0.68936811],\n",
       "       [ 0.28007196,  0.68936811],\n",
       "       [ 0.28007196,  0.68936811],\n",
       "       [ 0.28007196,  0.68936811],\n",
       "       [ 0.28007196,  0.68936811],\n",
       "       [ 0.28007196,  0.68936811],\n",
       "       [ 0.33300574, -0.97009222],\n",
       "       [ 0.28007196,  0.68936811],\n",
       "       [ 0.33300574, -0.97009222],\n",
       "       [ 0.28007196,  0.68936811],\n",
       "       [ 0.33300574, -0.97009222],\n",
       "       [ 0.33300574, -0.97009222],\n",
       "       [ 0.33300574, -0.97009222],\n",
       "       [ 0.33300574, -0.97009222],\n",
       "       [ 0.28007196,  0.68936811],\n",
       "       [ 0.33300574, -0.97009222],\n",
       "       [ 0.28007196,  0.68936811],\n",
       "       [ 0.28007196,  0.68936811],\n",
       "       [ 0.33300574, -0.97009222],\n",
       "       [ 0.33300574, -0.97009222],\n",
       "       [ 0.28007196,  0.68936811],\n",
       "       [ 0.28007196,  0.68936811],\n",
       "       [ 0.33300574, -0.97009222],\n",
       "       [ 0.28007196,  0.68936811],\n",
       "       [ 0.33300574, -0.97009222],\n",
       "       [ 0.28007196,  0.68936811],\n",
       "       [ 0.28007196,  0.68936811],\n",
       "       [ 0.33300574, -0.97009222],\n",
       "       [ 0.28007196,  0.68936811],\n",
       "       [ 0.28007196,  0.68936811],\n",
       "       [ 0.28007196,  0.68936811],\n",
       "       [ 0.28007196,  0.68936811],\n",
       "       [ 0.28007196,  0.68936811],\n",
       "       [ 0.33300574, -0.97009222],\n",
       "       [ 0.33300574, -0.97009222],\n",
       "       [ 0.33300574, -0.97009222],\n",
       "       [ 0.33300574, -0.97009222],\n",
       "       [ 0.33300574, -0.97009222],\n",
       "       [ 0.28007196,  0.68936811],\n",
       "       [ 0.33300574, -0.97009222],\n",
       "       [ 0.28007196,  0.68936811],\n",
       "       [ 0.33300574, -0.97009222],\n",
       "       [ 0.28007196,  0.68936811],\n",
       "       [ 0.28007196,  0.68936811],\n",
       "       [ 0.33300574, -0.97009222],\n",
       "       [ 0.28007196,  0.68936811],\n",
       "       [ 0.28007196,  0.68936811],\n",
       "       [ 0.28007196,  0.68936811],\n",
       "       [ 0.33300574, -0.97009222],\n",
       "       [ 0.28007196,  0.68936811],\n",
       "       [ 0.33300574, -0.97009222],\n",
       "       [ 0.28007196,  0.68936811],\n",
       "       [ 0.28007196,  0.68936811],\n",
       "       [ 0.28007196,  0.68936811],\n",
       "       [ 0.28007196,  0.68936811],\n",
       "       [ 0.28007196,  0.68936811],\n",
       "       [ 0.33300574, -0.97009222],\n",
       "       [ 0.28007196,  0.68936811],\n",
       "       [ 0.33300574, -0.97009222],\n",
       "       [ 0.33300574, -0.97009222]])"
      ]
     },
     "execution_count": 25,
     "metadata": {},
     "output_type": "execute_result"
    }
   ],
   "source": [
    "mlp.backward(dLdZ)"
   ]
  },
  {
   "cell_type": "code",
   "execution_count": 26,
   "metadata": {},
   "outputs": [
    {
     "data": {
      "text/plain": [
       "[{'params': array([[-0.05293378,  0.33300574, -0.64898176, -1.54305643],\n",
       "         [ 1.65946033, -0.97009222,  1.29233496, -0.93876191]]),\n",
       "  'grad': array([[25.1874204 ,  2.64170358,  0.        ,  0.        ],\n",
       "         [ 7.52712957, -0.35091345,  0.        ,  0.        ]])},\n",
       " {'params': array([[0., 0., 0., 0.]]), 'grad': array([[ 53, 100,   0,   0]])},\n",
       " {'params': array([[-1.2125329 ,  1.67364748,  1.97539178, -1.17701205,  1.28612871,\n",
       "           0.87177349, -0.98595996,  0.09345946],\n",
       "         [-1.61964135, -1.62542609, -0.5144455 ,  0.31278707,  1.5645126 ,\n",
       "           0.8184355 ,  0.40214982,  0.11805556],\n",
       "         [ 0.03544277, -0.4779011 ,  0.62369317, -2.46952308, -1.14912376,\n",
       "          -0.50097079,  0.01475948, -0.39105058],\n",
       "         [-0.38841958,  1.05014196, -0.03206939, -0.04773387, -0.27734295,\n",
       "          -0.47213627, -0.18532964,  0.19542023]]),\n",
       "  'grad': array([[ 0.        ,  0.        ,  0.        , 12.92249045,  0.10503757,\n",
       "          41.76161291, 12.92249045,  0.        ],\n",
       "         [ 0.        ,  0.        ,  0.        , 11.38294581, 14.32903239,\n",
       "          25.71939203, 11.38294581,  0.        ],\n",
       "         [ 0.        ,  0.        ,  0.        , 17.53394494,  0.        ,\n",
       "          32.93284732, 17.53394494,  0.        ],\n",
       "         [ 0.        ,  0.        ,  0.        , 42.42248803,  0.78524772,\n",
       "          43.20773575, 42.42248803,  0.        ]])},\n",
       " {'params': array([[0., 0., 0., 0., 0., 0., 0., 0.]]),\n",
       "  'grad': array([[  0,   0,   0,  47,  23, 100,  47,   0]])},\n",
       " {'params': array([[ 1.48838294,  0.32484357, -1.18814232, -0.14941428, -0.30332892,\n",
       "          -1.35969704, -2.13801735,  0.4009371 ,  0.70684239,  0.79260778,\n",
       "          -0.23342308,  0.85974531,  0.36628054,  0.72642316,  0.01793846,\n",
       "          -2.28547991],\n",
       "         [-1.47884513, -1.35319994, -0.02894553, -1.71743247, -1.15290926,\n",
       "           0.94103081, -1.02852693,  0.06553581,  0.41047029, -1.16893036,\n",
       "          -1.91440763,  0.07323557,  0.74968813,  0.0861383 , -1.73723493,\n",
       "           0.15493378],\n",
       "         [-0.30609984,  0.90194082,  0.83237877, -0.42170588, -2.25102829,\n",
       "          -1.68572411,  0.79570616, -0.34258453,  0.36846691, -0.09743004,\n",
       "           0.6388735 ,  1.06138668, -0.77358677, -0.69601544, -0.41235644,\n",
       "          -1.81030697],\n",
       "         [ 1.5308268 , -0.03325109, -0.07198204,  0.06865298,  1.1655696 ,\n",
       "          -0.24849596, -0.47948293, -0.84145667, -0.13434625, -0.75724967,\n",
       "           0.1633898 , -0.93980543,  0.55634416, -1.46217032, -0.16425444,\n",
       "           0.65663668],\n",
       "         [-0.80120104, -0.82758534, -0.57482904, -0.02075158, -1.14888952,\n",
       "           1.75039066,  1.18641832, -0.47014724,  0.75982372, -0.28299435,\n",
       "          -0.65599418,  1.2421285 , -1.46855646,  0.84506705, -0.58419047,\n",
       "          -0.53000237],\n",
       "         [ 1.48760981, -0.58825482, -1.40026191,  3.05732433,  0.32554003,\n",
       "           0.38512974,  0.34404156, -1.10931502,  0.34205751, -0.57688712,\n",
       "           1.13274122,  0.4991662 ,  0.86016198, -0.04274332, -0.07517715,\n",
       "          -0.16357697],\n",
       "         [-0.62697991,  1.6465058 , -0.11327544,  1.33844805,  0.34579096,\n",
       "           0.56663693, -1.75982722, -1.25596928,  0.99932797,  0.0401682 ,\n",
       "           0.50847399,  0.23533367, -0.85450487,  0.55677613, -1.14480657,\n",
       "          -0.05245871],\n",
       "         [ 0.55464726, -0.17891749, -0.20351036,  0.3966926 ,  1.045083  ,\n",
       "          -1.67242863,  0.56846621, -0.36991607,  0.94962022, -0.01929837,\n",
       "           0.13989925, -1.3467313 , -1.19974717, -1.13613554, -2.08212975,\n",
       "          -1.65279195]]),\n",
       "  'grad': array([[ 0.        ,  0.        ,  0.        ,  0.        ,  0.        ,\n",
       "           0.        ,  0.        ,  0.        ,  0.        ,  0.        ,\n",
       "           0.        ,  0.        ,  0.        ,  0.        ,  0.        ,\n",
       "           0.        ],\n",
       "         [42.21906303, 40.71952579, 42.21906303, 42.21906303, 42.21906303,\n",
       "          40.71952579, 40.71952579, 40.71952579, 42.21906303, 42.21906303,\n",
       "          40.71952579, 42.21906303, 40.71952579, 40.71952579, 40.71952579,\n",
       "          42.21906303],\n",
       "         [36.05649434, 66.36145147, 36.05649434, 36.05649434, 36.05649434,\n",
       "          66.47621142, 66.47621142, 66.47621142, 36.05649434, 36.05649434,\n",
       "          66.47621142, 36.05649434, 66.47621142, 66.47621142, 66.47621142,\n",
       "          36.05649434],\n",
       "         [ 2.23264081,  0.        ,  2.23264081,  2.23264081,  2.23264081,\n",
       "           4.38807234,  4.38807234,  4.38807234,  2.23264081,  2.23264081,\n",
       "           4.38807234,  2.23264081,  4.38807234,  4.38807234,  4.38807234,\n",
       "           2.23264081],\n",
       "         [10.80712119, 19.27208608, 10.80712119, 10.80712119, 10.80712119,\n",
       "          41.60734678, 41.60734678, 41.60734678, 10.80712119, 10.80712119,\n",
       "          41.60734678, 10.80712119, 41.60734678, 41.60734678, 41.60734678,\n",
       "          10.80712119],\n",
       "         [ 3.70303577, 17.341281  ,  3.70303577,  3.70303577,  3.70303577,\n",
       "          28.78949488, 28.78949488, 28.78949488,  3.70303577,  3.70303577,\n",
       "          28.78949488,  3.70303577, 28.78949488, 28.78949488, 28.78949488,\n",
       "           3.70303577],\n",
       "         [ 1.13713063,  0.        ,  1.13713063,  1.13713063,  1.13713063,\n",
       "           5.54439931,  5.54439931,  5.54439931,  1.13713063,  1.13713063,\n",
       "           5.54439931,  1.13713063,  5.54439931,  5.54439931,  5.54439931,\n",
       "           1.13713063],\n",
       "         [ 7.270823  ,  0.22214005,  7.270823  ,  7.270823  ,  7.270823  ,\n",
       "           2.07703201,  2.07703201,  2.07703201,  7.270823  ,  7.270823  ,\n",
       "           2.07703201,  7.270823  ,  2.07703201,  2.07703201,  2.07703201,\n",
       "           7.270823  ]])},\n",
       " {'params': array([[0., 0., 0., 0., 0., 0., 0., 0., 0., 0., 0., 0., 0., 0., 0., 0.]]),\n",
       "  'grad': array([[47, 30, 47, 47, 47, 53, 53, 53, 47, 47, 53, 47, 53, 53, 53, 47]])},\n",
       " {'params': array([[ 0.68338404, -0.23492465],\n",
       "         [ 0.92040271,  0.9373799 ],\n",
       "         [ 0.62174085, -1.68086937],\n",
       "         [ 0.66121775,  0.62450748],\n",
       "         [ 1.18991667, -0.68296199],\n",
       "         [-0.65312651,  0.42976665],\n",
       "         [-0.17327197,  1.08060125],\n",
       "         [-2.8927943 , -0.76140133],\n",
       "         [ 1.97513784,  1.10593412],\n",
       "         [ 1.11319836, -0.00552499],\n",
       "         [-1.29947161,  1.68392246],\n",
       "         [ 1.28237242, -0.34369022],\n",
       "         [-1.15738312, -0.60891701],\n",
       "         [-1.00218322, -0.51100852],\n",
       "         [-1.97161176,  0.99274477],\n",
       "         [ 1.21169846, -0.74226929]]),\n",
       "  'grad': array([[-0.04144074,  0.04040602],\n",
       "         [ 0.04765001, -0.04958731],\n",
       "         [ 0.50844686, -0.52902562],\n",
       "         [-0.47262816,  0.45877902],\n",
       "         [ 0.        ,  0.        ],\n",
       "         [-0.33673765,  0.32075627],\n",
       "         [-0.05592707,  0.04355488],\n",
       "         [ 0.        ,  0.        ],\n",
       "         [ 0.32243634, -0.35363736],\n",
       "         [ 0.        ,  0.        ],\n",
       "         [-0.027996  ,  0.02731534],\n",
       "         [ 0.48874455, -0.53078884],\n",
       "         [ 0.05954481, -0.06095636],\n",
       "         [-0.14093806,  0.13677911],\n",
       "         [ 0.        ,  0.        ],\n",
       "         [ 0.        ,  0.        ]])},\n",
       " {'params': array([[0., 0.]]), 'grad': array([[ 0.33004982, -0.3567763 ]])}]"
      ]
     },
     "execution_count": 26,
     "metadata": {},
     "output_type": "execute_result"
    }
   ],
   "source": [
    "mlp.get_parameters()"
   ]
  },
  {
   "cell_type": "code",
   "execution_count": 27,
   "metadata": {},
   "outputs": [
    {
     "name": "stdout",
     "output_type": "stream",
     "text": [
      "Before optimization: -0.10862813388920195\n"
     ]
    }
   ],
   "source": [
    "print(\"Before optimization:\", mlp.layers[0].parameters[0]['params'].mean())"
   ]
  },
  {
   "cell_type": "code",
   "execution_count": 28,
   "metadata": {},
   "outputs": [],
   "source": [
    "opt_optim.step()"
   ]
  },
  {
   "cell_type": "code",
   "execution_count": 29,
   "metadata": {},
   "outputs": [
    {
     "name": "stdout",
     "output_type": "stream",
     "text": [
      "After optimization: -0.10862813388920195\n"
     ]
    }
   ],
   "source": [
    "print(\"After optimization:\", mlp.layers[0].parameters[0]['params'].mean())"
   ]
  },
  {
   "cell_type": "code",
   "execution_count": 30,
   "metadata": {},
   "outputs": [],
   "source": [
    "opt_optim.zero_grad()"
   ]
  },
  {
   "cell_type": "code",
   "execution_count": 31,
   "metadata": {},
   "outputs": [
    {
     "data": {
      "text/plain": [
       "[{'params': array([[-0.05293378,  0.33300574, -0.64898176, -1.54305643],\n",
       "         [ 1.65946033, -0.97009222,  1.29233496, -0.93876191]]),\n",
       "  'grad': array([[25.1874204 ,  2.64170358,  0.        ,  0.        ],\n",
       "         [ 7.52712957, -0.35091345,  0.        ,  0.        ]])},\n",
       " {'params': array([[0., 0., 0., 0.]]), 'grad': array([[ 53, 100,   0,   0]])},\n",
       " {'params': array([[-1.2125329 ,  1.67364748,  1.97539178, -1.17701205,  1.28612871,\n",
       "           0.87177349, -0.98595996,  0.09345946],\n",
       "         [-1.61964135, -1.62542609, -0.5144455 ,  0.31278707,  1.5645126 ,\n",
       "           0.8184355 ,  0.40214982,  0.11805556],\n",
       "         [ 0.03544277, -0.4779011 ,  0.62369317, -2.46952308, -1.14912376,\n",
       "          -0.50097079,  0.01475948, -0.39105058],\n",
       "         [-0.38841958,  1.05014196, -0.03206939, -0.04773387, -0.27734295,\n",
       "          -0.47213627, -0.18532964,  0.19542023]]),\n",
       "  'grad': array([[ 0.        ,  0.        ,  0.        , 12.92249045,  0.10503757,\n",
       "          41.76161291, 12.92249045,  0.        ],\n",
       "         [ 0.        ,  0.        ,  0.        , 11.38294581, 14.32903239,\n",
       "          25.71939203, 11.38294581,  0.        ],\n",
       "         [ 0.        ,  0.        ,  0.        , 17.53394494,  0.        ,\n",
       "          32.93284732, 17.53394494,  0.        ],\n",
       "         [ 0.        ,  0.        ,  0.        , 42.42248803,  0.78524772,\n",
       "          43.20773575, 42.42248803,  0.        ]])},\n",
       " {'params': array([[0., 0., 0., 0., 0., 0., 0., 0.]]),\n",
       "  'grad': array([[  0,   0,   0,  47,  23, 100,  47,   0]])},\n",
       " {'params': array([[ 1.48838294,  0.32484357, -1.18814232, -0.14941428, -0.30332892,\n",
       "          -1.35969704, -2.13801735,  0.4009371 ,  0.70684239,  0.79260778,\n",
       "          -0.23342308,  0.85974531,  0.36628054,  0.72642316,  0.01793846,\n",
       "          -2.28547991],\n",
       "         [-1.47884513, -1.35319994, -0.02894553, -1.71743247, -1.15290926,\n",
       "           0.94103081, -1.02852693,  0.06553581,  0.41047029, -1.16893036,\n",
       "          -1.91440763,  0.07323557,  0.74968813,  0.0861383 , -1.73723493,\n",
       "           0.15493378],\n",
       "         [-0.30609984,  0.90194082,  0.83237877, -0.42170588, -2.25102829,\n",
       "          -1.68572411,  0.79570616, -0.34258453,  0.36846691, -0.09743004,\n",
       "           0.6388735 ,  1.06138668, -0.77358677, -0.69601544, -0.41235644,\n",
       "          -1.81030697],\n",
       "         [ 1.5308268 , -0.03325109, -0.07198204,  0.06865298,  1.1655696 ,\n",
       "          -0.24849596, -0.47948293, -0.84145667, -0.13434625, -0.75724967,\n",
       "           0.1633898 , -0.93980543,  0.55634416, -1.46217032, -0.16425444,\n",
       "           0.65663668],\n",
       "         [-0.80120104, -0.82758534, -0.57482904, -0.02075158, -1.14888952,\n",
       "           1.75039066,  1.18641832, -0.47014724,  0.75982372, -0.28299435,\n",
       "          -0.65599418,  1.2421285 , -1.46855646,  0.84506705, -0.58419047,\n",
       "          -0.53000237],\n",
       "         [ 1.48760981, -0.58825482, -1.40026191,  3.05732433,  0.32554003,\n",
       "           0.38512974,  0.34404156, -1.10931502,  0.34205751, -0.57688712,\n",
       "           1.13274122,  0.4991662 ,  0.86016198, -0.04274332, -0.07517715,\n",
       "          -0.16357697],\n",
       "         [-0.62697991,  1.6465058 , -0.11327544,  1.33844805,  0.34579096,\n",
       "           0.56663693, -1.75982722, -1.25596928,  0.99932797,  0.0401682 ,\n",
       "           0.50847399,  0.23533367, -0.85450487,  0.55677613, -1.14480657,\n",
       "          -0.05245871],\n",
       "         [ 0.55464726, -0.17891749, -0.20351036,  0.3966926 ,  1.045083  ,\n",
       "          -1.67242863,  0.56846621, -0.36991607,  0.94962022, -0.01929837,\n",
       "           0.13989925, -1.3467313 , -1.19974717, -1.13613554, -2.08212975,\n",
       "          -1.65279195]]),\n",
       "  'grad': array([[ 0.        ,  0.        ,  0.        ,  0.        ,  0.        ,\n",
       "           0.        ,  0.        ,  0.        ,  0.        ,  0.        ,\n",
       "           0.        ,  0.        ,  0.        ,  0.        ,  0.        ,\n",
       "           0.        ],\n",
       "         [42.21906303, 40.71952579, 42.21906303, 42.21906303, 42.21906303,\n",
       "          40.71952579, 40.71952579, 40.71952579, 42.21906303, 42.21906303,\n",
       "          40.71952579, 42.21906303, 40.71952579, 40.71952579, 40.71952579,\n",
       "          42.21906303],\n",
       "         [36.05649434, 66.36145147, 36.05649434, 36.05649434, 36.05649434,\n",
       "          66.47621142, 66.47621142, 66.47621142, 36.05649434, 36.05649434,\n",
       "          66.47621142, 36.05649434, 66.47621142, 66.47621142, 66.47621142,\n",
       "          36.05649434],\n",
       "         [ 2.23264081,  0.        ,  2.23264081,  2.23264081,  2.23264081,\n",
       "           4.38807234,  4.38807234,  4.38807234,  2.23264081,  2.23264081,\n",
       "           4.38807234,  2.23264081,  4.38807234,  4.38807234,  4.38807234,\n",
       "           2.23264081],\n",
       "         [10.80712119, 19.27208608, 10.80712119, 10.80712119, 10.80712119,\n",
       "          41.60734678, 41.60734678, 41.60734678, 10.80712119, 10.80712119,\n",
       "          41.60734678, 10.80712119, 41.60734678, 41.60734678, 41.60734678,\n",
       "          10.80712119],\n",
       "         [ 3.70303577, 17.341281  ,  3.70303577,  3.70303577,  3.70303577,\n",
       "          28.78949488, 28.78949488, 28.78949488,  3.70303577,  3.70303577,\n",
       "          28.78949488,  3.70303577, 28.78949488, 28.78949488, 28.78949488,\n",
       "           3.70303577],\n",
       "         [ 1.13713063,  0.        ,  1.13713063,  1.13713063,  1.13713063,\n",
       "           5.54439931,  5.54439931,  5.54439931,  1.13713063,  1.13713063,\n",
       "           5.54439931,  1.13713063,  5.54439931,  5.54439931,  5.54439931,\n",
       "           1.13713063],\n",
       "         [ 7.270823  ,  0.22214005,  7.270823  ,  7.270823  ,  7.270823  ,\n",
       "           2.07703201,  2.07703201,  2.07703201,  7.270823  ,  7.270823  ,\n",
       "           2.07703201,  7.270823  ,  2.07703201,  2.07703201,  2.07703201,\n",
       "           7.270823  ]])},\n",
       " {'params': array([[0., 0., 0., 0., 0., 0., 0., 0., 0., 0., 0., 0., 0., 0., 0., 0.]]),\n",
       "  'grad': array([[47, 30, 47, 47, 47, 53, 53, 53, 47, 47, 53, 47, 53, 53, 53, 47]])},\n",
       " {'params': array([[ 0.68338404, -0.23492465],\n",
       "         [ 0.92040271,  0.9373799 ],\n",
       "         [ 0.62174085, -1.68086937],\n",
       "         [ 0.66121775,  0.62450748],\n",
       "         [ 1.18991667, -0.68296199],\n",
       "         [-0.65312651,  0.42976665],\n",
       "         [-0.17327197,  1.08060125],\n",
       "         [-2.8927943 , -0.76140133],\n",
       "         [ 1.97513784,  1.10593412],\n",
       "         [ 1.11319836, -0.00552499],\n",
       "         [-1.29947161,  1.68392246],\n",
       "         [ 1.28237242, -0.34369022],\n",
       "         [-1.15738312, -0.60891701],\n",
       "         [-1.00218322, -0.51100852],\n",
       "         [-1.97161176,  0.99274477],\n",
       "         [ 1.21169846, -0.74226929]]),\n",
       "  'grad': array([[-0.04144074,  0.04040602],\n",
       "         [ 0.04765001, -0.04958731],\n",
       "         [ 0.50844686, -0.52902562],\n",
       "         [-0.47262816,  0.45877902],\n",
       "         [ 0.        ,  0.        ],\n",
       "         [-0.33673765,  0.32075627],\n",
       "         [-0.05592707,  0.04355488],\n",
       "         [ 0.        ,  0.        ],\n",
       "         [ 0.32243634, -0.35363736],\n",
       "         [ 0.        ,  0.        ],\n",
       "         [-0.027996  ,  0.02731534],\n",
       "         [ 0.48874455, -0.53078884],\n",
       "         [ 0.05954481, -0.06095636],\n",
       "         [-0.14093806,  0.13677911],\n",
       "         [ 0.        ,  0.        ],\n",
       "         [ 0.        ,  0.        ]])},\n",
       " {'params': array([[0., 0.]]), 'grad': array([[ 0.33004982, -0.3567763 ]])}]"
      ]
     },
     "execution_count": 31,
     "metadata": {},
     "output_type": "execute_result"
    }
   ],
   "source": [
    "mlp.get_parameters()"
   ]
  },
  {
   "cell_type": "code",
   "execution_count": null,
   "metadata": {},
   "outputs": [],
   "source": []
  }
 ],
 "metadata": {
  "kernelspec": {
   "display_name": "deep_learning",
   "language": "python",
   "name": "python3"
  },
  "language_info": {
   "codemirror_mode": {
    "name": "ipython",
    "version": 3
   },
   "file_extension": ".py",
   "mimetype": "text/x-python",
   "name": "python",
   "nbconvert_exporter": "python",
   "pygments_lexer": "ipython3",
   "version": "3.11.7"
  },
  "orig_nbformat": 4
 },
 "nbformat": 4,
 "nbformat_minor": 2
}
