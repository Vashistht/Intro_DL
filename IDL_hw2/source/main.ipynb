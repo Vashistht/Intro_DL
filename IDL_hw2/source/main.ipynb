{
 "cells": [
  {
   "cell_type": "code",
   "execution_count": 1,
   "metadata": {},
   "outputs": [],
   "source": [
    "import numpy as np\n",
    "import matplotlib.pyplot as plt\n",
    "\n",
    "from mytorch.nn.activation import ReLU, Softmax, Tanh, LinearActivation\n",
    "from mytorch.nn.initialization import Xavier, He\n",
    "from mytorch.nn.linear import Linear\n",
    "from mytorch.nn.loss import CrossEntropyLoss, L2Loss\n",
    "from mytorch.optim.optimizer import SGD, Adam\n",
    "from models.mlp import MLP\n",
    "import numpyNN"
   ]
  },
  {
   "cell_type": "code",
   "execution_count": 2,
   "metadata": {},
   "outputs": [],
   "source": [
    "# based on dataset.py from IML HW 6 \n",
    "def one_hot_encoding(y, num_classes=2):\n",
    "    one_hot = np.eye(num_classes)[y.astype(int).flatten()]\n",
    "    return one_hot"
   ]
  },
  {
   "cell_type": "code",
   "execution_count": 3,
   "metadata": {},
   "outputs": [],
   "source": [
    "def train_mlp(mlp, x_train, y_train, opt_loss, opt_optim, num_epoch=20):\n",
    "    assert x_train.shape[0] == y_train.shape[0], \"x_train and y_train must have the same length\"\n",
    "\n",
    "    # Initialize tracking variables\n",
    "    best_loss = float('inf')\n",
    "    best_params = None\n",
    "    train_loss = []  # List to store mean loss for each epoch\n",
    "    train_accuracy = []  # List to store accuracy for each epoch\n",
    "\n",
    "    y_train_encoded = one_hot_encoding(y_train)  # Assuming one_hot_encoding function is defined elsewhere\n",
    "\n",
    "    index = np.arange(x_train.shape[0])\n",
    "\n",
    "    for epoch in range(num_epoch):\n",
    "        np.random.shuffle(index)\n",
    "        train_data = x_train[index]\n",
    "        train_labels = y_train_encoded[index]\n",
    "\n",
    "        y_pred = mlp.forward(train_data)\n",
    "        loss = opt_loss.forward(y_pred, train_labels)\n",
    "        mean_loss = np.mean(loss)\n",
    "        train_loss.append(mean_loss)\n",
    "\n",
    "        # Check for best model\n",
    "        if mean_loss < best_loss:\n",
    "            best_loss = mean_loss\n",
    "            best_params = mlp.get_parameters()  # Assuming get_parameters returns a deep copy\n",
    "\n",
    "        predicted_labels = np.argmax(y_pred, axis=1)\n",
    "        true_labels = np.argmax(train_labels, axis=1)\n",
    "\n",
    "        accuracy = np.sum(predicted_labels == true_labels) / len(train_data)\n",
    "        train_accuracy.append(accuracy)\n",
    "\n",
    "        dLdZ = opt_loss.backward(y_pred, train_labels)\n",
    "        mlp.backward(dLdZ)\n",
    "        opt_optim.step(mlp.get_parameters())\n",
    "        opt_optim.zero_grad(mlp.get_parameters())\n",
    "\n",
    "        print(f\"Epoch: {epoch}, Loss: {mean_loss}, Accuracy: {accuracy}\")\n",
    "\n",
    "    # After training, set the model to the best parameters found\n",
    "    if best_params is not None:\n",
    "        mlp.set_parameters(best_params)\n",
    "\n",
    "    train_logs = {\"train_loss\": train_loss, \"train_accuracy\": train_accuracy}\n",
    "    return train_logs\n"
   ]
  },
  {
   "cell_type": "code",
   "execution_count": 4,
   "metadata": {},
   "outputs": [],
   "source": [
    "def test_mlp(mlp, x_test, y_test, opt_loss, num_epoch = 20):\n",
    "    \"\"\"\n",
    "    Parameters\n",
    "    ----------\n",
    "    Returns\n",
    "    -------\n",
    "        [0] Mean test loss.\n",
    "        [1] Test accuracy.\n",
    "    \"\"\"\n",
    "    assert(x_test.shape[0] == y_test.shape[0]) # \"x_test and y_test must have same length\"\n",
    "    \n",
    "    test_loss = []\n",
    "    test_accuracy = [ ]\n",
    "    y_test = one_hot_encoding(y_test)\n",
    "\n",
    "    for epoch in range(num_epoch):\n",
    "        y_pred = mlp.forward(x_test)\n",
    "        loss = opt_loss.forward(y_pred, y_test) \n",
    "        loss = np.mean(loss)\n",
    "        test_loss.append(loss)\n",
    "        \n",
    "        predicted_labels = np.argmax(y_pred, axis=1)\n",
    "        true_labels = np.argmax(y_test, axis=1) \n",
    "        \n",
    "        accuracy = np.sum(predicted_labels == true_labels) / len(x_test)\n",
    "        test_accuracy.append(accuracy)  \n",
    "        print(f\"Epoch: {epoch}, Loss: {loss}, Accuracy: {accuracy}\")\n",
    "    \n",
    "    test_logs = {\"test_loss\": test_loss, \"test_accuracy\": test_accuracy }\n",
    "    return test_logs"
   ]
  },
  {
   "cell_type": "code",
   "execution_count": 36,
   "metadata": {},
   "outputs": [],
   "source": [
    "x_train, y_train, x_test, y_test = numpyNN.sample_data(data_name = 'linear-separable',nTrain=200, nTest=100)"
   ]
  },
  {
   "cell_type": "code",
   "execution_count": 37,
   "metadata": {},
   "outputs": [],
   "source": [
    "dim_in, dim_out = x_train.shape[1], 2\n",
    "hidden_neuron_list = [2,4]\n",
    "activation_list = ['ReLU', 'ReLU', 'Softmax']\n",
    "opt_init = None\n",
    "opt_loss = L2Loss()\n",
    "mlp = MLP(dim_in, dim_out, hidden_neuron_list, activation_list, opt_init)\n",
    "opt_optim = SGD(lr_decay=1, decay_iter=30)"
   ]
  },
  {
   "cell_type": "code",
   "execution_count": 38,
   "metadata": {},
   "outputs": [
    {
     "name": "stdout",
     "output_type": "stream",
     "text": [
      "0 Initialized v\n",
      "1 v\n",
      "1 v\n",
      "1 v\n",
      "1 v\n",
      "1 v\n",
      "1 v\n",
      "Epoch: 0, Loss: 0.0033736247974198662, Accuracy: 0.285\n",
      "2 v\n",
      "2 v\n",
      "2 v\n",
      "2 v\n",
      "2 v\n",
      "2 v\n",
      "Epoch: 1, Loss: 0.0024993422320915824, Accuracy: 0.545\n",
      "3 v\n",
      "3 v\n",
      "3 v\n",
      "3 v\n",
      "3 v\n",
      "3 v\n",
      "Epoch: 2, Loss: 0.0024983755182539672, Accuracy: 0.545\n",
      "4 v\n",
      "4 v\n",
      "4 v\n",
      "4 v\n",
      "4 v\n",
      "4 v\n",
      "Epoch: 3, Loss: 0.0024971643550129926, Accuracy: 0.545\n",
      "5 v\n",
      "5 v\n",
      "5 v\n",
      "5 v\n",
      "5 v\n",
      "5 v\n",
      "Epoch: 4, Loss: 0.002495773356480221, Accuracy: 0.545\n",
      "6 v\n",
      "6 v\n",
      "6 v\n",
      "6 v\n",
      "6 v\n",
      "6 v\n",
      "Epoch: 5, Loss: 0.0024942644765318617, Accuracy: 0.545\n",
      "7 v\n",
      "7 v\n",
      "7 v\n",
      "7 v\n",
      "7 v\n",
      "7 v\n",
      "Epoch: 6, Loss: 0.0024926948844362193, Accuracy: 0.545\n",
      "8 v\n",
      "8 v\n",
      "8 v\n",
      "8 v\n",
      "8 v\n",
      "8 v\n",
      "Epoch: 7, Loss: 0.002491115447984873, Accuracy: 0.545\n",
      "9 v\n",
      "9 v\n",
      "9 v\n",
      "9 v\n",
      "9 v\n",
      "9 v\n",
      "Epoch: 8, Loss: 0.002489569765416739, Accuracy: 0.545\n",
      "10 v\n",
      "10 v\n",
      "10 v\n",
      "10 v\n",
      "10 v\n",
      "10 v\n",
      "Epoch: 9, Loss: 0.0024880936785588986, Accuracy: 0.545\n",
      "11 v\n",
      "11 v\n",
      "11 v\n",
      "11 v\n",
      "11 v\n",
      "11 v\n",
      "Epoch: 10, Loss: 0.0024867151943348768, Accuracy: 0.545\n",
      "12 v\n",
      "12 v\n",
      "12 v\n",
      "12 v\n",
      "12 v\n",
      "12 v\n",
      "Epoch: 11, Loss: 0.0024854547398154626, Accuracy: 0.545\n",
      "13 v\n",
      "13 v\n",
      "13 v\n",
      "13 v\n",
      "13 v\n",
      "13 v\n",
      "Epoch: 12, Loss: 0.0024843256769730934, Accuracy: 0.545\n",
      "14 v\n",
      "14 v\n",
      "14 v\n",
      "14 v\n",
      "14 v\n",
      "14 v\n",
      "Epoch: 13, Loss: 0.0024833350068447974, Accuracy: 0.545\n",
      "15 v\n",
      "15 v\n",
      "15 v\n",
      "15 v\n",
      "15 v\n",
      "15 v\n",
      "Epoch: 14, Loss: 0.0024824841984397166, Accuracy: 0.545\n",
      "16 v\n",
      "16 v\n",
      "16 v\n",
      "16 v\n",
      "16 v\n",
      "16 v\n",
      "Epoch: 15, Loss: 0.0024817700849268927, Accuracy: 0.545\n",
      "17 v\n",
      "17 v\n",
      "17 v\n",
      "17 v\n",
      "17 v\n",
      "17 v\n",
      "Epoch: 16, Loss: 0.0024811857778714703, Accuracy: 0.545\n",
      "18 v\n",
      "18 v\n",
      "18 v\n",
      "18 v\n",
      "18 v\n",
      "18 v\n",
      "Epoch: 17, Loss: 0.002480721559034043, Accuracy: 0.545\n",
      "19 v\n",
      "19 v\n",
      "19 v\n",
      "19 v\n",
      "19 v\n",
      "19 v\n",
      "Epoch: 18, Loss: 0.002480365718037652, Accuracy: 0.545\n",
      "20 v\n",
      "20 v\n",
      "20 v\n",
      "20 v\n",
      "20 v\n",
      "20 v\n",
      "Epoch: 19, Loss: 0.0024801053126408236, Accuracy: 0.545\n"
     ]
    }
   ],
   "source": [
    "train_logs = train_mlp(mlp, x_train, y_train, opt_loss, opt_optim, num_epoch = 20)"
   ]
  },
  {
   "cell_type": "code",
   "execution_count": 39,
   "metadata": {},
   "outputs": [
    {
     "data": {
      "text/plain": [
       "{'train_loss': [0.0033736247974198662,\n",
       "  0.0024993422320915824,\n",
       "  0.0024983755182539672,\n",
       "  0.0024971643550129926,\n",
       "  0.002495773356480221,\n",
       "  0.0024942644765318617,\n",
       "  0.0024926948844362193,\n",
       "  0.002491115447984873,\n",
       "  0.002489569765416739,\n",
       "  0.0024880936785588986,\n",
       "  0.0024867151943348768,\n",
       "  0.0024854547398154626,\n",
       "  0.0024843256769730934,\n",
       "  0.0024833350068447974,\n",
       "  0.0024824841984397166,\n",
       "  0.0024817700849268927,\n",
       "  0.0024811857778714703,\n",
       "  0.002480721559034043,\n",
       "  0.002480365718037652,\n",
       "  0.0024801053126408236],\n",
       " 'train_accuracy': [0.285,\n",
       "  0.545,\n",
       "  0.545,\n",
       "  0.545,\n",
       "  0.545,\n",
       "  0.545,\n",
       "  0.545,\n",
       "  0.545,\n",
       "  0.545,\n",
       "  0.545,\n",
       "  0.545,\n",
       "  0.545,\n",
       "  0.545,\n",
       "  0.545,\n",
       "  0.545,\n",
       "  0.545,\n",
       "  0.545,\n",
       "  0.545,\n",
       "  0.545,\n",
       "  0.545]}"
      ]
     },
     "execution_count": 39,
     "metadata": {},
     "output_type": "execute_result"
    }
   ],
   "source": [
    "train_logs"
   ]
  },
  {
   "cell_type": "code",
   "execution_count": 40,
   "metadata": {},
   "outputs": [
    {
     "name": "stdout",
     "output_type": "stream",
     "text": [
      "Epoch: 0, Loss: 0.005114873955172478, Accuracy: 0.45\n",
      "Epoch: 1, Loss: 0.005114873955172478, Accuracy: 0.45\n",
      "Epoch: 2, Loss: 0.005114873955172478, Accuracy: 0.45\n",
      "Epoch: 3, Loss: 0.005114873955172478, Accuracy: 0.45\n",
      "Epoch: 4, Loss: 0.005114873955172478, Accuracy: 0.45\n",
      "Epoch: 5, Loss: 0.005114873955172478, Accuracy: 0.45\n",
      "Epoch: 6, Loss: 0.005114873955172478, Accuracy: 0.45\n",
      "Epoch: 7, Loss: 0.005114873955172478, Accuracy: 0.45\n",
      "Epoch: 8, Loss: 0.005114873955172478, Accuracy: 0.45\n",
      "Epoch: 9, Loss: 0.005114873955172478, Accuracy: 0.45\n",
      "Epoch: 10, Loss: 0.005114873955172478, Accuracy: 0.45\n",
      "Epoch: 11, Loss: 0.005114873955172478, Accuracy: 0.45\n",
      "Epoch: 12, Loss: 0.005114873955172478, Accuracy: 0.45\n",
      "Epoch: 13, Loss: 0.005114873955172478, Accuracy: 0.45\n",
      "Epoch: 14, Loss: 0.005114873955172478, Accuracy: 0.45\n",
      "Epoch: 15, Loss: 0.005114873955172478, Accuracy: 0.45\n",
      "Epoch: 16, Loss: 0.005114873955172478, Accuracy: 0.45\n",
      "Epoch: 17, Loss: 0.005114873955172478, Accuracy: 0.45\n",
      "Epoch: 18, Loss: 0.005114873955172478, Accuracy: 0.45\n",
      "Epoch: 19, Loss: 0.005114873955172478, Accuracy: 0.45\n"
     ]
    }
   ],
   "source": [
    "mlp_test = mlp\n",
    "test_logs = test_mlp(mlp_test, x_test, y_test, opt_loss, num_epoch = 20)"
   ]
  },
  {
   "cell_type": "code",
   "execution_count": 41,
   "metadata": {},
   "outputs": [
    {
     "data": {
      "text/plain": [
       "{'train_loss': [0.0033736247974198662,\n",
       "  0.0024993422320915824,\n",
       "  0.0024983755182539672,\n",
       "  0.0024971643550129926,\n",
       "  0.002495773356480221,\n",
       "  0.0024942644765318617,\n",
       "  0.0024926948844362193,\n",
       "  0.002491115447984873,\n",
       "  0.002489569765416739,\n",
       "  0.0024880936785588986,\n",
       "  0.0024867151943348768,\n",
       "  0.0024854547398154626,\n",
       "  0.0024843256769730934,\n",
       "  0.0024833350068447974,\n",
       "  0.0024824841984397166,\n",
       "  0.0024817700849268927,\n",
       "  0.0024811857778714703,\n",
       "  0.002480721559034043,\n",
       "  0.002480365718037652,\n",
       "  0.0024801053126408236],\n",
       " 'train_accuracy': [0.285,\n",
       "  0.545,\n",
       "  0.545,\n",
       "  0.545,\n",
       "  0.545,\n",
       "  0.545,\n",
       "  0.545,\n",
       "  0.545,\n",
       "  0.545,\n",
       "  0.545,\n",
       "  0.545,\n",
       "  0.545,\n",
       "  0.545,\n",
       "  0.545,\n",
       "  0.545,\n",
       "  0.545,\n",
       "  0.545,\n",
       "  0.545,\n",
       "  0.545,\n",
       "  0.545],\n",
       " 'test_loss': [0.005114873955172478,\n",
       "  0.005114873955172478,\n",
       "  0.005114873955172478,\n",
       "  0.005114873955172478,\n",
       "  0.005114873955172478,\n",
       "  0.005114873955172478,\n",
       "  0.005114873955172478,\n",
       "  0.005114873955172478,\n",
       "  0.005114873955172478,\n",
       "  0.005114873955172478,\n",
       "  0.005114873955172478,\n",
       "  0.005114873955172478,\n",
       "  0.005114873955172478,\n",
       "  0.005114873955172478,\n",
       "  0.005114873955172478,\n",
       "  0.005114873955172478,\n",
       "  0.005114873955172478,\n",
       "  0.005114873955172478,\n",
       "  0.005114873955172478,\n",
       "  0.005114873955172478],\n",
       " 'test_accuracy': [0.45,\n",
       "  0.45,\n",
       "  0.45,\n",
       "  0.45,\n",
       "  0.45,\n",
       "  0.45,\n",
       "  0.45,\n",
       "  0.45,\n",
       "  0.45,\n",
       "  0.45,\n",
       "  0.45,\n",
       "  0.45,\n",
       "  0.45,\n",
       "  0.45,\n",
       "  0.45,\n",
       "  0.45,\n",
       "  0.45,\n",
       "  0.45,\n",
       "  0.45,\n",
       "  0.45]}"
      ]
     },
     "execution_count": 41,
     "metadata": {},
     "output_type": "execute_result"
    }
   ],
   "source": [
    "logs = {**train_logs, **test_logs}\n",
    "logs"
   ]
  },
  {
   "cell_type": "code",
   "execution_count": 42,
   "metadata": {},
   "outputs": [
    {
     "data": {
      "image/png": "[encoded data removed]",
      "text/plain": [
       "<Figure size 2000x800 with 1 Axes>"
      ]
     },
     "metadata": {},
     "output_type": "display_data"
    }
   ],
   "source": [
    "numpyNN.plot_loss(logs)"
   ]
  },
  {
   "cell_type": "code",
   "execution_count": 44,
   "metadata": {},
   "outputs": [
    {
     "data": {
      "image/png": "[encoded data removed]",
      "text/plain": [
       "<Figure size 2000x800 with 1 Axes>"
      ]
     },
     "metadata": {},
     "output_type": "display_data"
    }
   ],
   "source": [
    "numpyNN.plot_accuracy(logs)"
   ]
  },
  {
   "cell_type": "code",
   "execution_count": 45,
   "metadata": {},
   "outputs": [],
   "source": [
    "\n",
    "def plot_decision_boundary(X, y, model, boundry_level=None):\n",
    "    \"\"\"\n",
    "    Plots the decision boundary for the model prediction\n",
    "    :param X: input data\n",
    "    :param y: true labels\n",
    "    :param model: your MLP model\n",
    "    :boundry_level: Determines the number and positions of the contour lines / regions.\n",
    "    :return:\n",
    "    \"\"\"\n",
    "    print(X.shape)\n",
    "    print(y.shape)\n",
    "    x_min, x_max = X[:, 0].min() - 0.1, X[:, 0].max() + 0.1\n",
    "    y_min, y_max = X[:, 1].min() - 0.1, X[:, 1].max() + 0.1\n",
    "    xx, yy = np.meshgrid(np.arange(x_min, x_max, 0.01),\n",
    "                         np.arange(y_min, y_max, 0.01))\n",
    "    def predict(X):\n",
    "        # Assuming your model's forward method returns the class probabilities\n",
    "        # and you're interested in the class with the highest probability\n",
    "        y_pred = model.forward(X)\n",
    "        # Convert probabilities to class labels (assuming binary classification)\n",
    "        return np.argmax(y_pred, axis=1)\n",
    "\n",
    "\n",
    "    # Use the predict function as pred_fn\n",
    "    Z = predict(np.c_[xx.ravel(), yy.ravel()])\n",
    "    Z = Z.reshape(xx.shape)\n",
    "    plt.contourf(xx, yy, Z, alpha=0.7, levels=boundry_level, cmap='viridis_r')\n",
    "    plt.xlim(xx.min(), xx.max())\n",
    "    plt.ylim(yy.min(), yy.max())\n",
    "    plt.scatter(X[:, 0], X[:, 1], c=y.reshape(-1), alpha=0.7,s=50, cmap='viridis_r', edgecolor='k')"
   ]
  },
  {
   "cell_type": "code",
   "execution_count": 46,
   "metadata": {},
   "outputs": [
    {
     "name": "stdout",
     "output_type": "stream",
     "text": [
      "(200, 2)\n",
      "(200, 1)\n"
     ]
    },
    {
     "data": {
      "image/png": "[encoded data removed]",
      "text/plain": [
       "<Figure size 640x480 with 1 Axes>"
      ]
     },
     "metadata": {},
     "output_type": "display_data"
    }
   ],
   "source": [
    "# predicted_labels = np.argmax(y_pred, axis=1)\n",
    "plot_decision_boundary(x_train, y_train, mlp_test , boundry_level=None)"
   ]
  },
  {
   "cell_type": "markdown",
   "metadata": {},
   "source": [
    "---"
   ]
  },
  {
   "cell_type": "code",
   "execution_count": 47,
   "metadata": {},
   "outputs": [],
   "source": [
    "\n",
    "x_train, y_train, x_test, y_test = numpyNN.sample_data(data_name = 'linear-separable',nTrain=2, nTest=2)"
   ]
  },
  {
   "cell_type": "code",
   "execution_count": 48,
   "metadata": {},
   "outputs": [
    {
     "name": "stdout",
     "output_type": "stream",
     "text": [
      "Model Summary\n",
      "-------------\n",
      "Layer 1: Linear - Input Dim: 2, Output Dim: 2, Parameters: 6\n",
      "Layer 2: ReLU\n",
      "Layer 3: Linear - Input Dim: 2, Output Dim: 4, Parameters: 12\n",
      "Layer 4: ReLU\n",
      "Layer 5: Linear - Input Dim: 4, Output Dim: 2, Parameters: 10\n",
      "Layer 6: Softmax\n",
      "Total Parameters: 28\n",
      "None\n"
     ]
    }
   ],
   "source": [
    "dim_in, dim_out = x_train.shape[1], 2\n",
    "hidden_neuron_list = [2,4]\n",
    "activation_list = ['ReLU', 'ReLU', 'Softmax']\n",
    "opt_init = None\n",
    "opt_loss = L2Loss()\n",
    "mlp = MLP(dim_in, dim_out, hidden_neuron_list, activation_list, opt_init)\n",
    "opt_optim = SGD(lr_decay=1, decay_iter=30)\n",
    "\n",
    "print(mlp.summary())"
   ]
  },
  {
   "cell_type": "code",
   "execution_count": 49,
   "metadata": {},
   "outputs": [
    {
     "name": "stdout",
     "output_type": "stream",
     "text": [
      "[{'params': array([[ 1.41437719, -0.12405066],\n",
      "       [ 2.00815709,  0.22988654]]), 'grad': None}, {'params': array([[0., 0.]]), 'grad': None}, {'params': array([[ 0.60489373,  1.62715982,  1.59456053,  0.23043417],\n",
      "       [-0.06491034, -0.96898025,  0.59124281, -0.7827755 ]]), 'grad': None}, {'params': array([[0., 0., 0., 0.]]), 'grad': None}, {'params': array([[-0.44423283, -0.34518616],\n",
      "       [-0.88180055, -0.44265324],\n",
      "       [-0.5409163 , -1.32322737],\n",
      "       [-0.11279892,  0.90734594]]), 'grad': None}, {'params': array([[0., 0.]]), 'grad': None}]\n"
     ]
    }
   ],
   "source": [
    "print(mlp.get_parameters())"
   ]
  },
  {
   "cell_type": "code",
   "execution_count": 50,
   "metadata": {},
   "outputs": [],
   "source": [
    "y_pred = mlp.forward(x_train)\n",
    "y_train = one_hot_encoding(y_train)\n",
    "loss = opt_loss.forward(y_pred, y_train)"
   ]
  },
  {
   "cell_type": "code",
   "execution_count": 51,
   "metadata": {},
   "outputs": [
    {
     "data": {
      "text/plain": [
       "(array([[0.56960242, 0.43039758]]), array([[1., 0.]]), array([0.18524207]))"
      ]
     },
     "execution_count": 51,
     "metadata": {},
     "output_type": "execute_result"
    }
   ],
   "source": [
    "y_pred[1:4], y_train[1:4], loss[1:4]"
   ]
  },
  {
   "cell_type": "code",
   "execution_count": 52,
   "metadata": {},
   "outputs": [
    {
     "name": "stdout",
     "output_type": "stream",
     "text": [
      "1.0\n"
     ]
    }
   ],
   "source": [
    "predicted_labels = np.argmax(y_pred, axis=1)\n",
    "true_labels = np.argmax(y_train, axis=1)  # Adjust this line if train_y is not one-hot encoded\n",
    "accuracy = np.sum(predicted_labels == true_labels) / len(x_train)\n",
    "print(accuracy)"
   ]
  },
  {
   "cell_type": "code",
   "execution_count": 53,
   "metadata": {},
   "outputs": [
    {
     "name": "stdout",
     "output_type": "stream",
     "text": [
      "Before backward: 0.8820925372682746\n"
     ]
    }
   ],
   "source": [
    "print(\"Before backward:\", mlp.layers[0].parameters[0]['params'].mean())"
   ]
  },
  {
   "cell_type": "code",
   "execution_count": 54,
   "metadata": {},
   "outputs": [
    {
     "data": {
      "text/plain": [
       "array([[-0.43039758,  0.43039758]])"
      ]
     },
     "execution_count": 54,
     "metadata": {},
     "output_type": "execute_result"
    }
   ],
   "source": [
    "dLdZ = opt_loss.backward(y_pred, y_train)\n",
    "dLdZ[1:10]"
   ]
  },
  {
   "cell_type": "code",
   "execution_count": 55,
   "metadata": {},
   "outputs": [
    {
     "data": {
      "text/plain": [
       "(2, 2)"
      ]
     },
     "execution_count": 55,
     "metadata": {},
     "output_type": "execute_result"
    }
   ],
   "source": [
    "dLdZ.shape"
   ]
  },
  {
   "cell_type": "code",
   "execution_count": 56,
   "metadata": {},
   "outputs": [
    {
     "data": {
      "text/plain": [
       "[{'params': array([[ 1.41437719, -0.12405066],\n",
       "         [ 2.00815709,  0.22988654]]),\n",
       "  'grad': None},\n",
       " {'params': array([[0., 0.]]), 'grad': None},\n",
       " {'params': array([[ 0.60489373,  1.62715982,  1.59456053,  0.23043417],\n",
       "         [-0.06491034, -0.96898025,  0.59124281, -0.7827755 ]]),\n",
       "  'grad': None},\n",
       " {'params': array([[0., 0., 0., 0.]]), 'grad': None},\n",
       " {'params': array([[-0.44423283, -0.34518616],\n",
       "         [-0.88180055, -0.44265324],\n",
       "         [-0.5409163 , -1.32322737],\n",
       "         [-0.11279892,  0.90734594]]),\n",
       "  'grad': None},\n",
       " {'params': array([[0., 0.]]), 'grad': None}]"
      ]
     },
     "execution_count": 56,
     "metadata": {},
     "output_type": "execute_result"
    }
   ],
   "source": [
    "mlp.get_parameters()"
   ]
  },
  {
   "cell_type": "code",
   "execution_count": 57,
   "metadata": {},
   "outputs": [
    {
     "data": {
      "text/plain": [
       "array([[1.41437719, 2.00815709],\n",
       "       [1.41437719, 2.00815709]])"
      ]
     },
     "execution_count": 57,
     "metadata": {},
     "output_type": "execute_result"
    }
   ],
   "source": [
    "mlp.backward(dLdZ)"
   ]
  },
  {
   "cell_type": "code",
   "execution_count": 58,
   "metadata": {},
   "outputs": [
    {
     "data": {
      "text/plain": [
       "[{'params': array([[ 1.41437719, -0.12405066],\n",
       "         [ 2.00815709,  0.22988654]]),\n",
       "  'grad': array([[0.78397459, 0.        ],\n",
       "         [0.05325339, 0.        ]])},\n",
       " {'params': array([[0., 0.]]), 'grad': array([[2, 0]])},\n",
       " {'params': array([[ 0.60489373,  1.62715982,  1.59456053,  0.23043417],\n",
       "         [-0.06491034, -0.96898025,  0.59124281, -0.7827755 ]]),\n",
       "  'grad': array([[1.21577696, 1.21577696, 1.21577696, 1.21577696],\n",
       "         [0.01016363, 0.01016363, 0.01016363, 0.01016363]])},\n",
       " {'params': array([[0., 0., 0., 0.]]), 'grad': array([[2, 2, 2, 2]])},\n",
       " {'params': array([[-0.44423283, -0.34518616],\n",
       "         [-0.88180055, -0.44265324],\n",
       "         [-0.5409163 , -1.32322737],\n",
       "         [-0.11279892,  0.90734594]]),\n",
       "  'grad': array([[-0.46042626,  0.18044939],\n",
       "         [-1.23357286,  0.48342826],\n",
       "         [-1.21849993,  0.47758222],\n",
       "         [-0.1706561 ,  0.06685336]])},\n",
       " {'params': array([[0., 0.]]), 'grad': array([[-1.3525833 ,  0.49511261]])}]"
      ]
     },
     "execution_count": 58,
     "metadata": {},
     "output_type": "execute_result"
    }
   ],
   "source": [
    "mlp.get_parameters()"
   ]
  },
  {
   "cell_type": "code",
   "execution_count": 59,
   "metadata": {},
   "outputs": [
    {
     "name": "stdout",
     "output_type": "stream",
     "text": [
      "Before optimization: 0.8820925372682746\n"
     ]
    }
   ],
   "source": [
    "print(\"Before optimization:\", mlp.layers[0].parameters[0]['params'].mean())"
   ]
  },
  {
   "cell_type": "code",
   "execution_count": 60,
   "metadata": {},
   "outputs": [
    {
     "name": "stdout",
     "output_type": "stream",
     "text": [
      "0 Initialized v\n",
      "1 v\n",
      "1 v\n",
      "1 v\n",
      "1 v\n",
      "1 v\n",
      "1 v\n"
     ]
    }
   ],
   "source": [
    "opt_optim.step(mlp.get_parameters())"
   ]
  },
  {
   "cell_type": "code",
   "execution_count": 61,
   "metadata": {},
   "outputs": [
    {
     "data": {
      "text/plain": [
       "[{'params': array([[ 1.40653744, -0.12405066],\n",
       "         [ 2.00762455,  0.22988654]]),\n",
       "  'grad': array([[0.78397459, 0.        ],\n",
       "         [0.05325339, 0.        ]])},\n",
       " {'params': array([[-0.02,  0.  ]]), 'grad': array([[2, 0]])},\n",
       " {'params': array([[ 0.59273597,  1.61500206,  1.58240277,  0.2182764 ],\n",
       "         [-0.06501198, -0.96908189,  0.59114117, -0.78287714]]),\n",
       "  'grad': array([[1.21577696, 1.21577696, 1.21577696, 1.21577696],\n",
       "         [0.01016363, 0.01016363, 0.01016363, 0.01016363]])},\n",
       " {'params': array([[-0.02, -0.02, -0.02, -0.02]]),\n",
       "  'grad': array([[2, 2, 2, 2]])},\n",
       " {'params': array([[-0.43962856, -0.34699065],\n",
       "         [-0.86946482, -0.44748753],\n",
       "         [-0.5287313 , -1.32800319],\n",
       "         [-0.11109236,  0.90667741]]),\n",
       "  'grad': array([[-0.46042626,  0.18044939],\n",
       "         [-1.23357286,  0.48342826],\n",
       "         [-1.21849993,  0.47758222],\n",
       "         [-0.1706561 ,  0.06685336]])},\n",
       " {'params': array([[ 0.01352583, -0.00495113]]),\n",
       "  'grad': array([[-1.3525833 ,  0.49511261]])}]"
      ]
     },
     "execution_count": 61,
     "metadata": {},
     "output_type": "execute_result"
    }
   ],
   "source": [
    "mlp.get_parameters()"
   ]
  },
  {
   "cell_type": "code",
   "execution_count": 62,
   "metadata": {},
   "outputs": [
    {
     "name": "stdout",
     "output_type": "stream",
     "text": [
      "After optimization: 0.8799994673077082\n"
     ]
    }
   ],
   "source": [
    "print(\"After optimization:\", mlp.layers[0].parameters[0]['params'].mean())"
   ]
  },
  {
   "cell_type": "code",
   "execution_count": 63,
   "metadata": {},
   "outputs": [],
   "source": [
    "opt_optim.zero_grad(mlp.get_parameters())"
   ]
  },
  {
   "cell_type": "code",
   "execution_count": 64,
   "metadata": {},
   "outputs": [
    {
     "data": {
      "text/plain": [
       "[{'params': array([[ 1.40653744, -0.12405066],\n",
       "         [ 2.00762455,  0.22988654]]),\n",
       "  'grad': array([[0., 0.],\n",
       "         [0., 0.]])},\n",
       " {'params': array([[-0.02,  0.  ]]), 'grad': array([[0, 0]])},\n",
       " {'params': array([[ 0.59273597,  1.61500206,  1.58240277,  0.2182764 ],\n",
       "         [-0.06501198, -0.96908189,  0.59114117, -0.78287714]]),\n",
       "  'grad': array([[0., 0., 0., 0.],\n",
       "         [0., 0., 0., 0.]])},\n",
       " {'params': array([[-0.02, -0.02, -0.02, -0.02]]),\n",
       "  'grad': array([[0, 0, 0, 0]])},\n",
       " {'params': array([[-0.43962856, -0.34699065],\n",
       "         [-0.86946482, -0.44748753],\n",
       "         [-0.5287313 , -1.32800319],\n",
       "         [-0.11109236,  0.90667741]]),\n",
       "  'grad': array([[0., 0.],\n",
       "         [0., 0.],\n",
       "         [0., 0.],\n",
       "         [0., 0.]])},\n",
       " {'params': array([[ 0.01352583, -0.00495113]]), 'grad': array([[0., 0.]])}]"
      ]
     },
     "execution_count": 64,
     "metadata": {},
     "output_type": "execute_result"
    }
   ],
   "source": [
    "mlp.get_parameters()"
   ]
  },
  {
   "cell_type": "code",
   "execution_count": 65,
   "metadata": {},
   "outputs": [],
   "source": [
    "# import torch\n",
    "# import torch.nn as nn\n",
    "# import torch.nn.functional as F\n",
    "\n",
    "# class TorchMLP(nn.Module):\n",
    "#     def __init__(self, input_dim, hidden_dims, output_dim):\n",
    "#         super(TorchMLP, self).__init__()\n",
    "#         # Define the first hidden layer\n",
    "#         self.hidden1 = nn.Linear(input_dim, hidden_dims[0])\n",
    "#         # Define the second hidden layer\n",
    "#         self.hidden2 = nn.Linear(hidden_dims[0], hidden_dims[1])\n",
    "#         # Define the output layer\n",
    "#         self.output = nn.Linear(hidden_dims[1], output_dim)\n",
    "    \n",
    "#     def forward(self, x):\n",
    "#         # Pass the input through the first hidden layer and apply ReLU\n",
    "#         x = F.relu(self.hidden1(x))\n",
    "#         # Pass the result through the second hidden layer and apply ReLU\n",
    "#         x = F.relu(self.hidden2(x))\n",
    "#         # Pass the result through the output layer and apply Softmax\n",
    "#         # Note: Softmax is typically applied outside the model for numerical stability\n",
    "#         x = self.output(x)\n",
    "#         return x\n",
    "\n",
    "# # Initialize the model\n",
    "# input_dim = 2  # Assuming 2 features in the input data\n",
    "# hidden_neuron_list = [2,3]\n",
    "# output_dim = 2  # Output dimension for binary classification (use with softmax)\n",
    "# model = TorchMLP(input_dim, hidden_neuron_list, output_dim)\n",
    "\n",
    "# # Print the model summary\n",
    "# print(model)\n",
    "\n",
    "# # Calculate the number of parameters\n",
    "# total_params = sum(p.numel() for p in model.parameters() if p.requires_grad)\n",
    "# print(f\"Total number of parameters: {total_params}\")\n"
   ]
  },
  {
   "cell_type": "code",
   "execution_count": 73,
   "metadata": {},
   "outputs": [],
   "source": [
    "# y_train = one_hot_encoding(y_train)\n",
    "dim_in, dim_out = x_train.shape[1], 2\n",
    "hidden_neuron_list = [2,2]\n",
    "activation_list = ['ReLU', 'ReLU', 'Softmax']\n",
    "opt_init = None\n",
    "opt_loss = L2Loss()\n",
    "mlp = MLP(dim_in, dim_out, hidden_neuron_list, activation_list, opt_init)\n",
    "opt_optim = SGD(lr_decay=1, decay_iter=30)"
   ]
  },
  {
   "cell_type": "code",
   "execution_count": 74,
   "metadata": {},
   "outputs": [
    {
     "name": "stdout",
     "output_type": "stream",
     "text": [
      "Epoch 0\n",
      "[{'params': array([[ 0.33053441, -1.43582841],\n",
      "       [ 0.02752832,  1.12060466]]), 'grad': None}, {'params': array([[0., 0.]]), 'grad': None}, {'params': array([[-0.22403878, -0.42018339],\n",
      "       [ 0.99982969,  0.43103415]]), 'grad': None}, {'params': array([[0., 0.]]), 'grad': None}, {'params': array([[-0.65091287, -1.49874039],\n",
      "       [-1.23063497,  0.19400719]]), 'grad': None}, {'params': array([[0., 0.]]), 'grad': None}]\n",
      "1.0\n",
      "Before backward: 0.010709743381206283\n",
      "[{'params': array([[ 0.33053441, -1.43582841],\n",
      "       [ 0.02752832,  1.12060466]]), 'grad': None}, {'params': array([[0., 0.]]), 'grad': None}, {'params': array([[-0.22403878, -0.42018339],\n",
      "       [ 0.99982969,  0.43103415]]), 'grad': None}, {'params': array([[0., 0.]]), 'grad': None}, {'params': array([[-0.65091287, -1.49874039],\n",
      "       [-1.23063497,  0.19400719]]), 'grad': None}, {'params': array([[0., 0.]]), 'grad': None}]\n",
      "After backward: 0.010709743381206283\n",
      "[{'params': array([[ 0.33053441, -1.43582841],\n",
      "       [ 0.02752832,  1.12060466]]), 'grad': None}, {'params': array([[0., 0.]]), 'grad': None}, {'params': array([[-0.22403878, -0.42018339],\n",
      "       [ 0.99982969,  0.43103415]]), 'grad': None}, {'params': array([[0., 0.]]), 'grad': None}, {'params': array([[-0.65091287, -1.49874039],\n",
      "       [-1.23063497,  0.19400719]]), 'grad': None}, {'params': array([[0., 0.]]), 'grad': None}]\n",
      "[{'params': array([[ 0.33053441, -1.43582841],\n",
      "       [ 0.02752832,  1.12060466]]), 'grad': array([[0.        , 0.78397459],\n",
      "       [0.        , 0.05325339]])}, {'params': array([[0., 0.]]), 'grad': array([[0, 2]])}, {'params': array([[-0.22403878, -0.42018339],\n",
      "       [ 0.99982969,  0.43103415]]), 'grad': array([[0.26059655, 0.26059655],\n",
      "       [0.        , 0.        ]])}, {'params': array([[0., 0.]]), 'grad': array([[2, 2]])}, {'params': array([[-0.65091287, -1.49874039],\n",
      "       [-1.23063497,  0.19400719]]), 'grad': array([[0., 0.],\n",
      "       [0., 0.]])}, {'params': array([[0., 0.]]), 'grad': array([[-1.5,  0.5]])}]\n",
      "Before optimization: 0.010709743381206283\n",
      "0 Initialized v\n",
      "1 v\n",
      "1 v\n",
      "1 v\n",
      "1 v\n",
      "1 v\n",
      "1 v\n",
      "After optimization: 0.008616673420639709\n",
      "After 0: 0.008616673420639709\n",
      "[{'params': array([[ 0.33053441, -1.44366815],\n",
      "       [ 0.02752832,  1.12007212]]), 'grad': array([[0., 0.],\n",
      "       [0., 0.]])}, {'params': array([[ 0.  , -0.02]]), 'grad': array([[0, 0]])}, {'params': array([[-0.22664475, -0.42278936],\n",
      "       [ 0.99982969,  0.43103415]]), 'grad': array([[0., 0.],\n",
      "       [0., 0.]])}, {'params': array([[-0.02, -0.02]]), 'grad': array([[0, 0]])}, {'params': array([[-0.65091287, -1.49874039],\n",
      "       [-1.23063497,  0.19400719]]), 'grad': array([[0., 0.],\n",
      "       [0., 0.]])}, {'params': array([[ 0.015, -0.005]]), 'grad': array([[0., 0.]])}]\n",
      "Epoch 1\n",
      "[{'params': array([[ 0.33053441, -1.44366815],\n",
      "       [ 0.02752832,  1.12007212]]), 'grad': array([[0., 0.],\n",
      "       [0., 0.]])}, {'params': array([[ 0.  , -0.02]]), 'grad': array([[0, 0]])}, {'params': array([[-0.22664475, -0.42278936],\n",
      "       [ 0.99982969,  0.43103415]]), 'grad': array([[0., 0.],\n",
      "       [0., 0.]])}, {'params': array([[-0.02, -0.02]]), 'grad': array([[0, 0]])}, {'params': array([[-0.65091287, -1.49874039],\n",
      "       [-1.23063497,  0.19400719]]), 'grad': array([[0., 0.],\n",
      "       [0., 0.]])}, {'params': array([[ 0.015, -0.005]]), 'grad': array([[0., 0.]])}]\n",
      "1.0\n",
      "Before backward: 0.008616673420639709\n",
      "[{'params': array([[ 0.33053441, -1.44366815],\n",
      "       [ 0.02752832,  1.12007212]]), 'grad': array([[0., 0.],\n",
      "       [0., 0.]])}, {'params': array([[ 0.  , -0.02]]), 'grad': array([[0, 0]])}, {'params': array([[-0.22664475, -0.42278936],\n",
      "       [ 0.99982969,  0.43103415]]), 'grad': array([[0., 0.],\n",
      "       [0., 0.]])}, {'params': array([[-0.02, -0.02]]), 'grad': array([[0, 0]])}, {'params': array([[-0.65091287, -1.49874039],\n",
      "       [-1.23063497,  0.19400719]]), 'grad': array([[0., 0.],\n",
      "       [0., 0.]])}, {'params': array([[ 0.015, -0.005]]), 'grad': array([[0., 0.]])}]\n",
      "After backward: 0.008616673420639709\n",
      "[{'params': array([[ 0.33053441, -1.44366815],\n",
      "       [ 0.02752832,  1.12007212]]), 'grad': array([[0., 0.],\n",
      "       [0., 0.]])}, {'params': array([[ 0.  , -0.02]]), 'grad': array([[0, 0]])}, {'params': array([[-0.22664475, -0.42278936],\n",
      "       [ 0.99982969,  0.43103415]]), 'grad': array([[0., 0.],\n",
      "       [0., 0.]])}, {'params': array([[-0.02, -0.02]]), 'grad': array([[0, 0]])}, {'params': array([[-0.65091287, -1.49874039],\n",
      "       [-1.23063497,  0.19400719]]), 'grad': array([[0., 0.],\n",
      "       [0., 0.]])}, {'params': array([[ 0.015, -0.005]]), 'grad': array([[0., 0.]])}]\n",
      "[{'params': array([[ 0.33053441, -1.44366815],\n",
      "       [ 0.02752832,  1.12007212]]), 'grad': array([[0.        , 0.78397459],\n",
      "       [0.        , 0.05325339]])}, {'params': array([[ 0.  , -0.02]]), 'grad': array([[0, 2]])}, {'params': array([[-0.22664475, -0.42278936],\n",
      "       [ 0.99982969,  0.43103415]]), 'grad': array([[0.26059655, 0.26059655],\n",
      "       [0.        , 0.        ]])}, {'params': array([[-0.02, -0.02]]), 'grad': array([[2, 2]])}, {'params': array([[-0.65091287, -1.49874039],\n",
      "       [-1.23063497,  0.19400719]]), 'grad': array([[0., 0.],\n",
      "       [0., 0.]])}, {'params': array([[ 0.015, -0.005]]), 'grad': array([[-1.48005066,  0.49995   ]])}]\n",
      "Before optimization: 0.008616673420639709\n",
      "2 v\n",
      "2 v\n",
      "2 v\n",
      "2 v\n",
      "2 v\n",
      "2 v\n",
      "After optimization: 0.004639840495563263\n",
      "After 0: 0.004639840495563263\n",
      "[{'params': array([[ 0.33053441, -1.45856367],\n",
      "       [ 0.02752832,  1.11906031]]), 'grad': array([[0., 0.],\n",
      "       [0., 0.]])}, {'params': array([[ 0.   , -0.058]]), 'grad': array([[0, 0]])}, {'params': array([[-0.23159608, -0.42774069],\n",
      "       [ 0.99982969,  0.43103415]]), 'grad': array([[0., 0.],\n",
      "       [0., 0.]])}, {'params': array([[-0.058, -0.058]]), 'grad': array([[0, 0]])}, {'params': array([[-0.65091287, -1.49874039],\n",
      "       [-1.23063497,  0.19400719]]), 'grad': array([[0., 0.],\n",
      "       [0., 0.]])}, {'params': array([[ 0.04330051, -0.0144995 ]]), 'grad': array([[0., 0.]])}]\n",
      "Epoch 2\n",
      "[{'params': array([[ 0.33053441, -1.45856367],\n",
      "       [ 0.02752832,  1.11906031]]), 'grad': array([[0., 0.],\n",
      "       [0., 0.]])}, {'params': array([[ 0.   , -0.058]]), 'grad': array([[0, 0]])}, {'params': array([[-0.23159608, -0.42774069],\n",
      "       [ 0.99982969,  0.43103415]]), 'grad': array([[0., 0.],\n",
      "       [0., 0.]])}, {'params': array([[-0.058, -0.058]]), 'grad': array([[0, 0]])}, {'params': array([[-0.65091287, -1.49874039],\n",
      "       [-1.23063497,  0.19400719]]), 'grad': array([[0., 0.],\n",
      "       [0., 0.]])}, {'params': array([[ 0.04330051, -0.0144995 ]]), 'grad': array([[0., 0.]])}]\n",
      "1.0\n",
      "Before backward: 0.004639840495563263\n",
      "[{'params': array([[ 0.33053441, -1.45856367],\n",
      "       [ 0.02752832,  1.11906031]]), 'grad': array([[0., 0.],\n",
      "       [0., 0.]])}, {'params': array([[ 0.   , -0.058]]), 'grad': array([[0, 0]])}, {'params': array([[-0.23159608, -0.42774069],\n",
      "       [ 0.99982969,  0.43103415]]), 'grad': array([[0., 0.],\n",
      "       [0., 0.]])}, {'params': array([[-0.058, -0.058]]), 'grad': array([[0, 0]])}, {'params': array([[-0.65091287, -1.49874039],\n",
      "       [-1.23063497,  0.19400719]]), 'grad': array([[0., 0.],\n",
      "       [0., 0.]])}, {'params': array([[ 0.04330051, -0.0144995 ]]), 'grad': array([[0., 0.]])}]\n",
      "After backward: 0.004639840495563263\n",
      "[{'params': array([[ 0.33053441, -1.45856367],\n",
      "       [ 0.02752832,  1.11906031]]), 'grad': array([[0., 0.],\n",
      "       [0., 0.]])}, {'params': array([[ 0.   , -0.058]]), 'grad': array([[0, 0]])}, {'params': array([[-0.23159608, -0.42774069],\n",
      "       [ 0.99982969,  0.43103415]]), 'grad': array([[0., 0.],\n",
      "       [0., 0.]])}, {'params': array([[-0.058, -0.058]]), 'grad': array([[0, 0]])}, {'params': array([[-0.65091287, -1.49874039],\n",
      "       [-1.23063497,  0.19400719]]), 'grad': array([[0., 0.],\n",
      "       [0., 0.]])}, {'params': array([[ 0.04330051, -0.0144995 ]]), 'grad': array([[0., 0.]])}]\n",
      "[{'params': array([[ 0.33053441, -1.45856367],\n",
      "       [ 0.02752832,  1.11906031]]), 'grad': array([[0.        , 0.78397459],\n",
      "       [0.        , 0.05325339]])}, {'params': array([[ 0.   , -0.058]]), 'grad': array([[0, 2]])}, {'params': array([[-0.23159608, -0.42774069],\n",
      "       [ 0.99982969,  0.43103415]]), 'grad': array([[0.26059655, 0.26059655],\n",
      "       [0.        , 0.        ]])}, {'params': array([[-0.058, -0.058]]), 'grad': array([[2, 2]])}, {'params': array([[-0.65091287, -1.49874039],\n",
      "       [-1.23063497,  0.19400719]]), 'grad': array([[0., 0.],\n",
      "       [0., 0.]])}, {'params': array([[ 0.04330051, -0.0144995 ]]), 'grad': array([[-1.44263345,  0.49958263]])}]\n",
      "Before optimization: 0.004639840495563263\n",
      "3 v\n",
      "3 v\n",
      "3 v\n",
      "3 v\n",
      "3 v\n",
      "3 v\n",
      "After optimization: -0.0010323790975720892\n",
      "After 0: -0.0010323790975720892\n",
      "[{'params': array([[ 0.33053441, -1.47980938],\n",
      "       [ 0.02752832,  1.11761714]]), 'grad': array([[0., 0.],\n",
      "       [0., 0.]])}, {'params': array([[ 0.    , -0.1122]]), 'grad': array([[0, 0]])}, {'params': array([[-0.23865825, -0.43480286],\n",
      "       [ 0.99982969,  0.43103415]]), 'grad': array([[0., 0.],\n",
      "       [0., 0.]])}, {'params': array([[-0.1122, -0.1122]]), 'grad': array([[0, 0]])}, {'params': array([[-0.65091287, -1.49874039],\n",
      "       [-1.23063497,  0.19400719]]), 'grad': array([[0., 0.],\n",
      "       [0., 0.]])}, {'params': array([[ 0.0831973 , -0.02804488]]), 'grad': array([[0., 0.]])}]\n"
     ]
    }
   ],
   "source": [
    "for i in range(3):\n",
    "    print('Epoch', i)\n",
    "    print(mlp.get_parameters())\n",
    "    y_pred = mlp.forward(x_train)\n",
    "    loss = opt_loss.forward(y_pred, y_train)\n",
    "    y_pred[1:4], y_train[1:4], loss[1:4]\n",
    "    predicted_labels = np.argmax(y_pred, axis=1)\n",
    "    true_labels = np.argmax(y_train, axis=1)  # Adjust this line if train_y is not one-hot encoded\n",
    "    accuracy = np.sum(predicted_labels == true_labels) / len(x_train)\n",
    "    print(accuracy)\n",
    "    print(\"Before backward:\", mlp.layers[0].parameters[0]['params'].mean())\n",
    "    print(mlp.get_parameters())\n",
    "\n",
    "    dLdZ = opt_loss.backward(y_pred, y_train)\n",
    "    dLdZ[1:10]\n",
    "    dLdZ.shape\n",
    "    print(\"After backward:\", mlp.layers[0].parameters[0]['params'].mean())\n",
    "    print(mlp.get_parameters())\n",
    "    mlp.backward(dLdZ)\n",
    "    print(mlp.get_parameters())\n",
    "    print(\"Before optimization:\", mlp.layers[0].parameters[0]['params'].mean())\n",
    "    opt_optim.step(mlp.get_parameters())\n",
    "    print(\"After optimization:\", mlp.layers[0].parameters[0]['params'].mean())\n",
    "    opt_optim.zero_grad(mlp.get_parameters())\n",
    "    print(\"After 0:\", mlp.layers[0].parameters[0]['params'].mean())\n",
    "    print(mlp.get_parameters())"
   ]
  },
  {
   "cell_type": "code",
   "execution_count": null,
   "metadata": {},
   "outputs": [],
   "source": []
  },
  {
   "cell_type": "code",
   "execution_count": null,
   "metadata": {},
   "outputs": [],
   "source": []
  }
 ],
 "metadata": {
  "kernelspec": {
   "display_name": "deep_learning",
   "language": "python",
   "name": "python3"
  },
  "language_info": {
   "codemirror_mode": {
    "name": "ipython",
    "version": 3
   },
   "file_extension": ".py",
   "mimetype": "text/x-python",
   "name": "python",
   "nbconvert_exporter": "python",
   "pygments_lexer": "ipython3",
   "version": "3.11.7"
  },
  "orig_nbformat": 4
 },
 "nbformat": 4,
 "nbformat_minor": 2
}
