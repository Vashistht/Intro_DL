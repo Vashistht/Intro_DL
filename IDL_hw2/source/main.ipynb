{
 "cells": [
  {
   "cell_type": "code",
   "execution_count": 1,
   "metadata": {},
   "outputs": [],
   "source": [
    "import numpy as np\n",
    "import matplotlib.pyplot as plt\n",
    "\n",
    "from mytorch.nn.activation import ReLU, Sigmoid, Tanh, LinearActivation\n",
    "from mytorch.nn.initialization import Xavier, He\n",
    "from mytorch.nn.linear import Linear\n",
    "from mytorch.nn.loss import CrossEntropyLoss, L2Loss\n",
    "from mytorch.optim.optimizer import SGD, Adam\n",
    "from models.mlp import MLP\n",
    "import numpyNN"
   ]
  },
  {
   "cell_type": "code",
   "execution_count": 2,
   "metadata": {},
   "outputs": [],
   "source": [
    "# based on dataset.py from IML HW 6 \n",
    "def one_hot_encoding(y, num_classes=2):\n",
    "    one_hot = np.eye(num_classes)[y.astype(int).flatten()]\n",
    "    return one_hot"
   ]
  },
  {
   "cell_type": "code",
   "execution_count": 3,
   "metadata": {},
   "outputs": [],
   "source": [
    "def train_mlp(mlp, x_train, y_train, opt_loss, opt_optim, num_epoch=20):\n",
    "    assert x_train.shape[0] == y_train.shape[0], \"x_train and y_train must have the same length\"\n",
    "\n",
    "    # Initialize tracking variables\n",
    "    best_loss = float('inf')\n",
    "    best_params = None\n",
    "    train_loss = []  # List to store mean loss for each epoch\n",
    "    train_accuracy = []  # List to store accuracy for each epoch\n",
    "\n",
    "    y_train_encoded = one_hot_encoding(y_train)  # Assuming one_hot_encoding function is defined elsewhere\n",
    "\n",
    "    index = np.arange(x_train.shape[0])\n",
    "\n",
    "    for epoch in range(num_epoch):\n",
    "        np.random.shuffle(index)\n",
    "        train_data = x_train[index]\n",
    "        train_labels = y_train_encoded[index]\n",
    "\n",
    "        y_pred = mlp.forward(train_data)\n",
    "        loss = opt_loss.forward(y_pred, train_labels)\n",
    "        mean_loss = np.mean(loss)\n",
    "        train_loss.append(mean_loss)\n",
    "\n",
    "        # Check for best model\n",
    "        if mean_loss < best_loss:\n",
    "            best_loss = mean_loss\n",
    "            best_params = mlp.get_parameters()  # Assuming get_parameters returns a deep copy\n",
    "\n",
    "        predicted_labels = np.argmax(y_pred, axis=1)\n",
    "        true_labels = np.argmax(train_labels, axis=1)\n",
    "\n",
    "        accuracy = np.sum(predicted_labels == true_labels) / len(train_data)\n",
    "        train_accuracy.append(accuracy)\n",
    "\n",
    "        dLdZ = opt_loss.backward(y_pred, train_labels)\n",
    "        mlp.backward(dLdZ)\n",
    "        opt_optim.step(mlp.get_parameters())\n",
    "        opt_optim.zero_grad(mlp.get_parameters())\n",
    "\n",
    "        print(f\"Epoch: {epoch}, Loss: {mean_loss}, Accuracy: {accuracy}\")\n",
    "\n",
    "    # After training, set the model to the best parameters found\n",
    "    if best_params is not None:\n",
    "        mlp.set_parameters(best_params)\n",
    "\n",
    "    train_logs = {\"train_loss\": train_loss, \"train_accuracy\": train_accuracy}\n",
    "    return train_logs\n"
   ]
  },
  {
   "cell_type": "code",
   "execution_count": 4,
   "metadata": {},
   "outputs": [],
   "source": [
    "def test_mlp(mlp, x_test, y_test, opt_loss, num_epoch = 20):\n",
    "    \"\"\"\n",
    "    Parameters\n",
    "    ----------\n",
    "    Returns\n",
    "    -------\n",
    "        [0] Mean test loss.\n",
    "        [1] Test accuracy.\n",
    "    \"\"\"\n",
    "    assert(x_test.shape[0] == y_test.shape[0]) # \"x_test and y_test must have same length\"\n",
    "    \n",
    "    test_loss = []\n",
    "    test_accuracy = [ ]\n",
    "    y_test = one_hot_encoding(y_test)\n",
    "\n",
    "    for epoch in range(num_epoch):\n",
    "        y_pred = mlp.forward(x_test)\n",
    "        loss = opt_loss.forward(y_pred, y_test) \n",
    "        loss = np.mean(loss)\n",
    "        test_loss.append(loss)\n",
    "        \n",
    "        predicted_labels = np.argmax(y_pred, axis=1)\n",
    "        true_labels = np.argmax(y_test, axis=1) \n",
    "        \n",
    "        accuracy = np.sum(predicted_labels == true_labels) / len(x_test)\n",
    "        test_accuracy.append(accuracy)  \n",
    "        print(f\"Epoch: {epoch}, Loss: {loss}, Accuracy: {accuracy}\")\n",
    "    \n",
    "    test_logs = {\"test_loss\": test_loss, \"test_accuracy\": test_accuracy }\n",
    "    return test_logs"
   ]
  },
  {
   "cell_type": "code",
   "execution_count": 5,
   "metadata": {},
   "outputs": [],
   "source": [
    "x_train, y_train, x_test, y_test = numpyNN.sample_data(data_name = 'linear-separable',nTrain=200, nTest=100)"
   ]
  },
  {
   "cell_type": "code",
   "execution_count": 8,
   "metadata": {},
   "outputs": [],
   "source": [
    "dim_in, dim_out = x_train.shape[1], 2\n",
    "hidden_neuron_list = [2,4]\n",
    "activation_list = ['ReLU', 'ReLU', 'Sigmoid']\n",
    "opt_init = None\n",
    "opt_loss = L2Loss()\n",
    "mlp = MLP(dim_in, dim_out, hidden_neuron_list, activation_list, opt_init)\n",
    "opt_optim = SGD(lr_decay=1, decay_iter=30)"
   ]
  },
  {
   "cell_type": "code",
   "execution_count": 9,
   "metadata": {},
   "outputs": [
    {
     "name": "stdout",
     "output_type": "stream",
     "text": [
      "0 Initialized v\n",
      "1 v\n",
      "1 v\n",
      "1 v\n",
      "1 v\n",
      "1 v\n",
      "1 v\n",
      "Epoch: 0, Loss: 0.002616091117233813, Accuracy: 0.155\n",
      "2 v\n",
      "2 v\n",
      "2 v\n",
      "2 v\n",
      "2 v\n",
      "2 v\n",
      "Epoch: 1, Loss: 0.002499955524826122, Accuracy: 0.545\n",
      "3 v\n",
      "3 v\n",
      "3 v\n",
      "3 v\n",
      "3 v\n",
      "3 v\n",
      "Epoch: 2, Loss: 0.002499865111194739, Accuracy: 0.545\n",
      "4 v\n",
      "4 v\n",
      "4 v\n",
      "4 v\n",
      "4 v\n",
      "4 v\n",
      "Epoch: 3, Loss: 0.002499733761168719, Accuracy: 0.545\n",
      "5 v\n",
      "5 v\n",
      "5 v\n",
      "5 v\n",
      "5 v\n",
      "5 v\n",
      "Epoch: 4, Loss: 0.002499566136409675, Accuracy: 0.545\n",
      "6 v\n",
      "6 v\n",
      "6 v\n",
      "6 v\n",
      "6 v\n",
      "6 v\n",
      "Epoch: 5, Loss: 0.0024993665591945026, Accuracy: 0.545\n",
      "7 v\n",
      "7 v\n",
      "7 v\n",
      "7 v\n",
      "7 v\n",
      "7 v\n",
      "Epoch: 6, Loss: 0.0024991390190061418, Accuracy: 0.545\n",
      "8 v\n",
      "8 v\n",
      "8 v\n",
      "8 v\n",
      "8 v\n",
      "8 v\n",
      "Epoch: 7, Loss: 0.0024988871831895703, Accuracy: 0.545\n",
      "9 v\n",
      "9 v\n",
      "9 v\n",
      "9 v\n",
      "9 v\n",
      "9 v\n",
      "Epoch: 8, Loss: 0.0024986144104741947, Accuracy: 0.545\n",
      "10 v\n",
      "10 v\n",
      "10 v\n",
      "10 v\n",
      "10 v\n",
      "10 v\n",
      "Epoch: 9, Loss: 0.0024983237664162944, Accuracy: 0.545\n",
      "11 v\n",
      "11 v\n",
      "11 v\n",
      "11 v\n",
      "11 v\n",
      "11 v\n",
      "Epoch: 10, Loss: 0.0024980180400201446, Accuracy: 0.545\n",
      "12 v\n",
      "12 v\n",
      "12 v\n",
      "12 v\n",
      "12 v\n",
      "12 v\n",
      "Epoch: 11, Loss: 0.0024976997609624553, Accuracy: 0.545\n",
      "13 v\n",
      "13 v\n",
      "13 v\n",
      "13 v\n",
      "13 v\n",
      "13 v\n",
      "Epoch: 12, Loss: 0.0024973712169787284, Accuracy: 0.545\n",
      "14 v\n",
      "14 v\n",
      "14 v\n",
      "14 v\n",
      "14 v\n",
      "14 v\n",
      "Epoch: 13, Loss: 0.002497034471077971, Accuracy: 0.545\n",
      "15 v\n",
      "15 v\n",
      "15 v\n",
      "15 v\n",
      "15 v\n",
      "15 v\n",
      "Epoch: 14, Loss: 0.0024966913783385208, Accuracy: 0.545\n",
      "16 v\n",
      "16 v\n",
      "16 v\n",
      "16 v\n",
      "16 v\n",
      "16 v\n",
      "Epoch: 15, Loss: 0.002496343602106628, Accuracy: 0.545\n",
      "17 v\n",
      "17 v\n",
      "17 v\n",
      "17 v\n",
      "17 v\n",
      "17 v\n",
      "Epoch: 16, Loss: 0.002495992629474017, Accuracy: 0.545\n",
      "18 v\n",
      "18 v\n",
      "18 v\n",
      "18 v\n",
      "18 v\n",
      "18 v\n",
      "Epoch: 17, Loss: 0.0024956397859536524, Accuracy: 0.545\n",
      "19 v\n",
      "19 v\n",
      "19 v\n",
      "19 v\n",
      "19 v\n",
      "19 v\n",
      "Epoch: 18, Loss: 0.0024952862493065205, Accuracy: 0.545\n",
      "20 v\n",
      "20 v\n",
      "20 v\n",
      "20 v\n",
      "20 v\n",
      "20 v\n",
      "Epoch: 19, Loss: 0.00249493306249821, Accuracy: 0.545\n"
     ]
    }
   ],
   "source": [
    "train_logs = train_mlp(mlp, x_train, y_train, opt_loss, opt_optim, num_epoch = 20)"
   ]
  },
  {
   "cell_type": "code",
   "execution_count": 10,
   "metadata": {},
   "outputs": [
    {
     "data": {
      "text/plain": [
       "{'train_loss': [0.002616091117233813,\n",
       "  0.002499955524826122,\n",
       "  0.002499865111194739,\n",
       "  0.002499733761168719,\n",
       "  0.002499566136409675,\n",
       "  0.0024993665591945026,\n",
       "  0.0024991390190061418,\n",
       "  0.0024988871831895703,\n",
       "  0.0024986144104741947,\n",
       "  0.0024983237664162944,\n",
       "  0.0024980180400201446,\n",
       "  0.0024976997609624553,\n",
       "  0.0024973712169787284,\n",
       "  0.002497034471077971,\n",
       "  0.0024966913783385208,\n",
       "  0.002496343602106628,\n",
       "  0.002495992629474017,\n",
       "  0.0024956397859536524,\n",
       "  0.0024952862493065205,\n",
       "  0.00249493306249821],\n",
       " 'train_accuracy': [0.155,\n",
       "  0.545,\n",
       "  0.545,\n",
       "  0.545,\n",
       "  0.545,\n",
       "  0.545,\n",
       "  0.545,\n",
       "  0.545,\n",
       "  0.545,\n",
       "  0.545,\n",
       "  0.545,\n",
       "  0.545,\n",
       "  0.545,\n",
       "  0.545,\n",
       "  0.545,\n",
       "  0.545,\n",
       "  0.545,\n",
       "  0.545,\n",
       "  0.545,\n",
       "  0.545]}"
      ]
     },
     "execution_count": 10,
     "metadata": {},
     "output_type": "execute_result"
    }
   ],
   "source": [
    "train_logs"
   ]
  },
  {
   "cell_type": "code",
   "execution_count": 11,
   "metadata": {},
   "outputs": [
    {
     "name": "stdout",
     "output_type": "stream",
     "text": [
      "Epoch: 0, Loss: 0.005013820468604217, Accuracy: 0.45\n",
      "Epoch: 1, Loss: 0.005013820468604217, Accuracy: 0.45\n",
      "Epoch: 2, Loss: 0.005013820468604217, Accuracy: 0.45\n",
      "Epoch: 3, Loss: 0.005013820468604217, Accuracy: 0.45\n",
      "Epoch: 4, Loss: 0.005013820468604217, Accuracy: 0.45\n",
      "Epoch: 5, Loss: 0.005013820468604217, Accuracy: 0.45\n",
      "Epoch: 6, Loss: 0.005013820468604217, Accuracy: 0.45\n",
      "Epoch: 7, Loss: 0.005013820468604217, Accuracy: 0.45\n",
      "Epoch: 8, Loss: 0.005013820468604217, Accuracy: 0.45\n",
      "Epoch: 9, Loss: 0.005013820468604217, Accuracy: 0.45\n",
      "Epoch: 10, Loss: 0.005013820468604217, Accuracy: 0.45\n",
      "Epoch: 11, Loss: 0.005013820468604217, Accuracy: 0.45\n",
      "Epoch: 12, Loss: 0.005013820468604217, Accuracy: 0.45\n",
      "Epoch: 13, Loss: 0.005013820468604217, Accuracy: 0.45\n",
      "Epoch: 14, Loss: 0.005013820468604217, Accuracy: 0.45\n",
      "Epoch: 15, Loss: 0.005013820468604217, Accuracy: 0.45\n",
      "Epoch: 16, Loss: 0.005013820468604217, Accuracy: 0.45\n",
      "Epoch: 17, Loss: 0.005013820468604217, Accuracy: 0.45\n",
      "Epoch: 18, Loss: 0.005013820468604217, Accuracy: 0.45\n",
      "Epoch: 19, Loss: 0.005013820468604217, Accuracy: 0.45\n"
     ]
    }
   ],
   "source": [
    "mlp_test = mlp\n",
    "test_logs = test_mlp(mlp_test, x_test, y_test, opt_loss, num_epoch = 20)"
   ]
  },
  {
   "cell_type": "code",
   "execution_count": 12,
   "metadata": {},
   "outputs": [
    {
     "data": {
      "text/plain": [
       "{'train_loss': [0.002616091117233813,\n",
       "  0.002499955524826122,\n",
       "  0.002499865111194739,\n",
       "  0.002499733761168719,\n",
       "  0.002499566136409675,\n",
       "  0.0024993665591945026,\n",
       "  0.0024991390190061418,\n",
       "  0.0024988871831895703,\n",
       "  0.0024986144104741947,\n",
       "  0.0024983237664162944,\n",
       "  0.0024980180400201446,\n",
       "  0.0024976997609624553,\n",
       "  0.0024973712169787284,\n",
       "  0.002497034471077971,\n",
       "  0.0024966913783385208,\n",
       "  0.002496343602106628,\n",
       "  0.002495992629474017,\n",
       "  0.0024956397859536524,\n",
       "  0.0024952862493065205,\n",
       "  0.00249493306249821],\n",
       " 'train_accuracy': [0.155,\n",
       "  0.545,\n",
       "  0.545,\n",
       "  0.545,\n",
       "  0.545,\n",
       "  0.545,\n",
       "  0.545,\n",
       "  0.545,\n",
       "  0.545,\n",
       "  0.545,\n",
       "  0.545,\n",
       "  0.545,\n",
       "  0.545,\n",
       "  0.545,\n",
       "  0.545,\n",
       "  0.545,\n",
       "  0.545,\n",
       "  0.545,\n",
       "  0.545,\n",
       "  0.545],\n",
       " 'test_loss': [0.005013820468604217,\n",
       "  0.005013820468604217,\n",
       "  0.005013820468604217,\n",
       "  0.005013820468604217,\n",
       "  0.005013820468604217,\n",
       "  0.005013820468604217,\n",
       "  0.005013820468604217,\n",
       "  0.005013820468604217,\n",
       "  0.005013820468604217,\n",
       "  0.005013820468604217,\n",
       "  0.005013820468604217,\n",
       "  0.005013820468604217,\n",
       "  0.005013820468604217,\n",
       "  0.005013820468604217,\n",
       "  0.005013820468604217,\n",
       "  0.005013820468604217,\n",
       "  0.005013820468604217,\n",
       "  0.005013820468604217,\n",
       "  0.005013820468604217,\n",
       "  0.005013820468604217],\n",
       " 'test_accuracy': [0.45,\n",
       "  0.45,\n",
       "  0.45,\n",
       "  0.45,\n",
       "  0.45,\n",
       "  0.45,\n",
       "  0.45,\n",
       "  0.45,\n",
       "  0.45,\n",
       "  0.45,\n",
       "  0.45,\n",
       "  0.45,\n",
       "  0.45,\n",
       "  0.45,\n",
       "  0.45,\n",
       "  0.45,\n",
       "  0.45,\n",
       "  0.45,\n",
       "  0.45,\n",
       "  0.45]}"
      ]
     },
     "execution_count": 12,
     "metadata": {},
     "output_type": "execute_result"
    }
   ],
   "source": [
    "logs = {**train_logs, **test_logs}\n",
    "logs"
   ]
  },
  {
   "cell_type": "code",
   "execution_count": 13,
   "metadata": {},
   "outputs": [
    {
     "data": {
      "image/png": "[encoded data removed]",
      "text/plain": [
       "<Figure size 2000x800 with 1 Axes>"
      ]
     },
     "metadata": {},
     "output_type": "display_data"
    }
   ],
   "source": [
    "numpyNN.plot_loss(logs)"
   ]
  },
  {
   "cell_type": "code",
   "execution_count": 14,
   "metadata": {},
   "outputs": [
    {
     "data": {
      "image/png": "[encoded data removed]",
      "text/plain": [
       "<Figure size 2000x800 with 1 Axes>"
      ]
     },
     "metadata": {},
     "output_type": "display_data"
    }
   ],
   "source": [
    "numpyNN.plot_accuracy(logs)"
   ]
  },
  {
   "cell_type": "code",
   "execution_count": 15,
   "metadata": {},
   "outputs": [],
   "source": [
    "\n",
    "def plot_decision_boundary(X, y, model, boundry_level=None):\n",
    "    \"\"\"\n",
    "    Plots the decision boundary for the model prediction\n",
    "    :param X: input data\n",
    "    :param y: true labels\n",
    "    :param model: your MLP model\n",
    "    :boundry_level: Determines the number and positions of the contour lines / regions.\n",
    "    :return:\n",
    "    \"\"\"\n",
    "    print(X.shape)\n",
    "    print(y.shape)\n",
    "    x_min, x_max = X[:, 0].min() - 0.1, X[:, 0].max() + 0.1\n",
    "    y_min, y_max = X[:, 1].min() - 0.1, X[:, 1].max() + 0.1\n",
    "    xx, yy = np.meshgrid(np.arange(x_min, x_max, 0.01),\n",
    "                         np.arange(y_min, y_max, 0.01))\n",
    "    def predict(X):\n",
    "        # Assuming your model's forward method returns the class probabilities\n",
    "        # and you're interested in the class with the highest probability\n",
    "        y_pred = model.forward(X)\n",
    "        # Convert probabilities to class labels (assuming binary classification)\n",
    "        return np.argmax(y_pred, axis=1)\n",
    "\n",
    "\n",
    "    # Use the predict function as pred_fn\n",
    "    Z = predict(np.c_[xx.ravel(), yy.ravel()])\n",
    "    Z = Z.reshape(xx.shape)\n",
    "    plt.contourf(xx, yy, Z, alpha=0.7, levels=boundry_level, cmap='viridis_r')\n",
    "    plt.xlim(xx.min(), xx.max())\n",
    "    plt.ylim(yy.min(), yy.max())\n",
    "    plt.scatter(X[:, 0], X[:, 1], c=y.reshape(-1), alpha=0.7,s=50, cmap='viridis_r', edgecolor='k')"
   ]
  },
  {
   "cell_type": "code",
   "execution_count": 16,
   "metadata": {},
   "outputs": [
    {
     "name": "stdout",
     "output_type": "stream",
     "text": [
      "(200, 2)\n",
      "(200, 1)\n"
     ]
    },
    {
     "data": {
      "image/png": "[encoded data removed]",
      "text/plain": [
       "<Figure size 640x480 with 1 Axes>"
      ]
     },
     "metadata": {},
     "output_type": "display_data"
    }
   ],
   "source": [
    "# predicted_labels = np.argmax(y_pred, axis=1)\n",
    "plot_decision_boundary(x_train, y_train, mlp_test , boundry_level=None)"
   ]
  },
  {
   "cell_type": "markdown",
   "metadata": {},
   "source": [
    "---"
   ]
  },
  {
   "cell_type": "code",
   "execution_count": 17,
   "metadata": {},
   "outputs": [],
   "source": [
    "\n",
    "x_train, y_train, x_test, y_test = numpyNN.sample_data(data_name = 'linear-separable',nTrain=2, nTest=2)"
   ]
  },
  {
   "cell_type": "code",
   "execution_count": 22,
   "metadata": {},
   "outputs": [
    {
     "name": "stdout",
     "output_type": "stream",
     "text": [
      "Model Summary\n",
      "-------------\n",
      "Layer 1: Linear - Input Dim: 2, Output Dim: 2, Parameters: 6\n",
      "Layer 2: ReLU\n",
      "Layer 3: Linear - Input Dim: 2, Output Dim: 4, Parameters: 12\n",
      "Layer 4: ReLU\n",
      "Layer 5: Linear - Input Dim: 4, Output Dim: 2, Parameters: 10\n",
      "Layer 6: Sigmoid\n",
      "Total Parameters: 28\n",
      "None\n"
     ]
    }
   ],
   "source": [
    "dim_in, dim_out = x_train.shape[1], 2\n",
    "hidden_neuron_list = [2,4]\n",
    "activation_list = ['ReLU', 'ReLU', 'Sigmoid']\n",
    "opt_init = None\n",
    "opt_loss = L2Loss()\n",
    "mlp = MLP(dim_in, dim_out, hidden_neuron_list, activation_list, opt_init)\n",
    "opt_optim = SGD(lr_decay=1, decay_iter=30)\n",
    "\n",
    "print(mlp.summary())"
   ]
  },
  {
   "cell_type": "code",
   "execution_count": 23,
   "metadata": {},
   "outputs": [
    {
     "name": "stdout",
     "output_type": "stream",
     "text": [
      "[{'params': array([[ 0.81526991,  0.22909795],\n",
      "       [-1.02617878,  0.47752547]]), 'grad': 0.0}, {'params': array([[0., 0.]]), 'grad': 0.0}, {'params': array([[ 1.29269823, -0.73145824, -1.60540226,  0.98947618],\n",
      "       [ 0.11081461, -0.38093141,  0.11495917,  0.34531264]]), 'grad': 0.0}, {'params': array([[0., 0., 0., 0.]]), 'grad': 0.0}, {'params': array([[-1.73495876,  1.65835111],\n",
      "       [ 2.29977152, -0.47113526],\n",
      "       [ 1.26271548, -1.17051545],\n",
      "       [ 1.0657892 , -0.69993739]]), 'grad': 0.0}, {'params': array([[0., 0.]]), 'grad': 0.0}]\n"
     ]
    }
   ],
   "source": [
    "print(mlp.get_parameters())"
   ]
  },
  {
   "cell_type": "code",
   "execution_count": 24,
   "metadata": {},
   "outputs": [],
   "source": [
    "y_pred = mlp.forward(x_train)\n",
    "y_train = one_hot_encoding(y_train)\n",
    "loss = opt_loss.forward(y_pred, y_train)"
   ]
  },
  {
   "cell_type": "code",
   "execution_count": 25,
   "metadata": {},
   "outputs": [
    {
     "data": {
      "text/plain": [
       "(array([[0.49148908, 0.51897857]]), array([[1., 0.]]), array([0.26396106]))"
      ]
     },
     "execution_count": 25,
     "metadata": {},
     "output_type": "execute_result"
    }
   ],
   "source": [
    "y_pred[1:4], y_train[1:4], loss[1:4]"
   ]
  },
  {
   "cell_type": "code",
   "execution_count": 26,
   "metadata": {},
   "outputs": [
    {
     "name": "stdout",
     "output_type": "stream",
     "text": [
      "0.0\n"
     ]
    }
   ],
   "source": [
    "predicted_labels = np.argmax(y_pred, axis=1)\n",
    "true_labels = np.argmax(y_train, axis=1)  # Adjust this line if train_y is not one-hot encoded\n",
    "accuracy = np.sum(predicted_labels == true_labels) / len(x_train)\n",
    "print(accuracy)"
   ]
  },
  {
   "cell_type": "code",
   "execution_count": 27,
   "metadata": {},
   "outputs": [
    {
     "name": "stdout",
     "output_type": "stream",
     "text": [
      "Before backward: 0.12392863696006\n"
     ]
    }
   ],
   "source": [
    "print(\"Before backward:\", mlp.layers[0].parameters[0]['params'].mean())"
   ]
  },
  {
   "cell_type": "code",
   "execution_count": 28,
   "metadata": {},
   "outputs": [
    {
     "data": {
      "text/plain": [
       "array([[-0.50851092,  0.51897857]])"
      ]
     },
     "execution_count": 28,
     "metadata": {},
     "output_type": "execute_result"
    }
   ],
   "source": [
    "dLdZ = opt_loss.backward(y_pred, y_train)\n",
    "dLdZ[1:10]"
   ]
  },
  {
   "cell_type": "code",
   "execution_count": 29,
   "metadata": {},
   "outputs": [
    {
     "data": {
      "text/plain": [
       "(2, 2)"
      ]
     },
     "execution_count": 29,
     "metadata": {},
     "output_type": "execute_result"
    }
   ],
   "source": [
    "dLdZ.shape"
   ]
  },
  {
   "cell_type": "code",
   "execution_count": 30,
   "metadata": {},
   "outputs": [
    {
     "data": {
      "text/plain": [
       "[{'params': array([[ 0.81526991,  0.22909795],\n",
       "         [-1.02617878,  0.47752547]]),\n",
       "  'grad': 0.0},\n",
       " {'params': array([[0., 0.]]), 'grad': 0.0},\n",
       " {'params': array([[ 1.29269823, -0.73145824, -1.60540226,  0.98947618],\n",
       "         [ 0.11081461, -0.38093141,  0.11495917,  0.34531264]]),\n",
       "  'grad': 0.0},\n",
       " {'params': array([[0., 0., 0., 0.]]), 'grad': 0.0},\n",
       " {'params': array([[-1.73495876,  1.65835111],\n",
       "         [ 2.29977152, -0.47113526],\n",
       "         [ 1.26271548, -1.17051545],\n",
       "         [ 1.0657892 , -0.69993739]]),\n",
       "  'grad': 0.0},\n",
       " {'params': array([[0., 0.]]), 'grad': 0.0}]"
      ]
     },
     "execution_count": 30,
     "metadata": {},
     "output_type": "execute_result"
    }
   ],
   "source": [
    "mlp.get_parameters()"
   ]
  },
  {
   "cell_type": "code",
   "execution_count": 31,
   "metadata": {},
   "outputs": [
    {
     "data": {
      "text/plain": [
       "array([[ 0.81526991, -1.02617878],\n",
       "       [ 1.04436786, -0.54865331]])"
      ]
     },
     "execution_count": 31,
     "metadata": {},
     "output_type": "execute_result"
    }
   ],
   "source": [
    "mlp.backward(dLdZ)"
   ]
  },
  {
   "cell_type": "code",
   "execution_count": 32,
   "metadata": {},
   "outputs": [
    {
     "data": {
      "text/plain": [
       "[{'params': array([[ 0.81526991,  0.22909795],\n",
       "         [-1.02617878,  0.47752547]]),\n",
       "  'grad': array([[0.78397459, 0.40706704],\n",
       "         [0.05325339, 0.26387176]])},\n",
       " {'params': array([[0., 0.]]), 'grad': array([[2, 1]])},\n",
       " {'params': array([[ 1.29269823, -0.73145824, -1.60540226,  0.98947618],\n",
       "         [ 0.11081461, -0.38093141,  0.11495917,  0.34531264]]),\n",
       "  'grad': array([[0.58450339, 0.        , 0.        , 0.58450339],\n",
       "         [0.21926371, 0.        , 0.        , 0.21926371]])},\n",
       " {'params': array([[0., 0., 0., 0.]]), 'grad': array([[2, 0, 0, 2]])},\n",
       " {'params': array([[-1.73495876,  1.65835111],\n",
       "         [ 2.29977152, -0.47113526],\n",
       "         [ 1.26271548, -1.17051545],\n",
       "         [ 1.0657892 , -0.69993739]]),\n",
       "  'grad': array([[-0.11319316,  0.1134724 ],\n",
       "         [ 0.        ,  0.        ],\n",
       "         [ 0.        ,  0.        ],\n",
       "         [-0.09390094,  0.09425557]])},\n",
       " {'params': array([[0., 0.]]), 'grad': array([[-0.2749868 ,  0.27748981]])}]"
      ]
     },
     "execution_count": 32,
     "metadata": {},
     "output_type": "execute_result"
    }
   ],
   "source": [
    "mlp.get_parameters()"
   ]
  },
  {
   "cell_type": "code",
   "execution_count": 33,
   "metadata": {},
   "outputs": [
    {
     "name": "stdout",
     "output_type": "stream",
     "text": [
      "Before optimization: 0.12392863696006\n"
     ]
    }
   ],
   "source": [
    "print(\"Before optimization:\", mlp.layers[0].parameters[0]['params'].mean())"
   ]
  },
  {
   "cell_type": "code",
   "execution_count": 34,
   "metadata": {},
   "outputs": [
    {
     "name": "stdout",
     "output_type": "stream",
     "text": [
      "0 Initialized v\n",
      "1 v\n",
      "1 v\n",
      "1 v\n",
      "1 v\n",
      "1 v\n",
      "1 v\n"
     ]
    }
   ],
   "source": [
    "opt_optim.step(mlp.get_parameters())"
   ]
  },
  {
   "cell_type": "code",
   "execution_count": 35,
   "metadata": {},
   "outputs": [
    {
     "data": {
      "text/plain": [
       "[{'params': array([[ 0.80743016,  0.22502728],\n",
       "         [-1.02671131,  0.47488675]]),\n",
       "  'grad': array([[0.78397459, 0.40706704],\n",
       "         [0.05325339, 0.26387176]])},\n",
       " {'params': array([[-0.02, -0.01]]), 'grad': array([[2, 1]])},\n",
       " {'params': array([[ 1.2868532 , -0.73145824, -1.60540226,  0.98363114],\n",
       "         [ 0.10862197, -0.38093141,  0.11495917,  0.34312001]]),\n",
       "  'grad': array([[0.58450339, 0.        , 0.        , 0.58450339],\n",
       "         [0.21926371, 0.        , 0.        , 0.21926371]])},\n",
       " {'params': array([[-0.02,  0.  ,  0.  , -0.02]]),\n",
       "  'grad': array([[2, 0, 0, 2]])},\n",
       " {'params': array([[-1.73382683,  1.65721638],\n",
       "         [ 2.29977152, -0.47113526],\n",
       "         [ 1.26271548, -1.17051545],\n",
       "         [ 1.06672821, -0.70087994]]),\n",
       "  'grad': array([[-0.11319316,  0.1134724 ],\n",
       "         [ 0.        ,  0.        ],\n",
       "         [ 0.        ,  0.        ],\n",
       "         [-0.09390094,  0.09425557]])},\n",
       " {'params': array([[ 0.00274987, -0.0027749 ]]),\n",
       "  'grad': array([[-0.2749868 ,  0.27748981]])}]"
      ]
     },
     "execution_count": 35,
     "metadata": {},
     "output_type": "execute_result"
    }
   ],
   "source": [
    "mlp.get_parameters()"
   ]
  },
  {
   "cell_type": "code",
   "execution_count": 36,
   "metadata": {},
   "outputs": [
    {
     "name": "stdout",
     "output_type": "stream",
     "text": [
      "After optimization: 0.1201582200088189\n"
     ]
    }
   ],
   "source": [
    "print(\"After optimization:\", mlp.layers[0].parameters[0]['params'].mean())"
   ]
  },
  {
   "cell_type": "code",
   "execution_count": 37,
   "metadata": {},
   "outputs": [],
   "source": [
    "opt_optim.zero_grad(mlp.get_parameters())"
   ]
  },
  {
   "cell_type": "code",
   "execution_count": 38,
   "metadata": {},
   "outputs": [
    {
     "data": {
      "text/plain": [
       "[{'params': array([[ 0.80743016,  0.22502728],\n",
       "         [-1.02671131,  0.47488675]]),\n",
       "  'grad': array([[0., 0.],\n",
       "         [0., 0.]])},\n",
       " {'params': array([[-0.02, -0.01]]), 'grad': array([[0, 0]])},\n",
       " {'params': array([[ 1.2868532 , -0.73145824, -1.60540226,  0.98363114],\n",
       "         [ 0.10862197, -0.38093141,  0.11495917,  0.34312001]]),\n",
       "  'grad': array([[0., 0., 0., 0.],\n",
       "         [0., 0., 0., 0.]])},\n",
       " {'params': array([[-0.02,  0.  ,  0.  , -0.02]]),\n",
       "  'grad': array([[0, 0, 0, 0]])},\n",
       " {'params': array([[-1.73382683,  1.65721638],\n",
       "         [ 2.29977152, -0.47113526],\n",
       "         [ 1.26271548, -1.17051545],\n",
       "         [ 1.06672821, -0.70087994]]),\n",
       "  'grad': array([[0., 0.],\n",
       "         [0., 0.],\n",
       "         [0., 0.],\n",
       "         [0., 0.]])},\n",
       " {'params': array([[ 0.00274987, -0.0027749 ]]), 'grad': array([[0., 0.]])}]"
      ]
     },
     "execution_count": 38,
     "metadata": {},
     "output_type": "execute_result"
    }
   ],
   "source": [
    "mlp.get_parameters()"
   ]
  },
  {
   "cell_type": "code",
   "execution_count": 39,
   "metadata": {},
   "outputs": [],
   "source": [
    "# import torch\n",
    "# import torch.nn as nn\n",
    "# import torch.nn.functional as F\n",
    "\n",
    "# class TorchMLP(nn.Module):\n",
    "#     def __init__(self, input_dim, hidden_dims, output_dim):\n",
    "#         super(TorchMLP, self).__init__()\n",
    "#         # Define the first hidden layer\n",
    "#         self.hidden1 = nn.Linear(input_dim, hidden_dims[0])\n",
    "#         # Define the second hidden layer\n",
    "#         self.hidden2 = nn.Linear(hidden_dims[0], hidden_dims[1])\n",
    "#         # Define the output layer\n",
    "#         self.output = nn.Linear(hidden_dims[1], output_dim)\n",
    "    \n",
    "#     def forward(self, x):\n",
    "#         # Pass the input through the first hidden layer and apply ReLU\n",
    "#         x = F.relu(self.hidden1(x))\n",
    "#         # Pass the result through the second hidden layer and apply ReLU\n",
    "#         x = F.relu(self.hidden2(x))\n",
    "#         # Pass the result through the output layer and apply Softmax\n",
    "#         # Note: Softmax is typically applied outside the model for numerical stability\n",
    "#         x = self.output(x)\n",
    "#         return x\n",
    "\n",
    "# # Initialize the model\n",
    "# input_dim = 2  # Assuming 2 features in the input data\n",
    "# hidden_neuron_list = [2,3]\n",
    "# output_dim = 2  # Output dimension for binary classification (use with softmax)\n",
    "# model = TorchMLP(input_dim, hidden_neuron_list, output_dim)\n",
    "\n",
    "# # Print the model summary\n",
    "# print(model)\n",
    "\n",
    "# # Calculate the number of parameters\n",
    "# total_params = sum(p.numel() for p in model.parameters() if p.requires_grad)\n",
    "# print(f\"Total number of parameters: {total_params}\")\n"
   ]
  },
  {
   "cell_type": "code",
   "execution_count": 44,
   "metadata": {},
   "outputs": [],
   "source": [
    "# y_train = one_hot_encoding(y_train)\n",
    "dim_in, dim_out = x_train.shape[1], 2\n",
    "hidden_neuron_list = [2,2]\n",
    "activation_list = ['Tanh', 'ReLU', 'Sigmoid']\n",
    "opt_init = None\n",
    "opt_loss = CrossEntropyLoss()\n",
    "mlp = MLP(dim_in, dim_out, hidden_neuron_list, activation_list, opt_init)\n",
    "opt_optim = Adam(lr_decay=1, decay_iter=30)"
   ]
  },
  {
   "cell_type": "code",
   "execution_count": 45,
   "metadata": {},
   "outputs": [
    {
     "name": "stdout",
     "output_type": "stream",
     "text": [
      "Epoch 0\n",
      "[{'params': array([[-0.99838235, -0.3676376 ],\n",
      "       [ 1.73719932,  0.59361275]]), 'grad': 0.0}, {'params': array([[0., 0.]]), 'grad': 0.0}, {'params': array([[-0.54236358, -1.71967238],\n",
      "       [-0.57890879,  1.42694855]]), 'grad': 0.0}, {'params': array([[0., 0.]]), 'grad': 0.0}, {'params': array([[0.27699691, 0.78966713],\n",
      "       [0.32207411, 0.70039238]]), 'grad': 0.0}, {'params': array([[0., 0.]]), 'grad': 0.0}]\n",
      "0.5\n",
      "Before backward: 0.24119802808082583\n",
      "[{'params': array([[-0.99838235, -0.3676376 ],\n",
      "       [ 1.73719932,  0.59361275]]), 'grad': 0.0}, {'params': array([[0., 0.]]), 'grad': 0.0}, {'params': array([[-0.54236358, -1.71967238],\n",
      "       [-0.57890879,  1.42694855]]), 'grad': 0.0}, {'params': array([[0., 0.]]), 'grad': 0.0}, {'params': array([[0.27699691, 0.78966713],\n",
      "       [0.32207411, 0.70039238]]), 'grad': 0.0}, {'params': array([[0., 0.]]), 'grad': 0.0}]\n",
      "After backward: 0.24119802808082583\n",
      "[{'params': array([[-0.99838235, -0.3676376 ],\n",
      "       [ 1.73719932,  0.59361275]]), 'grad': 0.0}, {'params': array([[0., 0.]]), 'grad': 0.0}, {'params': array([[-0.54236358, -1.71967238],\n",
      "       [-0.57890879,  1.42694855]]), 'grad': 0.0}, {'params': array([[0., 0.]]), 'grad': 0.0}, {'params': array([[0.27699691, 0.78966713],\n",
      "       [0.32207411, 0.70039238]]), 'grad': 0.0}, {'params': array([[0., 0.]]), 'grad': 0.0}]\n",
      "Before optimization: 0.24119802808082583\n",
      "After optimization: 0.2411980280531063\n",
      "After 0: 0.2411980280531063\n",
      "[{'params': array([[-0.99738235, -0.3686376 ],\n",
      "       [ 1.73619932,  0.59461275]]), 'grad': array([[0., 0.],\n",
      "       [0., 0.]])}, {'params': array([[ 0.001, -0.001]]), 'grad': array([[0., 0.]])}, {'params': array([[-0.54136358, -1.71867238],\n",
      "       [-0.57790879,  1.42794855]]), 'grad': array([[0., 0.],\n",
      "       [0., 0.]])}, {'params': array([[-0.001, -0.001]]), 'grad': array([[0, 0]])}, {'params': array([[0.2779969 , 0.78866713],\n",
      "       [0.32307411, 0.69939238]]), 'grad': array([[0., 0.],\n",
      "       [0., 0.]])}, {'params': array([[ 0.001, -0.001]]), 'grad': array([[0., 0.]])}]\n",
      "Epoch 1\n",
      "[{'params': array([[-0.99738235, -0.3686376 ],\n",
      "       [ 1.73619932,  0.59461275]]), 'grad': array([[0., 0.],\n",
      "       [0., 0.]])}, {'params': array([[ 0.001, -0.001]]), 'grad': array([[0., 0.]])}, {'params': array([[-0.54136358, -1.71867238],\n",
      "       [-0.57790879,  1.42794855]]), 'grad': array([[0., 0.],\n",
      "       [0., 0.]])}, {'params': array([[-0.001, -0.001]]), 'grad': array([[0, 0]])}, {'params': array([[0.2779969 , 0.78866713],\n",
      "       [0.32307411, 0.69939238]]), 'grad': array([[0., 0.],\n",
      "       [0., 0.]])}, {'params': array([[ 0.001, -0.001]]), 'grad': array([[0., 0.]])}]\n",
      "0.5\n",
      "Before backward: 0.2411980280531063\n",
      "[{'params': array([[-0.99738235, -0.3686376 ],\n",
      "       [ 1.73619932,  0.59461275]]), 'grad': array([[0., 0.],\n",
      "       [0., 0.]])}, {'params': array([[ 0.001, -0.001]]), 'grad': array([[0., 0.]])}, {'params': array([[-0.54136358, -1.71867238],\n",
      "       [-0.57790879,  1.42794855]]), 'grad': array([[0., 0.],\n",
      "       [0., 0.]])}, {'params': array([[-0.001, -0.001]]), 'grad': array([[0, 0]])}, {'params': array([[0.2779969 , 0.78866713],\n",
      "       [0.32307411, 0.69939238]]), 'grad': array([[0., 0.],\n",
      "       [0., 0.]])}, {'params': array([[ 0.001, -0.001]]), 'grad': array([[0., 0.]])}]\n",
      "After backward: 0.2411980280531063\n",
      "[{'params': array([[-0.99738235, -0.3686376 ],\n",
      "       [ 1.73619932,  0.59461275]]), 'grad': array([[0., 0.],\n",
      "       [0., 0.]])}, {'params': array([[ 0.001, -0.001]]), 'grad': array([[0., 0.]])}, {'params': array([[-0.54136358, -1.71867238],\n",
      "       [-0.57790879,  1.42794855]]), 'grad': array([[0., 0.],\n",
      "       [0., 0.]])}, {'params': array([[-0.001, -0.001]]), 'grad': array([[0, 0]])}, {'params': array([[0.2779969 , 0.78866713],\n",
      "       [0.32307411, 0.69939238]]), 'grad': array([[0., 0.],\n",
      "       [0., 0.]])}, {'params': array([[ 0.001, -0.001]]), 'grad': array([[0., 0.]])}]\n",
      "Before optimization: 0.2411980280531063\n",
      "After optimization: 0.24119802802541465\n",
      "After 0: 0.24119802802541465\n",
      "[{'params': array([[-0.99638233, -0.36963764],\n",
      "       [ 1.73519929,  0.59561279]]), 'grad': array([[0., 0.],\n",
      "       [0., 0.]])}, {'params': array([[ 0.00200003, -0.00200004]]), 'grad': array([[0., 0.]])}, {'params': array([[-0.54036362, -1.71767242],\n",
      "       [-0.57690864,  1.4289487 ]]), 'grad': array([[0., 0.],\n",
      "       [0., 0.]])}, {'params': array([[-0.002, -0.002]]), 'grad': array([[0, 0]])}, {'params': array([[0.27899681, 0.7876672 ],\n",
      "       [0.32407389, 0.69839257]]), 'grad': array([[0., 0.],\n",
      "       [0., 0.]])}, {'params': array([[ 0.00199999, -0.00200001]]), 'grad': array([[0., 0.]])}]\n",
      "Epoch 2\n",
      "[{'params': array([[-0.99638233, -0.36963764],\n",
      "       [ 1.73519929,  0.59561279]]), 'grad': array([[0., 0.],\n",
      "       [0., 0.]])}, {'params': array([[ 0.00200003, -0.00200004]]), 'grad': array([[0., 0.]])}, {'params': array([[-0.54036362, -1.71767242],\n",
      "       [-0.57690864,  1.4289487 ]]), 'grad': array([[0., 0.],\n",
      "       [0., 0.]])}, {'params': array([[-0.002, -0.002]]), 'grad': array([[0, 0]])}, {'params': array([[0.27899681, 0.7876672 ],\n",
      "       [0.32407389, 0.69839257]]), 'grad': array([[0., 0.],\n",
      "       [0., 0.]])}, {'params': array([[ 0.00199999, -0.00200001]]), 'grad': array([[0., 0.]])}]\n",
      "0.5\n",
      "Before backward: 0.24119802802541465\n",
      "[{'params': array([[-0.99638233, -0.36963764],\n",
      "       [ 1.73519929,  0.59561279]]), 'grad': array([[0., 0.],\n",
      "       [0., 0.]])}, {'params': array([[ 0.00200003, -0.00200004]]), 'grad': array([[0., 0.]])}, {'params': array([[-0.54036362, -1.71767242],\n",
      "       [-0.57690864,  1.4289487 ]]), 'grad': array([[0., 0.],\n",
      "       [0., 0.]])}, {'params': array([[-0.002, -0.002]]), 'grad': array([[0, 0]])}, {'params': array([[0.27899681, 0.7876672 ],\n",
      "       [0.32407389, 0.69839257]]), 'grad': array([[0., 0.],\n",
      "       [0., 0.]])}, {'params': array([[ 0.00199999, -0.00200001]]), 'grad': array([[0., 0.]])}]\n",
      "After backward: 0.24119802802541465\n",
      "[{'params': array([[-0.99638233, -0.36963764],\n",
      "       [ 1.73519929,  0.59561279]]), 'grad': array([[0., 0.],\n",
      "       [0., 0.]])}, {'params': array([[ 0.00200003, -0.00200004]]), 'grad': array([[0., 0.]])}, {'params': array([[-0.54036362, -1.71767242],\n",
      "       [-0.57690864,  1.4289487 ]]), 'grad': array([[0., 0.],\n",
      "       [0., 0.]])}, {'params': array([[-0.002, -0.002]]), 'grad': array([[0, 0]])}, {'params': array([[0.27899681, 0.7876672 ],\n",
      "       [0.32407389, 0.69839257]]), 'grad': array([[0., 0.],\n",
      "       [0., 0.]])}, {'params': array([[ 0.00199999, -0.00200001]]), 'grad': array([[0., 0.]])}]\n",
      "Before optimization: 0.24119802802541465\n",
      "After optimization: 0.24119802799774967\n",
      "After 0: 0.24119802799774967\n",
      "[{'params': array([[-0.99538225, -0.37063775],\n",
      "       [ 1.73419921,  0.5966129 ]]), 'grad': array([[0., 0.],\n",
      "       [0., 0.]])}, {'params': array([[ 0.00300011, -0.00300014]]), 'grad': array([[0., 0.]])}, {'params': array([[-0.53936373, -1.71667253],\n",
      "       [-0.57590826,  1.42994908]]), 'grad': array([[0., 0.],\n",
      "       [0., 0.]])}, {'params': array([[-0.003, -0.003]]), 'grad': array([[0, 0]])}, {'params': array([[0.27999659, 0.78666736],\n",
      "       [0.32507332, 0.69739308]]), 'grad': array([[0., 0.],\n",
      "       [0., 0.]])}, {'params': array([[ 0.00299997, -0.00300002]]), 'grad': array([[0., 0.]])}]\n"
     ]
    }
   ],
   "source": [
    "for i in range(3):\n",
    "    print('Epoch', i)\n",
    "    print(mlp.get_parameters())\n",
    "    y_pred = mlp.forward(x_train)\n",
    "    loss = opt_loss.forward(y_pred, y_train)\n",
    "    # y_pred[1:4], y_train[1:4], loss[1:4]\n",
    "    predicted_labels = np.argmax(y_pred, axis=1)\n",
    "    true_labels = np.argmax(y_train, axis=1)  # Adjust this line if train_y is not one-hot encoded\n",
    "    accuracy = np.sum(predicted_labels == true_labels) / len(x_train)\n",
    "    print(accuracy)\n",
    "    print(\"Before backward:\", mlp.layers[0].parameters[0]['params'].mean())\n",
    "    print(mlp.get_parameters())\n",
    "\n",
    "    dLdZ = opt_loss.backward(y_pred, y_train)\n",
    "    dLdZ[1:10]\n",
    "    dLdZ.shape\n",
    "    print(\"After backward:\", mlp.layers[0].parameters[0]['params'].mean())\n",
    "    print(mlp.get_parameters())\n",
    "    mlp.backward(dLdZ)\n",
    "    print(\"Before optimization:\", mlp.layers[0].parameters[0]['params'].mean())\n",
    "    opt_optim.step(mlp.get_parameters())\n",
    "    print(\"After optimization:\", mlp.layers[0].parameters[0]['params'].mean())\n",
    "    opt_optim.zero_grad(mlp.get_parameters())\n",
    "    print(\"After 0:\", mlp.layers[0].parameters[0]['params'].mean())\n",
    "    print(mlp.get_parameters())"
   ]
  },
  {
   "cell_type": "code",
   "execution_count": null,
   "metadata": {},
   "outputs": [],
   "source": []
  },
  {
   "cell_type": "code",
   "execution_count": null,
   "metadata": {},
   "outputs": [],
   "source": []
  }
 ],
 "metadata": {
  "kernelspec": {
   "display_name": "deep_learning",
   "language": "python",
   "name": "python3"
  },
  "language_info": {
   "codemirror_mode": {
    "name": "ipython",
    "version": 3
   },
   "file_extension": ".py",
   "mimetype": "text/x-python",
   "name": "python",
   "nbconvert_exporter": "python",
   "pygments_lexer": "ipython3",
   "version": "3.11.7"
  },
  "orig_nbformat": 4
 },
 "nbformat": 4,
 "nbformat_minor": 2
}
